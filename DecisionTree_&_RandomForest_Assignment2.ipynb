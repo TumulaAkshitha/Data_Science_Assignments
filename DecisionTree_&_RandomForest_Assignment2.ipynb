{
  "nbformat": 4,
  "nbformat_minor": 0,
  "metadata": {
    "colab": {
      "provenance": []
    },
    "kernelspec": {
      "name": "python3",
      "display_name": "Python 3"
    },
    "language_info": {
      "name": "python"
    }
  },
  "cells": [
    {
      "cell_type": "code",
      "execution_count": 1,
      "metadata": {
        "id": "ukUlc9vRhg20"
      },
      "outputs": [],
      "source": [
        "import pandas as pd\n",
        "import numpy as np\n",
        "import matplotlib.pyplot as plt\n",
        "import seaborn as sns"
      ]
    },
    {
      "cell_type": "code",
      "source": [
        "from google.colab import files\n",
        "uploaded=files.upload()"
      ],
      "metadata": {
        "colab": {
          "base_uri": "https://localhost:8080/",
          "height": 73
        },
        "id": "ifwVQO1th2db",
        "outputId": "0c5a5aeb-72ea-423e-fef6-518dca10861a"
      },
      "execution_count": 2,
      "outputs": [
        {
          "output_type": "display_data",
          "data": {
            "text/plain": [
              "<IPython.core.display.HTML object>"
            ],
            "text/html": [
              "\n",
              "     <input type=\"file\" id=\"files-30fbc9ef-b290-4fb5-b0ad-69470230e0db\" name=\"files[]\" multiple disabled\n",
              "        style=\"border:none\" />\n",
              "     <output id=\"result-30fbc9ef-b290-4fb5-b0ad-69470230e0db\">\n",
              "      Upload widget is only available when the cell has been executed in the\n",
              "      current browser session. Please rerun this cell to enable.\n",
              "      </output>\n",
              "      <script>// Copyright 2017 Google LLC\n",
              "//\n",
              "// Licensed under the Apache License, Version 2.0 (the \"License\");\n",
              "// you may not use this file except in compliance with the License.\n",
              "// You may obtain a copy of the License at\n",
              "//\n",
              "//      http://www.apache.org/licenses/LICENSE-2.0\n",
              "//\n",
              "// Unless required by applicable law or agreed to in writing, software\n",
              "// distributed under the License is distributed on an \"AS IS\" BASIS,\n",
              "// WITHOUT WARRANTIES OR CONDITIONS OF ANY KIND, either express or implied.\n",
              "// See the License for the specific language governing permissions and\n",
              "// limitations under the License.\n",
              "\n",
              "/**\n",
              " * @fileoverview Helpers for google.colab Python module.\n",
              " */\n",
              "(function(scope) {\n",
              "function span(text, styleAttributes = {}) {\n",
              "  const element = document.createElement('span');\n",
              "  element.textContent = text;\n",
              "  for (const key of Object.keys(styleAttributes)) {\n",
              "    element.style[key] = styleAttributes[key];\n",
              "  }\n",
              "  return element;\n",
              "}\n",
              "\n",
              "// Max number of bytes which will be uploaded at a time.\n",
              "const MAX_PAYLOAD_SIZE = 100 * 1024;\n",
              "\n",
              "function _uploadFiles(inputId, outputId) {\n",
              "  const steps = uploadFilesStep(inputId, outputId);\n",
              "  const outputElement = document.getElementById(outputId);\n",
              "  // Cache steps on the outputElement to make it available for the next call\n",
              "  // to uploadFilesContinue from Python.\n",
              "  outputElement.steps = steps;\n",
              "\n",
              "  return _uploadFilesContinue(outputId);\n",
              "}\n",
              "\n",
              "// This is roughly an async generator (not supported in the browser yet),\n",
              "// where there are multiple asynchronous steps and the Python side is going\n",
              "// to poll for completion of each step.\n",
              "// This uses a Promise to block the python side on completion of each step,\n",
              "// then passes the result of the previous step as the input to the next step.\n",
              "function _uploadFilesContinue(outputId) {\n",
              "  const outputElement = document.getElementById(outputId);\n",
              "  const steps = outputElement.steps;\n",
              "\n",
              "  const next = steps.next(outputElement.lastPromiseValue);\n",
              "  return Promise.resolve(next.value.promise).then((value) => {\n",
              "    // Cache the last promise value to make it available to the next\n",
              "    // step of the generator.\n",
              "    outputElement.lastPromiseValue = value;\n",
              "    return next.value.response;\n",
              "  });\n",
              "}\n",
              "\n",
              "/**\n",
              " * Generator function which is called between each async step of the upload\n",
              " * process.\n",
              " * @param {string} inputId Element ID of the input file picker element.\n",
              " * @param {string} outputId Element ID of the output display.\n",
              " * @return {!Iterable<!Object>} Iterable of next steps.\n",
              " */\n",
              "function* uploadFilesStep(inputId, outputId) {\n",
              "  const inputElement = document.getElementById(inputId);\n",
              "  inputElement.disabled = false;\n",
              "\n",
              "  const outputElement = document.getElementById(outputId);\n",
              "  outputElement.innerHTML = '';\n",
              "\n",
              "  const pickedPromise = new Promise((resolve) => {\n",
              "    inputElement.addEventListener('change', (e) => {\n",
              "      resolve(e.target.files);\n",
              "    });\n",
              "  });\n",
              "\n",
              "  const cancel = document.createElement('button');\n",
              "  inputElement.parentElement.appendChild(cancel);\n",
              "  cancel.textContent = 'Cancel upload';\n",
              "  const cancelPromise = new Promise((resolve) => {\n",
              "    cancel.onclick = () => {\n",
              "      resolve(null);\n",
              "    };\n",
              "  });\n",
              "\n",
              "  // Wait for the user to pick the files.\n",
              "  const files = yield {\n",
              "    promise: Promise.race([pickedPromise, cancelPromise]),\n",
              "    response: {\n",
              "      action: 'starting',\n",
              "    }\n",
              "  };\n",
              "\n",
              "  cancel.remove();\n",
              "\n",
              "  // Disable the input element since further picks are not allowed.\n",
              "  inputElement.disabled = true;\n",
              "\n",
              "  if (!files) {\n",
              "    return {\n",
              "      response: {\n",
              "        action: 'complete',\n",
              "      }\n",
              "    };\n",
              "  }\n",
              "\n",
              "  for (const file of files) {\n",
              "    const li = document.createElement('li');\n",
              "    li.append(span(file.name, {fontWeight: 'bold'}));\n",
              "    li.append(span(\n",
              "        `(${file.type || 'n/a'}) - ${file.size} bytes, ` +\n",
              "        `last modified: ${\n",
              "            file.lastModifiedDate ? file.lastModifiedDate.toLocaleDateString() :\n",
              "                                    'n/a'} - `));\n",
              "    const percent = span('0% done');\n",
              "    li.appendChild(percent);\n",
              "\n",
              "    outputElement.appendChild(li);\n",
              "\n",
              "    const fileDataPromise = new Promise((resolve) => {\n",
              "      const reader = new FileReader();\n",
              "      reader.onload = (e) => {\n",
              "        resolve(e.target.result);\n",
              "      };\n",
              "      reader.readAsArrayBuffer(file);\n",
              "    });\n",
              "    // Wait for the data to be ready.\n",
              "    let fileData = yield {\n",
              "      promise: fileDataPromise,\n",
              "      response: {\n",
              "        action: 'continue',\n",
              "      }\n",
              "    };\n",
              "\n",
              "    // Use a chunked sending to avoid message size limits. See b/62115660.\n",
              "    let position = 0;\n",
              "    do {\n",
              "      const length = Math.min(fileData.byteLength - position, MAX_PAYLOAD_SIZE);\n",
              "      const chunk = new Uint8Array(fileData, position, length);\n",
              "      position += length;\n",
              "\n",
              "      const base64 = btoa(String.fromCharCode.apply(null, chunk));\n",
              "      yield {\n",
              "        response: {\n",
              "          action: 'append',\n",
              "          file: file.name,\n",
              "          data: base64,\n",
              "        },\n",
              "      };\n",
              "\n",
              "      let percentDone = fileData.byteLength === 0 ?\n",
              "          100 :\n",
              "          Math.round((position / fileData.byteLength) * 100);\n",
              "      percent.textContent = `${percentDone}% done`;\n",
              "\n",
              "    } while (position < fileData.byteLength);\n",
              "  }\n",
              "\n",
              "  // All done.\n",
              "  yield {\n",
              "    response: {\n",
              "      action: 'complete',\n",
              "    }\n",
              "  };\n",
              "}\n",
              "\n",
              "scope.google = scope.google || {};\n",
              "scope.google.colab = scope.google.colab || {};\n",
              "scope.google.colab._files = {\n",
              "  _uploadFiles,\n",
              "  _uploadFilesContinue,\n",
              "};\n",
              "})(self);\n",
              "</script> "
            ]
          },
          "metadata": {}
        },
        {
          "output_type": "stream",
          "name": "stdout",
          "text": [
            "Saving Fraud_check.csv to Fraud_check.csv\n"
          ]
        }
      ]
    },
    {
      "cell_type": "code",
      "source": [
        "data=pd.read_csv(\"Fraud_check.csv\")"
      ],
      "metadata": {
        "id": "eGJ122hNiwAE"
      },
      "execution_count": 3,
      "outputs": []
    },
    {
      "cell_type": "code",
      "source": [
        "data.head(2)"
      ],
      "metadata": {
        "colab": {
          "base_uri": "https://localhost:8080/",
          "height": 112
        },
        "id": "VE9WmiomjCUz",
        "outputId": "2b5c39df-449f-46aa-8bc8-197f34ee32e4"
      },
      "execution_count": 4,
      "outputs": [
        {
          "output_type": "execute_result",
          "data": {
            "text/plain": [
              "  Undergrad Marital.Status  Taxable.Income  City.Population  Work.Experience  \\\n",
              "0        NO         Single           68833            50047               10   \n",
              "1       YES       Divorced           33700           134075               18   \n",
              "\n",
              "  Urban  \n",
              "0   YES  \n",
              "1   YES  "
            ],
            "text/html": [
              "\n",
              "  <div id=\"df-89caa586-5e6e-4f2a-9426-3c9744f63b15\">\n",
              "    <div class=\"colab-df-container\">\n",
              "      <div>\n",
              "<style scoped>\n",
              "    .dataframe tbody tr th:only-of-type {\n",
              "        vertical-align: middle;\n",
              "    }\n",
              "\n",
              "    .dataframe tbody tr th {\n",
              "        vertical-align: top;\n",
              "    }\n",
              "\n",
              "    .dataframe thead th {\n",
              "        text-align: right;\n",
              "    }\n",
              "</style>\n",
              "<table border=\"1\" class=\"dataframe\">\n",
              "  <thead>\n",
              "    <tr style=\"text-align: right;\">\n",
              "      <th></th>\n",
              "      <th>Undergrad</th>\n",
              "      <th>Marital.Status</th>\n",
              "      <th>Taxable.Income</th>\n",
              "      <th>City.Population</th>\n",
              "      <th>Work.Experience</th>\n",
              "      <th>Urban</th>\n",
              "    </tr>\n",
              "  </thead>\n",
              "  <tbody>\n",
              "    <tr>\n",
              "      <th>0</th>\n",
              "      <td>NO</td>\n",
              "      <td>Single</td>\n",
              "      <td>68833</td>\n",
              "      <td>50047</td>\n",
              "      <td>10</td>\n",
              "      <td>YES</td>\n",
              "    </tr>\n",
              "    <tr>\n",
              "      <th>1</th>\n",
              "      <td>YES</td>\n",
              "      <td>Divorced</td>\n",
              "      <td>33700</td>\n",
              "      <td>134075</td>\n",
              "      <td>18</td>\n",
              "      <td>YES</td>\n",
              "    </tr>\n",
              "  </tbody>\n",
              "</table>\n",
              "</div>\n",
              "      <button class=\"colab-df-convert\" onclick=\"convertToInteractive('df-89caa586-5e6e-4f2a-9426-3c9744f63b15')\"\n",
              "              title=\"Convert this dataframe to an interactive table.\"\n",
              "              style=\"display:none;\">\n",
              "        \n",
              "  <svg xmlns=\"http://www.w3.org/2000/svg\" height=\"24px\"viewBox=\"0 0 24 24\"\n",
              "       width=\"24px\">\n",
              "    <path d=\"M0 0h24v24H0V0z\" fill=\"none\"/>\n",
              "    <path d=\"M18.56 5.44l.94 2.06.94-2.06 2.06-.94-2.06-.94-.94-2.06-.94 2.06-2.06.94zm-11 1L8.5 8.5l.94-2.06 2.06-.94-2.06-.94L8.5 2.5l-.94 2.06-2.06.94zm10 10l.94 2.06.94-2.06 2.06-.94-2.06-.94-.94-2.06-.94 2.06-2.06.94z\"/><path d=\"M17.41 7.96l-1.37-1.37c-.4-.4-.92-.59-1.43-.59-.52 0-1.04.2-1.43.59L10.3 9.45l-7.72 7.72c-.78.78-.78 2.05 0 2.83L4 21.41c.39.39.9.59 1.41.59.51 0 1.02-.2 1.41-.59l7.78-7.78 2.81-2.81c.8-.78.8-2.07 0-2.86zM5.41 20L4 18.59l7.72-7.72 1.47 1.35L5.41 20z\"/>\n",
              "  </svg>\n",
              "      </button>\n",
              "      \n",
              "  <style>\n",
              "    .colab-df-container {\n",
              "      display:flex;\n",
              "      flex-wrap:wrap;\n",
              "      gap: 12px;\n",
              "    }\n",
              "\n",
              "    .colab-df-convert {\n",
              "      background-color: #E8F0FE;\n",
              "      border: none;\n",
              "      border-radius: 50%;\n",
              "      cursor: pointer;\n",
              "      display: none;\n",
              "      fill: #1967D2;\n",
              "      height: 32px;\n",
              "      padding: 0 0 0 0;\n",
              "      width: 32px;\n",
              "    }\n",
              "\n",
              "    .colab-df-convert:hover {\n",
              "      background-color: #E2EBFA;\n",
              "      box-shadow: 0px 1px 2px rgba(60, 64, 67, 0.3), 0px 1px 3px 1px rgba(60, 64, 67, 0.15);\n",
              "      fill: #174EA6;\n",
              "    }\n",
              "\n",
              "    [theme=dark] .colab-df-convert {\n",
              "      background-color: #3B4455;\n",
              "      fill: #D2E3FC;\n",
              "    }\n",
              "\n",
              "    [theme=dark] .colab-df-convert:hover {\n",
              "      background-color: #434B5C;\n",
              "      box-shadow: 0px 1px 3px 1px rgba(0, 0, 0, 0.15);\n",
              "      filter: drop-shadow(0px 1px 2px rgba(0, 0, 0, 0.3));\n",
              "      fill: #FFFFFF;\n",
              "    }\n",
              "  </style>\n",
              "\n",
              "      <script>\n",
              "        const buttonEl =\n",
              "          document.querySelector('#df-89caa586-5e6e-4f2a-9426-3c9744f63b15 button.colab-df-convert');\n",
              "        buttonEl.style.display =\n",
              "          google.colab.kernel.accessAllowed ? 'block' : 'none';\n",
              "\n",
              "        async function convertToInteractive(key) {\n",
              "          const element = document.querySelector('#df-89caa586-5e6e-4f2a-9426-3c9744f63b15');\n",
              "          const dataTable =\n",
              "            await google.colab.kernel.invokeFunction('convertToInteractive',\n",
              "                                                     [key], {});\n",
              "          if (!dataTable) return;\n",
              "\n",
              "          const docLinkHtml = 'Like what you see? Visit the ' +\n",
              "            '<a target=\"_blank\" href=https://colab.research.google.com/notebooks/data_table.ipynb>data table notebook</a>'\n",
              "            + ' to learn more about interactive tables.';\n",
              "          element.innerHTML = '';\n",
              "          dataTable['output_type'] = 'display_data';\n",
              "          await google.colab.output.renderOutput(dataTable, element);\n",
              "          const docLink = document.createElement('div');\n",
              "          docLink.innerHTML = docLinkHtml;\n",
              "          element.appendChild(docLink);\n",
              "        }\n",
              "      </script>\n",
              "    </div>\n",
              "  </div>\n",
              "  "
            ]
          },
          "metadata": {},
          "execution_count": 4
        }
      ]
    },
    {
      "cell_type": "code",
      "source": [
        "data.columns=['Undergrad',\t'Marital_Status',\t'Taxable_Income',\t'City_Population',\t'Work_Experience', 'Urban']"
      ],
      "metadata": {
        "id": "nNHe77h9jD4g"
      },
      "execution_count": 5,
      "outputs": []
    },
    {
      "cell_type": "code",
      "source": [
        "data.head(2)"
      ],
      "metadata": {
        "colab": {
          "base_uri": "https://localhost:8080/",
          "height": 112
        },
        "id": "PV2JcHZ9jhmI",
        "outputId": "77aea5fc-8de7-48f9-8dba-f79a978f60a9"
      },
      "execution_count": 6,
      "outputs": [
        {
          "output_type": "execute_result",
          "data": {
            "text/plain": [
              "  Undergrad Marital_Status  Taxable_Income  City_Population  Work_Experience  \\\n",
              "0        NO         Single           68833            50047               10   \n",
              "1       YES       Divorced           33700           134075               18   \n",
              "\n",
              "  Urban  \n",
              "0   YES  \n",
              "1   YES  "
            ],
            "text/html": [
              "\n",
              "  <div id=\"df-2c15a108-087b-496c-b080-9d1c5de410d2\">\n",
              "    <div class=\"colab-df-container\">\n",
              "      <div>\n",
              "<style scoped>\n",
              "    .dataframe tbody tr th:only-of-type {\n",
              "        vertical-align: middle;\n",
              "    }\n",
              "\n",
              "    .dataframe tbody tr th {\n",
              "        vertical-align: top;\n",
              "    }\n",
              "\n",
              "    .dataframe thead th {\n",
              "        text-align: right;\n",
              "    }\n",
              "</style>\n",
              "<table border=\"1\" class=\"dataframe\">\n",
              "  <thead>\n",
              "    <tr style=\"text-align: right;\">\n",
              "      <th></th>\n",
              "      <th>Undergrad</th>\n",
              "      <th>Marital_Status</th>\n",
              "      <th>Taxable_Income</th>\n",
              "      <th>City_Population</th>\n",
              "      <th>Work_Experience</th>\n",
              "      <th>Urban</th>\n",
              "    </tr>\n",
              "  </thead>\n",
              "  <tbody>\n",
              "    <tr>\n",
              "      <th>0</th>\n",
              "      <td>NO</td>\n",
              "      <td>Single</td>\n",
              "      <td>68833</td>\n",
              "      <td>50047</td>\n",
              "      <td>10</td>\n",
              "      <td>YES</td>\n",
              "    </tr>\n",
              "    <tr>\n",
              "      <th>1</th>\n",
              "      <td>YES</td>\n",
              "      <td>Divorced</td>\n",
              "      <td>33700</td>\n",
              "      <td>134075</td>\n",
              "      <td>18</td>\n",
              "      <td>YES</td>\n",
              "    </tr>\n",
              "  </tbody>\n",
              "</table>\n",
              "</div>\n",
              "      <button class=\"colab-df-convert\" onclick=\"convertToInteractive('df-2c15a108-087b-496c-b080-9d1c5de410d2')\"\n",
              "              title=\"Convert this dataframe to an interactive table.\"\n",
              "              style=\"display:none;\">\n",
              "        \n",
              "  <svg xmlns=\"http://www.w3.org/2000/svg\" height=\"24px\"viewBox=\"0 0 24 24\"\n",
              "       width=\"24px\">\n",
              "    <path d=\"M0 0h24v24H0V0z\" fill=\"none\"/>\n",
              "    <path d=\"M18.56 5.44l.94 2.06.94-2.06 2.06-.94-2.06-.94-.94-2.06-.94 2.06-2.06.94zm-11 1L8.5 8.5l.94-2.06 2.06-.94-2.06-.94L8.5 2.5l-.94 2.06-2.06.94zm10 10l.94 2.06.94-2.06 2.06-.94-2.06-.94-.94-2.06-.94 2.06-2.06.94z\"/><path d=\"M17.41 7.96l-1.37-1.37c-.4-.4-.92-.59-1.43-.59-.52 0-1.04.2-1.43.59L10.3 9.45l-7.72 7.72c-.78.78-.78 2.05 0 2.83L4 21.41c.39.39.9.59 1.41.59.51 0 1.02-.2 1.41-.59l7.78-7.78 2.81-2.81c.8-.78.8-2.07 0-2.86zM5.41 20L4 18.59l7.72-7.72 1.47 1.35L5.41 20z\"/>\n",
              "  </svg>\n",
              "      </button>\n",
              "      \n",
              "  <style>\n",
              "    .colab-df-container {\n",
              "      display:flex;\n",
              "      flex-wrap:wrap;\n",
              "      gap: 12px;\n",
              "    }\n",
              "\n",
              "    .colab-df-convert {\n",
              "      background-color: #E8F0FE;\n",
              "      border: none;\n",
              "      border-radius: 50%;\n",
              "      cursor: pointer;\n",
              "      display: none;\n",
              "      fill: #1967D2;\n",
              "      height: 32px;\n",
              "      padding: 0 0 0 0;\n",
              "      width: 32px;\n",
              "    }\n",
              "\n",
              "    .colab-df-convert:hover {\n",
              "      background-color: #E2EBFA;\n",
              "      box-shadow: 0px 1px 2px rgba(60, 64, 67, 0.3), 0px 1px 3px 1px rgba(60, 64, 67, 0.15);\n",
              "      fill: #174EA6;\n",
              "    }\n",
              "\n",
              "    [theme=dark] .colab-df-convert {\n",
              "      background-color: #3B4455;\n",
              "      fill: #D2E3FC;\n",
              "    }\n",
              "\n",
              "    [theme=dark] .colab-df-convert:hover {\n",
              "      background-color: #434B5C;\n",
              "      box-shadow: 0px 1px 3px 1px rgba(0, 0, 0, 0.15);\n",
              "      filter: drop-shadow(0px 1px 2px rgba(0, 0, 0, 0.3));\n",
              "      fill: #FFFFFF;\n",
              "    }\n",
              "  </style>\n",
              "\n",
              "      <script>\n",
              "        const buttonEl =\n",
              "          document.querySelector('#df-2c15a108-087b-496c-b080-9d1c5de410d2 button.colab-df-convert');\n",
              "        buttonEl.style.display =\n",
              "          google.colab.kernel.accessAllowed ? 'block' : 'none';\n",
              "\n",
              "        async function convertToInteractive(key) {\n",
              "          const element = document.querySelector('#df-2c15a108-087b-496c-b080-9d1c5de410d2');\n",
              "          const dataTable =\n",
              "            await google.colab.kernel.invokeFunction('convertToInteractive',\n",
              "                                                     [key], {});\n",
              "          if (!dataTable) return;\n",
              "\n",
              "          const docLinkHtml = 'Like what you see? Visit the ' +\n",
              "            '<a target=\"_blank\" href=https://colab.research.google.com/notebooks/data_table.ipynb>data table notebook</a>'\n",
              "            + ' to learn more about interactive tables.';\n",
              "          element.innerHTML = '';\n",
              "          dataTable['output_type'] = 'display_data';\n",
              "          await google.colab.output.renderOutput(dataTable, element);\n",
              "          const docLink = document.createElement('div');\n",
              "          docLink.innerHTML = docLinkHtml;\n",
              "          element.appendChild(docLink);\n",
              "        }\n",
              "      </script>\n",
              "    </div>\n",
              "  </div>\n",
              "  "
            ]
          },
          "metadata": {},
          "execution_count": 6
        }
      ]
    },
    {
      "cell_type": "code",
      "source": [
        "from sklearn.preprocessing import LabelEncoder"
      ],
      "metadata": {
        "id": "VfhnEOvQkIpm"
      },
      "execution_count": 7,
      "outputs": []
    },
    {
      "cell_type": "code",
      "source": [
        "data[['Urban', 'Marital_Status', 'Undergrad']]=data[['Urban', 'Marital_Status', 'Undergrad']].apply(LabelEncoder().fit_transform)"
      ],
      "metadata": {
        "id": "UlTjqF8-k7W7"
      },
      "execution_count": 8,
      "outputs": []
    },
    {
      "cell_type": "code",
      "source": [
        "\n",
        "data.head()"
      ],
      "metadata": {
        "colab": {
          "base_uri": "https://localhost:8080/",
          "height": 206
        },
        "id": "90dM1rKwlcnC",
        "outputId": "f6585b5f-bd43-4fdf-9905-eebdd9d25c63"
      },
      "execution_count": 9,
      "outputs": [
        {
          "output_type": "execute_result",
          "data": {
            "text/plain": [
              "   Undergrad  Marital_Status  Taxable_Income  City_Population  \\\n",
              "0          0               2           68833            50047   \n",
              "1          1               0           33700           134075   \n",
              "2          0               1           36925           160205   \n",
              "3          1               2           50190           193264   \n",
              "4          0               1           81002            27533   \n",
              "\n",
              "   Work_Experience  Urban  \n",
              "0               10      1  \n",
              "1               18      1  \n",
              "2               30      1  \n",
              "3               15      1  \n",
              "4               28      0  "
            ],
            "text/html": [
              "\n",
              "  <div id=\"df-8fe39a26-db7b-4aa9-b96e-30dd7675e6de\">\n",
              "    <div class=\"colab-df-container\">\n",
              "      <div>\n",
              "<style scoped>\n",
              "    .dataframe tbody tr th:only-of-type {\n",
              "        vertical-align: middle;\n",
              "    }\n",
              "\n",
              "    .dataframe tbody tr th {\n",
              "        vertical-align: top;\n",
              "    }\n",
              "\n",
              "    .dataframe thead th {\n",
              "        text-align: right;\n",
              "    }\n",
              "</style>\n",
              "<table border=\"1\" class=\"dataframe\">\n",
              "  <thead>\n",
              "    <tr style=\"text-align: right;\">\n",
              "      <th></th>\n",
              "      <th>Undergrad</th>\n",
              "      <th>Marital_Status</th>\n",
              "      <th>Taxable_Income</th>\n",
              "      <th>City_Population</th>\n",
              "      <th>Work_Experience</th>\n",
              "      <th>Urban</th>\n",
              "    </tr>\n",
              "  </thead>\n",
              "  <tbody>\n",
              "    <tr>\n",
              "      <th>0</th>\n",
              "      <td>0</td>\n",
              "      <td>2</td>\n",
              "      <td>68833</td>\n",
              "      <td>50047</td>\n",
              "      <td>10</td>\n",
              "      <td>1</td>\n",
              "    </tr>\n",
              "    <tr>\n",
              "      <th>1</th>\n",
              "      <td>1</td>\n",
              "      <td>0</td>\n",
              "      <td>33700</td>\n",
              "      <td>134075</td>\n",
              "      <td>18</td>\n",
              "      <td>1</td>\n",
              "    </tr>\n",
              "    <tr>\n",
              "      <th>2</th>\n",
              "      <td>0</td>\n",
              "      <td>1</td>\n",
              "      <td>36925</td>\n",
              "      <td>160205</td>\n",
              "      <td>30</td>\n",
              "      <td>1</td>\n",
              "    </tr>\n",
              "    <tr>\n",
              "      <th>3</th>\n",
              "      <td>1</td>\n",
              "      <td>2</td>\n",
              "      <td>50190</td>\n",
              "      <td>193264</td>\n",
              "      <td>15</td>\n",
              "      <td>1</td>\n",
              "    </tr>\n",
              "    <tr>\n",
              "      <th>4</th>\n",
              "      <td>0</td>\n",
              "      <td>1</td>\n",
              "      <td>81002</td>\n",
              "      <td>27533</td>\n",
              "      <td>28</td>\n",
              "      <td>0</td>\n",
              "    </tr>\n",
              "  </tbody>\n",
              "</table>\n",
              "</div>\n",
              "      <button class=\"colab-df-convert\" onclick=\"convertToInteractive('df-8fe39a26-db7b-4aa9-b96e-30dd7675e6de')\"\n",
              "              title=\"Convert this dataframe to an interactive table.\"\n",
              "              style=\"display:none;\">\n",
              "        \n",
              "  <svg xmlns=\"http://www.w3.org/2000/svg\" height=\"24px\"viewBox=\"0 0 24 24\"\n",
              "       width=\"24px\">\n",
              "    <path d=\"M0 0h24v24H0V0z\" fill=\"none\"/>\n",
              "    <path d=\"M18.56 5.44l.94 2.06.94-2.06 2.06-.94-2.06-.94-.94-2.06-.94 2.06-2.06.94zm-11 1L8.5 8.5l.94-2.06 2.06-.94-2.06-.94L8.5 2.5l-.94 2.06-2.06.94zm10 10l.94 2.06.94-2.06 2.06-.94-2.06-.94-.94-2.06-.94 2.06-2.06.94z\"/><path d=\"M17.41 7.96l-1.37-1.37c-.4-.4-.92-.59-1.43-.59-.52 0-1.04.2-1.43.59L10.3 9.45l-7.72 7.72c-.78.78-.78 2.05 0 2.83L4 21.41c.39.39.9.59 1.41.59.51 0 1.02-.2 1.41-.59l7.78-7.78 2.81-2.81c.8-.78.8-2.07 0-2.86zM5.41 20L4 18.59l7.72-7.72 1.47 1.35L5.41 20z\"/>\n",
              "  </svg>\n",
              "      </button>\n",
              "      \n",
              "  <style>\n",
              "    .colab-df-container {\n",
              "      display:flex;\n",
              "      flex-wrap:wrap;\n",
              "      gap: 12px;\n",
              "    }\n",
              "\n",
              "    .colab-df-convert {\n",
              "      background-color: #E8F0FE;\n",
              "      border: none;\n",
              "      border-radius: 50%;\n",
              "      cursor: pointer;\n",
              "      display: none;\n",
              "      fill: #1967D2;\n",
              "      height: 32px;\n",
              "      padding: 0 0 0 0;\n",
              "      width: 32px;\n",
              "    }\n",
              "\n",
              "    .colab-df-convert:hover {\n",
              "      background-color: #E2EBFA;\n",
              "      box-shadow: 0px 1px 2px rgba(60, 64, 67, 0.3), 0px 1px 3px 1px rgba(60, 64, 67, 0.15);\n",
              "      fill: #174EA6;\n",
              "    }\n",
              "\n",
              "    [theme=dark] .colab-df-convert {\n",
              "      background-color: #3B4455;\n",
              "      fill: #D2E3FC;\n",
              "    }\n",
              "\n",
              "    [theme=dark] .colab-df-convert:hover {\n",
              "      background-color: #434B5C;\n",
              "      box-shadow: 0px 1px 3px 1px rgba(0, 0, 0, 0.15);\n",
              "      filter: drop-shadow(0px 1px 2px rgba(0, 0, 0, 0.3));\n",
              "      fill: #FFFFFF;\n",
              "    }\n",
              "  </style>\n",
              "\n",
              "      <script>\n",
              "        const buttonEl =\n",
              "          document.querySelector('#df-8fe39a26-db7b-4aa9-b96e-30dd7675e6de button.colab-df-convert');\n",
              "        buttonEl.style.display =\n",
              "          google.colab.kernel.accessAllowed ? 'block' : 'none';\n",
              "\n",
              "        async function convertToInteractive(key) {\n",
              "          const element = document.querySelector('#df-8fe39a26-db7b-4aa9-b96e-30dd7675e6de');\n",
              "          const dataTable =\n",
              "            await google.colab.kernel.invokeFunction('convertToInteractive',\n",
              "                                                     [key], {});\n",
              "          if (!dataTable) return;\n",
              "\n",
              "          const docLinkHtml = 'Like what you see? Visit the ' +\n",
              "            '<a target=\"_blank\" href=https://colab.research.google.com/notebooks/data_table.ipynb>data table notebook</a>'\n",
              "            + ' to learn more about interactive tables.';\n",
              "          element.innerHTML = '';\n",
              "          dataTable['output_type'] = 'display_data';\n",
              "          await google.colab.output.renderOutput(dataTable, element);\n",
              "          const docLink = document.createElement('div');\n",
              "          docLink.innerHTML = docLinkHtml;\n",
              "          element.appendChild(docLink);\n",
              "        }\n",
              "      </script>\n",
              "    </div>\n",
              "  </div>\n",
              "  "
            ]
          },
          "metadata": {},
          "execution_count": 9
        }
      ]
    },
    {
      "cell_type": "code",
      "source": [
        "data.Taxable_Income.agg(['min','max'])"
      ],
      "metadata": {
        "colab": {
          "base_uri": "https://localhost:8080/"
        },
        "id": "0M0Ra09UoU-C",
        "outputId": "d9a63e1b-775e-4638-ce6f-f7f1948913b7"
      },
      "execution_count": 10,
      "outputs": [
        {
          "output_type": "execute_result",
          "data": {
            "text/plain": [
              "min    10003\n",
              "max    99619\n",
              "Name: Taxable_Income, dtype: int64"
            ]
          },
          "metadata": {},
          "execution_count": 10
        }
      ]
    },
    {
      "cell_type": "code",
      "source": [
        "data['Tax']=pd.cut(x=data.Taxable_Income, bins=[0,30000,100000], labels=['Risky', 'Good'])"
      ],
      "metadata": {
        "id": "7-9gvgEulf7v"
      },
      "execution_count": 11,
      "outputs": []
    },
    {
      "cell_type": "code",
      "source": [
        "data.head(1)"
      ],
      "metadata": {
        "colab": {
          "base_uri": "https://localhost:8080/",
          "height": 81
        },
        "id": "SUSk-BV8omDx",
        "outputId": "14cd7cd5-73e4-405a-f4ee-4682335cd312"
      },
      "execution_count": 12,
      "outputs": [
        {
          "output_type": "execute_result",
          "data": {
            "text/plain": [
              "   Undergrad  Marital_Status  Taxable_Income  City_Population  \\\n",
              "0          0               2           68833            50047   \n",
              "\n",
              "   Work_Experience  Urban   Tax  \n",
              "0               10      1  Good  "
            ],
            "text/html": [
              "\n",
              "  <div id=\"df-6bf81031-adc9-42a4-bd9e-f2224c205431\">\n",
              "    <div class=\"colab-df-container\">\n",
              "      <div>\n",
              "<style scoped>\n",
              "    .dataframe tbody tr th:only-of-type {\n",
              "        vertical-align: middle;\n",
              "    }\n",
              "\n",
              "    .dataframe tbody tr th {\n",
              "        vertical-align: top;\n",
              "    }\n",
              "\n",
              "    .dataframe thead th {\n",
              "        text-align: right;\n",
              "    }\n",
              "</style>\n",
              "<table border=\"1\" class=\"dataframe\">\n",
              "  <thead>\n",
              "    <tr style=\"text-align: right;\">\n",
              "      <th></th>\n",
              "      <th>Undergrad</th>\n",
              "      <th>Marital_Status</th>\n",
              "      <th>Taxable_Income</th>\n",
              "      <th>City_Population</th>\n",
              "      <th>Work_Experience</th>\n",
              "      <th>Urban</th>\n",
              "      <th>Tax</th>\n",
              "    </tr>\n",
              "  </thead>\n",
              "  <tbody>\n",
              "    <tr>\n",
              "      <th>0</th>\n",
              "      <td>0</td>\n",
              "      <td>2</td>\n",
              "      <td>68833</td>\n",
              "      <td>50047</td>\n",
              "      <td>10</td>\n",
              "      <td>1</td>\n",
              "      <td>Good</td>\n",
              "    </tr>\n",
              "  </tbody>\n",
              "</table>\n",
              "</div>\n",
              "      <button class=\"colab-df-convert\" onclick=\"convertToInteractive('df-6bf81031-adc9-42a4-bd9e-f2224c205431')\"\n",
              "              title=\"Convert this dataframe to an interactive table.\"\n",
              "              style=\"display:none;\">\n",
              "        \n",
              "  <svg xmlns=\"http://www.w3.org/2000/svg\" height=\"24px\"viewBox=\"0 0 24 24\"\n",
              "       width=\"24px\">\n",
              "    <path d=\"M0 0h24v24H0V0z\" fill=\"none\"/>\n",
              "    <path d=\"M18.56 5.44l.94 2.06.94-2.06 2.06-.94-2.06-.94-.94-2.06-.94 2.06-2.06.94zm-11 1L8.5 8.5l.94-2.06 2.06-.94-2.06-.94L8.5 2.5l-.94 2.06-2.06.94zm10 10l.94 2.06.94-2.06 2.06-.94-2.06-.94-.94-2.06-.94 2.06-2.06.94z\"/><path d=\"M17.41 7.96l-1.37-1.37c-.4-.4-.92-.59-1.43-.59-.52 0-1.04.2-1.43.59L10.3 9.45l-7.72 7.72c-.78.78-.78 2.05 0 2.83L4 21.41c.39.39.9.59 1.41.59.51 0 1.02-.2 1.41-.59l7.78-7.78 2.81-2.81c.8-.78.8-2.07 0-2.86zM5.41 20L4 18.59l7.72-7.72 1.47 1.35L5.41 20z\"/>\n",
              "  </svg>\n",
              "      </button>\n",
              "      \n",
              "  <style>\n",
              "    .colab-df-container {\n",
              "      display:flex;\n",
              "      flex-wrap:wrap;\n",
              "      gap: 12px;\n",
              "    }\n",
              "\n",
              "    .colab-df-convert {\n",
              "      background-color: #E8F0FE;\n",
              "      border: none;\n",
              "      border-radius: 50%;\n",
              "      cursor: pointer;\n",
              "      display: none;\n",
              "      fill: #1967D2;\n",
              "      height: 32px;\n",
              "      padding: 0 0 0 0;\n",
              "      width: 32px;\n",
              "    }\n",
              "\n",
              "    .colab-df-convert:hover {\n",
              "      background-color: #E2EBFA;\n",
              "      box-shadow: 0px 1px 2px rgba(60, 64, 67, 0.3), 0px 1px 3px 1px rgba(60, 64, 67, 0.15);\n",
              "      fill: #174EA6;\n",
              "    }\n",
              "\n",
              "    [theme=dark] .colab-df-convert {\n",
              "      background-color: #3B4455;\n",
              "      fill: #D2E3FC;\n",
              "    }\n",
              "\n",
              "    [theme=dark] .colab-df-convert:hover {\n",
              "      background-color: #434B5C;\n",
              "      box-shadow: 0px 1px 3px 1px rgba(0, 0, 0, 0.15);\n",
              "      filter: drop-shadow(0px 1px 2px rgba(0, 0, 0, 0.3));\n",
              "      fill: #FFFFFF;\n",
              "    }\n",
              "  </style>\n",
              "\n",
              "      <script>\n",
              "        const buttonEl =\n",
              "          document.querySelector('#df-6bf81031-adc9-42a4-bd9e-f2224c205431 button.colab-df-convert');\n",
              "        buttonEl.style.display =\n",
              "          google.colab.kernel.accessAllowed ? 'block' : 'none';\n",
              "\n",
              "        async function convertToInteractive(key) {\n",
              "          const element = document.querySelector('#df-6bf81031-adc9-42a4-bd9e-f2224c205431');\n",
              "          const dataTable =\n",
              "            await google.colab.kernel.invokeFunction('convertToInteractive',\n",
              "                                                     [key], {});\n",
              "          if (!dataTable) return;\n",
              "\n",
              "          const docLinkHtml = 'Like what you see? Visit the ' +\n",
              "            '<a target=\"_blank\" href=https://colab.research.google.com/notebooks/data_table.ipynb>data table notebook</a>'\n",
              "            + ' to learn more about interactive tables.';\n",
              "          element.innerHTML = '';\n",
              "          dataTable['output_type'] = 'display_data';\n",
              "          await google.colab.output.renderOutput(dataTable, element);\n",
              "          const docLink = document.createElement('div');\n",
              "          docLink.innerHTML = docLinkHtml;\n",
              "          element.appendChild(docLink);\n",
              "        }\n",
              "      </script>\n",
              "    </div>\n",
              "  </div>\n",
              "  "
            ]
          },
          "metadata": {},
          "execution_count": 12
        }
      ]
    },
    {
      "cell_type": "code",
      "source": [
        "data.Tax.value_counts()"
      ],
      "metadata": {
        "colab": {
          "base_uri": "https://localhost:8080/"
        },
        "id": "yYL5qMwexSMd",
        "outputId": "66a8f64a-4727-424b-a795-630a1d288887"
      },
      "execution_count": 13,
      "outputs": [
        {
          "output_type": "execute_result",
          "data": {
            "text/plain": [
              "Good     476\n",
              "Risky    124\n",
              "Name: Tax, dtype: int64"
            ]
          },
          "metadata": {},
          "execution_count": 13
        }
      ]
    },
    {
      "cell_type": "code",
      "source": [
        "data.tail()"
      ],
      "metadata": {
        "colab": {
          "base_uri": "https://localhost:8080/",
          "height": 206
        },
        "id": "SLRfw1m-zd4M",
        "outputId": "e42be95f-f212-4485-f16d-b668b7a12d88"
      },
      "execution_count": 14,
      "outputs": [
        {
          "output_type": "execute_result",
          "data": {
            "text/plain": [
              "     Undergrad  Marital_Status  Taxable_Income  City_Population  \\\n",
              "595          1               0           76340            39492   \n",
              "596          1               0           69967            55369   \n",
              "597          0               0           47334           154058   \n",
              "598          1               1           98592           180083   \n",
              "599          0               0           96519           158137   \n",
              "\n",
              "     Work_Experience  Urban   Tax  \n",
              "595                7      1  Good  \n",
              "596                2      1  Good  \n",
              "597                0      1  Good  \n",
              "598               17      0  Good  \n",
              "599               16      0  Good  "
            ],
            "text/html": [
              "\n",
              "  <div id=\"df-75920a77-b30f-4cbf-9ec0-c37e95709ba6\">\n",
              "    <div class=\"colab-df-container\">\n",
              "      <div>\n",
              "<style scoped>\n",
              "    .dataframe tbody tr th:only-of-type {\n",
              "        vertical-align: middle;\n",
              "    }\n",
              "\n",
              "    .dataframe tbody tr th {\n",
              "        vertical-align: top;\n",
              "    }\n",
              "\n",
              "    .dataframe thead th {\n",
              "        text-align: right;\n",
              "    }\n",
              "</style>\n",
              "<table border=\"1\" class=\"dataframe\">\n",
              "  <thead>\n",
              "    <tr style=\"text-align: right;\">\n",
              "      <th></th>\n",
              "      <th>Undergrad</th>\n",
              "      <th>Marital_Status</th>\n",
              "      <th>Taxable_Income</th>\n",
              "      <th>City_Population</th>\n",
              "      <th>Work_Experience</th>\n",
              "      <th>Urban</th>\n",
              "      <th>Tax</th>\n",
              "    </tr>\n",
              "  </thead>\n",
              "  <tbody>\n",
              "    <tr>\n",
              "      <th>595</th>\n",
              "      <td>1</td>\n",
              "      <td>0</td>\n",
              "      <td>76340</td>\n",
              "      <td>39492</td>\n",
              "      <td>7</td>\n",
              "      <td>1</td>\n",
              "      <td>Good</td>\n",
              "    </tr>\n",
              "    <tr>\n",
              "      <th>596</th>\n",
              "      <td>1</td>\n",
              "      <td>0</td>\n",
              "      <td>69967</td>\n",
              "      <td>55369</td>\n",
              "      <td>2</td>\n",
              "      <td>1</td>\n",
              "      <td>Good</td>\n",
              "    </tr>\n",
              "    <tr>\n",
              "      <th>597</th>\n",
              "      <td>0</td>\n",
              "      <td>0</td>\n",
              "      <td>47334</td>\n",
              "      <td>154058</td>\n",
              "      <td>0</td>\n",
              "      <td>1</td>\n",
              "      <td>Good</td>\n",
              "    </tr>\n",
              "    <tr>\n",
              "      <th>598</th>\n",
              "      <td>1</td>\n",
              "      <td>1</td>\n",
              "      <td>98592</td>\n",
              "      <td>180083</td>\n",
              "      <td>17</td>\n",
              "      <td>0</td>\n",
              "      <td>Good</td>\n",
              "    </tr>\n",
              "    <tr>\n",
              "      <th>599</th>\n",
              "      <td>0</td>\n",
              "      <td>0</td>\n",
              "      <td>96519</td>\n",
              "      <td>158137</td>\n",
              "      <td>16</td>\n",
              "      <td>0</td>\n",
              "      <td>Good</td>\n",
              "    </tr>\n",
              "  </tbody>\n",
              "</table>\n",
              "</div>\n",
              "      <button class=\"colab-df-convert\" onclick=\"convertToInteractive('df-75920a77-b30f-4cbf-9ec0-c37e95709ba6')\"\n",
              "              title=\"Convert this dataframe to an interactive table.\"\n",
              "              style=\"display:none;\">\n",
              "        \n",
              "  <svg xmlns=\"http://www.w3.org/2000/svg\" height=\"24px\"viewBox=\"0 0 24 24\"\n",
              "       width=\"24px\">\n",
              "    <path d=\"M0 0h24v24H0V0z\" fill=\"none\"/>\n",
              "    <path d=\"M18.56 5.44l.94 2.06.94-2.06 2.06-.94-2.06-.94-.94-2.06-.94 2.06-2.06.94zm-11 1L8.5 8.5l.94-2.06 2.06-.94-2.06-.94L8.5 2.5l-.94 2.06-2.06.94zm10 10l.94 2.06.94-2.06 2.06-.94-2.06-.94-.94-2.06-.94 2.06-2.06.94z\"/><path d=\"M17.41 7.96l-1.37-1.37c-.4-.4-.92-.59-1.43-.59-.52 0-1.04.2-1.43.59L10.3 9.45l-7.72 7.72c-.78.78-.78 2.05 0 2.83L4 21.41c.39.39.9.59 1.41.59.51 0 1.02-.2 1.41-.59l7.78-7.78 2.81-2.81c.8-.78.8-2.07 0-2.86zM5.41 20L4 18.59l7.72-7.72 1.47 1.35L5.41 20z\"/>\n",
              "  </svg>\n",
              "      </button>\n",
              "      \n",
              "  <style>\n",
              "    .colab-df-container {\n",
              "      display:flex;\n",
              "      flex-wrap:wrap;\n",
              "      gap: 12px;\n",
              "    }\n",
              "\n",
              "    .colab-df-convert {\n",
              "      background-color: #E8F0FE;\n",
              "      border: none;\n",
              "      border-radius: 50%;\n",
              "      cursor: pointer;\n",
              "      display: none;\n",
              "      fill: #1967D2;\n",
              "      height: 32px;\n",
              "      padding: 0 0 0 0;\n",
              "      width: 32px;\n",
              "    }\n",
              "\n",
              "    .colab-df-convert:hover {\n",
              "      background-color: #E2EBFA;\n",
              "      box-shadow: 0px 1px 2px rgba(60, 64, 67, 0.3), 0px 1px 3px 1px rgba(60, 64, 67, 0.15);\n",
              "      fill: #174EA6;\n",
              "    }\n",
              "\n",
              "    [theme=dark] .colab-df-convert {\n",
              "      background-color: #3B4455;\n",
              "      fill: #D2E3FC;\n",
              "    }\n",
              "\n",
              "    [theme=dark] .colab-df-convert:hover {\n",
              "      background-color: #434B5C;\n",
              "      box-shadow: 0px 1px 3px 1px rgba(0, 0, 0, 0.15);\n",
              "      filter: drop-shadow(0px 1px 2px rgba(0, 0, 0, 0.3));\n",
              "      fill: #FFFFFF;\n",
              "    }\n",
              "  </style>\n",
              "\n",
              "      <script>\n",
              "        const buttonEl =\n",
              "          document.querySelector('#df-75920a77-b30f-4cbf-9ec0-c37e95709ba6 button.colab-df-convert');\n",
              "        buttonEl.style.display =\n",
              "          google.colab.kernel.accessAllowed ? 'block' : 'none';\n",
              "\n",
              "        async function convertToInteractive(key) {\n",
              "          const element = document.querySelector('#df-75920a77-b30f-4cbf-9ec0-c37e95709ba6');\n",
              "          const dataTable =\n",
              "            await google.colab.kernel.invokeFunction('convertToInteractive',\n",
              "                                                     [key], {});\n",
              "          if (!dataTable) return;\n",
              "\n",
              "          const docLinkHtml = 'Like what you see? Visit the ' +\n",
              "            '<a target=\"_blank\" href=https://colab.research.google.com/notebooks/data_table.ipynb>data table notebook</a>'\n",
              "            + ' to learn more about interactive tables.';\n",
              "          element.innerHTML = '';\n",
              "          dataTable['output_type'] = 'display_data';\n",
              "          await google.colab.output.renderOutput(dataTable, element);\n",
              "          const docLink = document.createElement('div');\n",
              "          docLink.innerHTML = docLinkHtml;\n",
              "          element.appendChild(docLink);\n",
              "        }\n",
              "      </script>\n",
              "    </div>\n",
              "  </div>\n",
              "  "
            ]
          },
          "metadata": {},
          "execution_count": 14
        }
      ]
    },
    {
      "cell_type": "code",
      "source": [
        "data.Tax.value_counts()"
      ],
      "metadata": {
        "colab": {
          "base_uri": "https://localhost:8080/"
        },
        "id": "2ld-IQrExq7m",
        "outputId": "1b8010fc-1be4-43f1-c82e-91f963f064fd"
      },
      "execution_count": 15,
      "outputs": [
        {
          "output_type": "execute_result",
          "data": {
            "text/plain": [
              "Good     476\n",
              "Risky    124\n",
              "Name: Tax, dtype: int64"
            ]
          },
          "metadata": {},
          "execution_count": 15
        }
      ]
    },
    {
      "cell_type": "code",
      "source": [
        "data = pd.get_dummies(data,columns = [\"Tax\"], drop_first=True)\n"
      ],
      "metadata": {
        "id": "ejFKjIFv0tNF"
      },
      "execution_count": 16,
      "outputs": []
    },
    {
      "cell_type": "code",
      "source": [
        "data.head()"
      ],
      "metadata": {
        "colab": {
          "base_uri": "https://localhost:8080/",
          "height": 206
        },
        "id": "_eGJsLx44hf9",
        "outputId": "5f890fbc-3e0d-45d7-c34d-49d7e8759f67"
      },
      "execution_count": 17,
      "outputs": [
        {
          "output_type": "execute_result",
          "data": {
            "text/plain": [
              "   Undergrad  Marital_Status  Taxable_Income  City_Population  \\\n",
              "0          0               2           68833            50047   \n",
              "1          1               0           33700           134075   \n",
              "2          0               1           36925           160205   \n",
              "3          1               2           50190           193264   \n",
              "4          0               1           81002            27533   \n",
              "\n",
              "   Work_Experience  Urban  Tax_Good  \n",
              "0               10      1         1  \n",
              "1               18      1         1  \n",
              "2               30      1         1  \n",
              "3               15      1         1  \n",
              "4               28      0         1  "
            ],
            "text/html": [
              "\n",
              "  <div id=\"df-1e2d5173-c869-494d-ab91-cdb0ad0a890d\">\n",
              "    <div class=\"colab-df-container\">\n",
              "      <div>\n",
              "<style scoped>\n",
              "    .dataframe tbody tr th:only-of-type {\n",
              "        vertical-align: middle;\n",
              "    }\n",
              "\n",
              "    .dataframe tbody tr th {\n",
              "        vertical-align: top;\n",
              "    }\n",
              "\n",
              "    .dataframe thead th {\n",
              "        text-align: right;\n",
              "    }\n",
              "</style>\n",
              "<table border=\"1\" class=\"dataframe\">\n",
              "  <thead>\n",
              "    <tr style=\"text-align: right;\">\n",
              "      <th></th>\n",
              "      <th>Undergrad</th>\n",
              "      <th>Marital_Status</th>\n",
              "      <th>Taxable_Income</th>\n",
              "      <th>City_Population</th>\n",
              "      <th>Work_Experience</th>\n",
              "      <th>Urban</th>\n",
              "      <th>Tax_Good</th>\n",
              "    </tr>\n",
              "  </thead>\n",
              "  <tbody>\n",
              "    <tr>\n",
              "      <th>0</th>\n",
              "      <td>0</td>\n",
              "      <td>2</td>\n",
              "      <td>68833</td>\n",
              "      <td>50047</td>\n",
              "      <td>10</td>\n",
              "      <td>1</td>\n",
              "      <td>1</td>\n",
              "    </tr>\n",
              "    <tr>\n",
              "      <th>1</th>\n",
              "      <td>1</td>\n",
              "      <td>0</td>\n",
              "      <td>33700</td>\n",
              "      <td>134075</td>\n",
              "      <td>18</td>\n",
              "      <td>1</td>\n",
              "      <td>1</td>\n",
              "    </tr>\n",
              "    <tr>\n",
              "      <th>2</th>\n",
              "      <td>0</td>\n",
              "      <td>1</td>\n",
              "      <td>36925</td>\n",
              "      <td>160205</td>\n",
              "      <td>30</td>\n",
              "      <td>1</td>\n",
              "      <td>1</td>\n",
              "    </tr>\n",
              "    <tr>\n",
              "      <th>3</th>\n",
              "      <td>1</td>\n",
              "      <td>2</td>\n",
              "      <td>50190</td>\n",
              "      <td>193264</td>\n",
              "      <td>15</td>\n",
              "      <td>1</td>\n",
              "      <td>1</td>\n",
              "    </tr>\n",
              "    <tr>\n",
              "      <th>4</th>\n",
              "      <td>0</td>\n",
              "      <td>1</td>\n",
              "      <td>81002</td>\n",
              "      <td>27533</td>\n",
              "      <td>28</td>\n",
              "      <td>0</td>\n",
              "      <td>1</td>\n",
              "    </tr>\n",
              "  </tbody>\n",
              "</table>\n",
              "</div>\n",
              "      <button class=\"colab-df-convert\" onclick=\"convertToInteractive('df-1e2d5173-c869-494d-ab91-cdb0ad0a890d')\"\n",
              "              title=\"Convert this dataframe to an interactive table.\"\n",
              "              style=\"display:none;\">\n",
              "        \n",
              "  <svg xmlns=\"http://www.w3.org/2000/svg\" height=\"24px\"viewBox=\"0 0 24 24\"\n",
              "       width=\"24px\">\n",
              "    <path d=\"M0 0h24v24H0V0z\" fill=\"none\"/>\n",
              "    <path d=\"M18.56 5.44l.94 2.06.94-2.06 2.06-.94-2.06-.94-.94-2.06-.94 2.06-2.06.94zm-11 1L8.5 8.5l.94-2.06 2.06-.94-2.06-.94L8.5 2.5l-.94 2.06-2.06.94zm10 10l.94 2.06.94-2.06 2.06-.94-2.06-.94-.94-2.06-.94 2.06-2.06.94z\"/><path d=\"M17.41 7.96l-1.37-1.37c-.4-.4-.92-.59-1.43-.59-.52 0-1.04.2-1.43.59L10.3 9.45l-7.72 7.72c-.78.78-.78 2.05 0 2.83L4 21.41c.39.39.9.59 1.41.59.51 0 1.02-.2 1.41-.59l7.78-7.78 2.81-2.81c.8-.78.8-2.07 0-2.86zM5.41 20L4 18.59l7.72-7.72 1.47 1.35L5.41 20z\"/>\n",
              "  </svg>\n",
              "      </button>\n",
              "      \n",
              "  <style>\n",
              "    .colab-df-container {\n",
              "      display:flex;\n",
              "      flex-wrap:wrap;\n",
              "      gap: 12px;\n",
              "    }\n",
              "\n",
              "    .colab-df-convert {\n",
              "      background-color: #E8F0FE;\n",
              "      border: none;\n",
              "      border-radius: 50%;\n",
              "      cursor: pointer;\n",
              "      display: none;\n",
              "      fill: #1967D2;\n",
              "      height: 32px;\n",
              "      padding: 0 0 0 0;\n",
              "      width: 32px;\n",
              "    }\n",
              "\n",
              "    .colab-df-convert:hover {\n",
              "      background-color: #E2EBFA;\n",
              "      box-shadow: 0px 1px 2px rgba(60, 64, 67, 0.3), 0px 1px 3px 1px rgba(60, 64, 67, 0.15);\n",
              "      fill: #174EA6;\n",
              "    }\n",
              "\n",
              "    [theme=dark] .colab-df-convert {\n",
              "      background-color: #3B4455;\n",
              "      fill: #D2E3FC;\n",
              "    }\n",
              "\n",
              "    [theme=dark] .colab-df-convert:hover {\n",
              "      background-color: #434B5C;\n",
              "      box-shadow: 0px 1px 3px 1px rgba(0, 0, 0, 0.15);\n",
              "      filter: drop-shadow(0px 1px 2px rgba(0, 0, 0, 0.3));\n",
              "      fill: #FFFFFF;\n",
              "    }\n",
              "  </style>\n",
              "\n",
              "      <script>\n",
              "        const buttonEl =\n",
              "          document.querySelector('#df-1e2d5173-c869-494d-ab91-cdb0ad0a890d button.colab-df-convert');\n",
              "        buttonEl.style.display =\n",
              "          google.colab.kernel.accessAllowed ? 'block' : 'none';\n",
              "\n",
              "        async function convertToInteractive(key) {\n",
              "          const element = document.querySelector('#df-1e2d5173-c869-494d-ab91-cdb0ad0a890d');\n",
              "          const dataTable =\n",
              "            await google.colab.kernel.invokeFunction('convertToInteractive',\n",
              "                                                     [key], {});\n",
              "          if (!dataTable) return;\n",
              "\n",
              "          const docLinkHtml = 'Like what you see? Visit the ' +\n",
              "            '<a target=\"_blank\" href=https://colab.research.google.com/notebooks/data_table.ipynb>data table notebook</a>'\n",
              "            + ' to learn more about interactive tables.';\n",
              "          element.innerHTML = '';\n",
              "          dataTable['output_type'] = 'display_data';\n",
              "          await google.colab.output.renderOutput(dataTable, element);\n",
              "          const docLink = document.createElement('div');\n",
              "          docLink.innerHTML = docLinkHtml;\n",
              "          element.appendChild(docLink);\n",
              "        }\n",
              "      </script>\n",
              "    </div>\n",
              "  </div>\n",
              "  "
            ]
          },
          "metadata": {},
          "execution_count": 17
        }
      ]
    },
    {
      "cell_type": "code",
      "source": [
        "data.Tax_Good.value_counts()\n",
        "\n",
        "#Good=1\n",
        "#Risky=0"
      ],
      "metadata": {
        "colab": {
          "base_uri": "https://localhost:8080/"
        },
        "id": "G2aEqI5p4mQR",
        "outputId": "823364c6-b69a-42ab-fde8-06d3bb15de5d"
      },
      "execution_count": 18,
      "outputs": [
        {
          "output_type": "execute_result",
          "data": {
            "text/plain": [
              "1    476\n",
              "0    124\n",
              "Name: Tax_Good, dtype: int64"
            ]
          },
          "metadata": {},
          "execution_count": 18
        }
      ]
    },
    {
      "cell_type": "code",
      "source": [
        "\n",
        "data.drop(columns='Taxable_Income', axis=1, inplace=True)"
      ],
      "metadata": {
        "id": "u_GeYmjgrdbB"
      },
      "execution_count": 19,
      "outputs": []
    },
    {
      "cell_type": "code",
      "source": [
        "data.head()"
      ],
      "metadata": {
        "colab": {
          "base_uri": "https://localhost:8080/",
          "height": 206
        },
        "id": "1n1p5KTtsA6P",
        "outputId": "58cb5094-269e-43ea-c830-503bbf9ca784"
      },
      "execution_count": 20,
      "outputs": [
        {
          "output_type": "execute_result",
          "data": {
            "text/plain": [
              "   Undergrad  Marital_Status  City_Population  Work_Experience  Urban  \\\n",
              "0          0               2            50047               10      1   \n",
              "1          1               0           134075               18      1   \n",
              "2          0               1           160205               30      1   \n",
              "3          1               2           193264               15      1   \n",
              "4          0               1            27533               28      0   \n",
              "\n",
              "   Tax_Good  \n",
              "0         1  \n",
              "1         1  \n",
              "2         1  \n",
              "3         1  \n",
              "4         1  "
            ],
            "text/html": [
              "\n",
              "  <div id=\"df-f6b73706-647c-4921-b9fe-ae7e0bf1c356\">\n",
              "    <div class=\"colab-df-container\">\n",
              "      <div>\n",
              "<style scoped>\n",
              "    .dataframe tbody tr th:only-of-type {\n",
              "        vertical-align: middle;\n",
              "    }\n",
              "\n",
              "    .dataframe tbody tr th {\n",
              "        vertical-align: top;\n",
              "    }\n",
              "\n",
              "    .dataframe thead th {\n",
              "        text-align: right;\n",
              "    }\n",
              "</style>\n",
              "<table border=\"1\" class=\"dataframe\">\n",
              "  <thead>\n",
              "    <tr style=\"text-align: right;\">\n",
              "      <th></th>\n",
              "      <th>Undergrad</th>\n",
              "      <th>Marital_Status</th>\n",
              "      <th>City_Population</th>\n",
              "      <th>Work_Experience</th>\n",
              "      <th>Urban</th>\n",
              "      <th>Tax_Good</th>\n",
              "    </tr>\n",
              "  </thead>\n",
              "  <tbody>\n",
              "    <tr>\n",
              "      <th>0</th>\n",
              "      <td>0</td>\n",
              "      <td>2</td>\n",
              "      <td>50047</td>\n",
              "      <td>10</td>\n",
              "      <td>1</td>\n",
              "      <td>1</td>\n",
              "    </tr>\n",
              "    <tr>\n",
              "      <th>1</th>\n",
              "      <td>1</td>\n",
              "      <td>0</td>\n",
              "      <td>134075</td>\n",
              "      <td>18</td>\n",
              "      <td>1</td>\n",
              "      <td>1</td>\n",
              "    </tr>\n",
              "    <tr>\n",
              "      <th>2</th>\n",
              "      <td>0</td>\n",
              "      <td>1</td>\n",
              "      <td>160205</td>\n",
              "      <td>30</td>\n",
              "      <td>1</td>\n",
              "      <td>1</td>\n",
              "    </tr>\n",
              "    <tr>\n",
              "      <th>3</th>\n",
              "      <td>1</td>\n",
              "      <td>2</td>\n",
              "      <td>193264</td>\n",
              "      <td>15</td>\n",
              "      <td>1</td>\n",
              "      <td>1</td>\n",
              "    </tr>\n",
              "    <tr>\n",
              "      <th>4</th>\n",
              "      <td>0</td>\n",
              "      <td>1</td>\n",
              "      <td>27533</td>\n",
              "      <td>28</td>\n",
              "      <td>0</td>\n",
              "      <td>1</td>\n",
              "    </tr>\n",
              "  </tbody>\n",
              "</table>\n",
              "</div>\n",
              "      <button class=\"colab-df-convert\" onclick=\"convertToInteractive('df-f6b73706-647c-4921-b9fe-ae7e0bf1c356')\"\n",
              "              title=\"Convert this dataframe to an interactive table.\"\n",
              "              style=\"display:none;\">\n",
              "        \n",
              "  <svg xmlns=\"http://www.w3.org/2000/svg\" height=\"24px\"viewBox=\"0 0 24 24\"\n",
              "       width=\"24px\">\n",
              "    <path d=\"M0 0h24v24H0V0z\" fill=\"none\"/>\n",
              "    <path d=\"M18.56 5.44l.94 2.06.94-2.06 2.06-.94-2.06-.94-.94-2.06-.94 2.06-2.06.94zm-11 1L8.5 8.5l.94-2.06 2.06-.94-2.06-.94L8.5 2.5l-.94 2.06-2.06.94zm10 10l.94 2.06.94-2.06 2.06-.94-2.06-.94-.94-2.06-.94 2.06-2.06.94z\"/><path d=\"M17.41 7.96l-1.37-1.37c-.4-.4-.92-.59-1.43-.59-.52 0-1.04.2-1.43.59L10.3 9.45l-7.72 7.72c-.78.78-.78 2.05 0 2.83L4 21.41c.39.39.9.59 1.41.59.51 0 1.02-.2 1.41-.59l7.78-7.78 2.81-2.81c.8-.78.8-2.07 0-2.86zM5.41 20L4 18.59l7.72-7.72 1.47 1.35L5.41 20z\"/>\n",
              "  </svg>\n",
              "      </button>\n",
              "      \n",
              "  <style>\n",
              "    .colab-df-container {\n",
              "      display:flex;\n",
              "      flex-wrap:wrap;\n",
              "      gap: 12px;\n",
              "    }\n",
              "\n",
              "    .colab-df-convert {\n",
              "      background-color: #E8F0FE;\n",
              "      border: none;\n",
              "      border-radius: 50%;\n",
              "      cursor: pointer;\n",
              "      display: none;\n",
              "      fill: #1967D2;\n",
              "      height: 32px;\n",
              "      padding: 0 0 0 0;\n",
              "      width: 32px;\n",
              "    }\n",
              "\n",
              "    .colab-df-convert:hover {\n",
              "      background-color: #E2EBFA;\n",
              "      box-shadow: 0px 1px 2px rgba(60, 64, 67, 0.3), 0px 1px 3px 1px rgba(60, 64, 67, 0.15);\n",
              "      fill: #174EA6;\n",
              "    }\n",
              "\n",
              "    [theme=dark] .colab-df-convert {\n",
              "      background-color: #3B4455;\n",
              "      fill: #D2E3FC;\n",
              "    }\n",
              "\n",
              "    [theme=dark] .colab-df-convert:hover {\n",
              "      background-color: #434B5C;\n",
              "      box-shadow: 0px 1px 3px 1px rgba(0, 0, 0, 0.15);\n",
              "      filter: drop-shadow(0px 1px 2px rgba(0, 0, 0, 0.3));\n",
              "      fill: #FFFFFF;\n",
              "    }\n",
              "  </style>\n",
              "\n",
              "      <script>\n",
              "        const buttonEl =\n",
              "          document.querySelector('#df-f6b73706-647c-4921-b9fe-ae7e0bf1c356 button.colab-df-convert');\n",
              "        buttonEl.style.display =\n",
              "          google.colab.kernel.accessAllowed ? 'block' : 'none';\n",
              "\n",
              "        async function convertToInteractive(key) {\n",
              "          const element = document.querySelector('#df-f6b73706-647c-4921-b9fe-ae7e0bf1c356');\n",
              "          const dataTable =\n",
              "            await google.colab.kernel.invokeFunction('convertToInteractive',\n",
              "                                                     [key], {});\n",
              "          if (!dataTable) return;\n",
              "\n",
              "          const docLinkHtml = 'Like what you see? Visit the ' +\n",
              "            '<a target=\"_blank\" href=https://colab.research.google.com/notebooks/data_table.ipynb>data table notebook</a>'\n",
              "            + ' to learn more about interactive tables.';\n",
              "          element.innerHTML = '';\n",
              "          dataTable['output_type'] = 'display_data';\n",
              "          await google.colab.output.renderOutput(dataTable, element);\n",
              "          const docLink = document.createElement('div');\n",
              "          docLink.innerHTML = docLinkHtml;\n",
              "          element.appendChild(docLink);\n",
              "        }\n",
              "      </script>\n",
              "    </div>\n",
              "  </div>\n",
              "  "
            ]
          },
          "metadata": {},
          "execution_count": 20
        }
      ]
    },
    {
      "cell_type": "code",
      "source": [
        "#let us normalizing our data, if we use MinMax scaler all the values will be in between 0 to 1\n",
        "from sklearn.preprocessing import MinMaxScaler\n",
        "scaler=MinMaxScaler()\n",
        "scaled_data=scaler.fit_transform(data)"
      ],
      "metadata": {
        "id": "veTIk1-4pRxE"
      },
      "execution_count": 21,
      "outputs": []
    },
    {
      "cell_type": "code",
      "source": [
        "scaled_data=pd.DataFrame(scaled_data)\n",
        "\n",
        "scaled_data.columns=['Undergrad'\t,'Marital_Status' ,'City_Population',\t'Work_Experience'\t,'Urban', 'Tax']\n",
        "scaled_data.head()"
      ],
      "metadata": {
        "colab": {
          "base_uri": "https://localhost:8080/",
          "height": 206
        },
        "id": "eESDhHoZpwbt",
        "outputId": "785964d7-1821-492e-e19e-897859f6a31f"
      },
      "execution_count": 22,
      "outputs": [
        {
          "output_type": "execute_result",
          "data": {
            "text/plain": [
              "   Undergrad  Marital_Status  City_Population  Work_Experience  Urban  Tax\n",
              "0        0.0             1.0         0.139472         0.333333    1.0  1.0\n",
              "1        1.0             0.0         0.622394         0.600000    1.0  1.0\n",
              "2        0.0             0.5         0.772568         1.000000    1.0  1.0\n",
              "3        1.0             1.0         0.962563         0.500000    1.0  1.0\n",
              "4        0.0             0.5         0.010081         0.933333    0.0  1.0"
            ],
            "text/html": [
              "\n",
              "  <div id=\"df-76f63f0f-ae63-421a-9f3e-5fbe68a9f700\">\n",
              "    <div class=\"colab-df-container\">\n",
              "      <div>\n",
              "<style scoped>\n",
              "    .dataframe tbody tr th:only-of-type {\n",
              "        vertical-align: middle;\n",
              "    }\n",
              "\n",
              "    .dataframe tbody tr th {\n",
              "        vertical-align: top;\n",
              "    }\n",
              "\n",
              "    .dataframe thead th {\n",
              "        text-align: right;\n",
              "    }\n",
              "</style>\n",
              "<table border=\"1\" class=\"dataframe\">\n",
              "  <thead>\n",
              "    <tr style=\"text-align: right;\">\n",
              "      <th></th>\n",
              "      <th>Undergrad</th>\n",
              "      <th>Marital_Status</th>\n",
              "      <th>City_Population</th>\n",
              "      <th>Work_Experience</th>\n",
              "      <th>Urban</th>\n",
              "      <th>Tax</th>\n",
              "    </tr>\n",
              "  </thead>\n",
              "  <tbody>\n",
              "    <tr>\n",
              "      <th>0</th>\n",
              "      <td>0.0</td>\n",
              "      <td>1.0</td>\n",
              "      <td>0.139472</td>\n",
              "      <td>0.333333</td>\n",
              "      <td>1.0</td>\n",
              "      <td>1.0</td>\n",
              "    </tr>\n",
              "    <tr>\n",
              "      <th>1</th>\n",
              "      <td>1.0</td>\n",
              "      <td>0.0</td>\n",
              "      <td>0.622394</td>\n",
              "      <td>0.600000</td>\n",
              "      <td>1.0</td>\n",
              "      <td>1.0</td>\n",
              "    </tr>\n",
              "    <tr>\n",
              "      <th>2</th>\n",
              "      <td>0.0</td>\n",
              "      <td>0.5</td>\n",
              "      <td>0.772568</td>\n",
              "      <td>1.000000</td>\n",
              "      <td>1.0</td>\n",
              "      <td>1.0</td>\n",
              "    </tr>\n",
              "    <tr>\n",
              "      <th>3</th>\n",
              "      <td>1.0</td>\n",
              "      <td>1.0</td>\n",
              "      <td>0.962563</td>\n",
              "      <td>0.500000</td>\n",
              "      <td>1.0</td>\n",
              "      <td>1.0</td>\n",
              "    </tr>\n",
              "    <tr>\n",
              "      <th>4</th>\n",
              "      <td>0.0</td>\n",
              "      <td>0.5</td>\n",
              "      <td>0.010081</td>\n",
              "      <td>0.933333</td>\n",
              "      <td>0.0</td>\n",
              "      <td>1.0</td>\n",
              "    </tr>\n",
              "  </tbody>\n",
              "</table>\n",
              "</div>\n",
              "      <button class=\"colab-df-convert\" onclick=\"convertToInteractive('df-76f63f0f-ae63-421a-9f3e-5fbe68a9f700')\"\n",
              "              title=\"Convert this dataframe to an interactive table.\"\n",
              "              style=\"display:none;\">\n",
              "        \n",
              "  <svg xmlns=\"http://www.w3.org/2000/svg\" height=\"24px\"viewBox=\"0 0 24 24\"\n",
              "       width=\"24px\">\n",
              "    <path d=\"M0 0h24v24H0V0z\" fill=\"none\"/>\n",
              "    <path d=\"M18.56 5.44l.94 2.06.94-2.06 2.06-.94-2.06-.94-.94-2.06-.94 2.06-2.06.94zm-11 1L8.5 8.5l.94-2.06 2.06-.94-2.06-.94L8.5 2.5l-.94 2.06-2.06.94zm10 10l.94 2.06.94-2.06 2.06-.94-2.06-.94-.94-2.06-.94 2.06-2.06.94z\"/><path d=\"M17.41 7.96l-1.37-1.37c-.4-.4-.92-.59-1.43-.59-.52 0-1.04.2-1.43.59L10.3 9.45l-7.72 7.72c-.78.78-.78 2.05 0 2.83L4 21.41c.39.39.9.59 1.41.59.51 0 1.02-.2 1.41-.59l7.78-7.78 2.81-2.81c.8-.78.8-2.07 0-2.86zM5.41 20L4 18.59l7.72-7.72 1.47 1.35L5.41 20z\"/>\n",
              "  </svg>\n",
              "      </button>\n",
              "      \n",
              "  <style>\n",
              "    .colab-df-container {\n",
              "      display:flex;\n",
              "      flex-wrap:wrap;\n",
              "      gap: 12px;\n",
              "    }\n",
              "\n",
              "    .colab-df-convert {\n",
              "      background-color: #E8F0FE;\n",
              "      border: none;\n",
              "      border-radius: 50%;\n",
              "      cursor: pointer;\n",
              "      display: none;\n",
              "      fill: #1967D2;\n",
              "      height: 32px;\n",
              "      padding: 0 0 0 0;\n",
              "      width: 32px;\n",
              "    }\n",
              "\n",
              "    .colab-df-convert:hover {\n",
              "      background-color: #E2EBFA;\n",
              "      box-shadow: 0px 1px 2px rgba(60, 64, 67, 0.3), 0px 1px 3px 1px rgba(60, 64, 67, 0.15);\n",
              "      fill: #174EA6;\n",
              "    }\n",
              "\n",
              "    [theme=dark] .colab-df-convert {\n",
              "      background-color: #3B4455;\n",
              "      fill: #D2E3FC;\n",
              "    }\n",
              "\n",
              "    [theme=dark] .colab-df-convert:hover {\n",
              "      background-color: #434B5C;\n",
              "      box-shadow: 0px 1px 3px 1px rgba(0, 0, 0, 0.15);\n",
              "      filter: drop-shadow(0px 1px 2px rgba(0, 0, 0, 0.3));\n",
              "      fill: #FFFFFF;\n",
              "    }\n",
              "  </style>\n",
              "\n",
              "      <script>\n",
              "        const buttonEl =\n",
              "          document.querySelector('#df-76f63f0f-ae63-421a-9f3e-5fbe68a9f700 button.colab-df-convert');\n",
              "        buttonEl.style.display =\n",
              "          google.colab.kernel.accessAllowed ? 'block' : 'none';\n",
              "\n",
              "        async function convertToInteractive(key) {\n",
              "          const element = document.querySelector('#df-76f63f0f-ae63-421a-9f3e-5fbe68a9f700');\n",
              "          const dataTable =\n",
              "            await google.colab.kernel.invokeFunction('convertToInteractive',\n",
              "                                                     [key], {});\n",
              "          if (!dataTable) return;\n",
              "\n",
              "          const docLinkHtml = 'Like what you see? Visit the ' +\n",
              "            '<a target=\"_blank\" href=https://colab.research.google.com/notebooks/data_table.ipynb>data table notebook</a>'\n",
              "            + ' to learn more about interactive tables.';\n",
              "          element.innerHTML = '';\n",
              "          dataTable['output_type'] = 'display_data';\n",
              "          await google.colab.output.renderOutput(dataTable, element);\n",
              "          const docLink = document.createElement('div');\n",
              "          docLink.innerHTML = docLinkHtml;\n",
              "          element.appendChild(docLink);\n",
              "        }\n",
              "      </script>\n",
              "    </div>\n",
              "  </div>\n",
              "  "
            ]
          },
          "metadata": {},
          "execution_count": 22
        }
      ]
    },
    {
      "cell_type": "code",
      "source": [
        "\n",
        "X=scaled_data.iloc[:,0:5]\n",
        "Y=scaled_data['Tax']"
      ],
      "metadata": {
        "id": "0UaY0Kr3rEzD"
      },
      "execution_count": 23,
      "outputs": []
    },
    {
      "cell_type": "code",
      "source": [
        "Y.value_counts()"
      ],
      "metadata": {
        "colab": {
          "base_uri": "https://localhost:8080/"
        },
        "id": "ZA27CPigxCNP",
        "outputId": "f4041de9-3ce8-4a77-eaa1-a9894cd411cf"
      },
      "execution_count": 24,
      "outputs": [
        {
          "output_type": "execute_result",
          "data": {
            "text/plain": [
              "1.0    476\n",
              "0.0    124\n",
              "Name: Tax, dtype: int64"
            ]
          },
          "metadata": {},
          "execution_count": 24
        }
      ]
    },
    {
      "cell_type": "code",
      "source": [
        "#let us split our data into train and lest\n",
        "from sklearn.model_selection import train_test_split\n",
        "X_train, X_test, Y_train, Y_test=train_test_split(X,Y, test_size=0.2, random_state=42)\n",
        "X_train.shape, X_test.shape, Y_train.shape, Y_test.shape"
      ],
      "metadata": {
        "colab": {
          "base_uri": "https://localhost:8080/"
        },
        "id": "8NtpY2RzqT_o",
        "outputId": "08897d71-3cc8-4fe5-f03c-9596d51a5592"
      },
      "execution_count": 25,
      "outputs": [
        {
          "output_type": "execute_result",
          "data": {
            "text/plain": [
              "((480, 5), (120, 5), (480,), (120,))"
            ]
          },
          "metadata": {},
          "execution_count": 25
        }
      ]
    },
    {
      "cell_type": "code",
      "source": [
        "#Build the classification model C5.0 as we use criterion as entropy"
      ],
      "metadata": {
        "id": "bPm9kuUxrBxq"
      },
      "execution_count": 26,
      "outputs": []
    },
    {
      "cell_type": "code",
      "source": [
        "from sklearn.tree import DecisionTreeClassifier\n",
        "from sklearn.metrics import confusion_matrix, classification_report, accuracy_score"
      ],
      "metadata": {
        "id": "VLq6-JvzwKdo"
      },
      "execution_count": 27,
      "outputs": []
    },
    {
      "cell_type": "code",
      "source": [
        "model=DecisionTreeClassifier(max_depth=6, criterion='entropy')\n",
        "model.fit(X_train.values, Y_train.values)"
      ],
      "metadata": {
        "colab": {
          "base_uri": "https://localhost:8080/",
          "height": 75
        },
        "id": "SOdAEBvZwMWE",
        "outputId": "8c62cd8a-3b93-4ab8-b126-bea55e4acdcb"
      },
      "execution_count": 28,
      "outputs": [
        {
          "output_type": "execute_result",
          "data": {
            "text/plain": [
              "DecisionTreeClassifier(criterion='entropy', max_depth=6)"
            ],
            "text/html": [
              "<style>#sk-container-id-1 {color: black;background-color: white;}#sk-container-id-1 pre{padding: 0;}#sk-container-id-1 div.sk-toggleable {background-color: white;}#sk-container-id-1 label.sk-toggleable__label {cursor: pointer;display: block;width: 100%;margin-bottom: 0;padding: 0.3em;box-sizing: border-box;text-align: center;}#sk-container-id-1 label.sk-toggleable__label-arrow:before {content: \"▸\";float: left;margin-right: 0.25em;color: #696969;}#sk-container-id-1 label.sk-toggleable__label-arrow:hover:before {color: black;}#sk-container-id-1 div.sk-estimator:hover label.sk-toggleable__label-arrow:before {color: black;}#sk-container-id-1 div.sk-toggleable__content {max-height: 0;max-width: 0;overflow: hidden;text-align: left;background-color: #f0f8ff;}#sk-container-id-1 div.sk-toggleable__content pre {margin: 0.2em;color: black;border-radius: 0.25em;background-color: #f0f8ff;}#sk-container-id-1 input.sk-toggleable__control:checked~div.sk-toggleable__content {max-height: 200px;max-width: 100%;overflow: auto;}#sk-container-id-1 input.sk-toggleable__control:checked~label.sk-toggleable__label-arrow:before {content: \"▾\";}#sk-container-id-1 div.sk-estimator input.sk-toggleable__control:checked~label.sk-toggleable__label {background-color: #d4ebff;}#sk-container-id-1 div.sk-label input.sk-toggleable__control:checked~label.sk-toggleable__label {background-color: #d4ebff;}#sk-container-id-1 input.sk-hidden--visually {border: 0;clip: rect(1px 1px 1px 1px);clip: rect(1px, 1px, 1px, 1px);height: 1px;margin: -1px;overflow: hidden;padding: 0;position: absolute;width: 1px;}#sk-container-id-1 div.sk-estimator {font-family: monospace;background-color: #f0f8ff;border: 1px dotted black;border-radius: 0.25em;box-sizing: border-box;margin-bottom: 0.5em;}#sk-container-id-1 div.sk-estimator:hover {background-color: #d4ebff;}#sk-container-id-1 div.sk-parallel-item::after {content: \"\";width: 100%;border-bottom: 1px solid gray;flex-grow: 1;}#sk-container-id-1 div.sk-label:hover label.sk-toggleable__label {background-color: #d4ebff;}#sk-container-id-1 div.sk-serial::before {content: \"\";position: absolute;border-left: 1px solid gray;box-sizing: border-box;top: 0;bottom: 0;left: 50%;z-index: 0;}#sk-container-id-1 div.sk-serial {display: flex;flex-direction: column;align-items: center;background-color: white;padding-right: 0.2em;padding-left: 0.2em;position: relative;}#sk-container-id-1 div.sk-item {position: relative;z-index: 1;}#sk-container-id-1 div.sk-parallel {display: flex;align-items: stretch;justify-content: center;background-color: white;position: relative;}#sk-container-id-1 div.sk-item::before, #sk-container-id-1 div.sk-parallel-item::before {content: \"\";position: absolute;border-left: 1px solid gray;box-sizing: border-box;top: 0;bottom: 0;left: 50%;z-index: -1;}#sk-container-id-1 div.sk-parallel-item {display: flex;flex-direction: column;z-index: 1;position: relative;background-color: white;}#sk-container-id-1 div.sk-parallel-item:first-child::after {align-self: flex-end;width: 50%;}#sk-container-id-1 div.sk-parallel-item:last-child::after {align-self: flex-start;width: 50%;}#sk-container-id-1 div.sk-parallel-item:only-child::after {width: 0;}#sk-container-id-1 div.sk-dashed-wrapped {border: 1px dashed gray;margin: 0 0.4em 0.5em 0.4em;box-sizing: border-box;padding-bottom: 0.4em;background-color: white;}#sk-container-id-1 div.sk-label label {font-family: monospace;font-weight: bold;display: inline-block;line-height: 1.2em;}#sk-container-id-1 div.sk-label-container {text-align: center;}#sk-container-id-1 div.sk-container {/* jupyter's `normalize.less` sets `[hidden] { display: none; }` but bootstrap.min.css set `[hidden] { display: none !important; }` so we also need the `!important` here to be able to override the default hidden behavior on the sphinx rendered scikit-learn.org. See: https://github.com/scikit-learn/scikit-learn/issues/21755 */display: inline-block !important;position: relative;}#sk-container-id-1 div.sk-text-repr-fallback {display: none;}</style><div id=\"sk-container-id-1\" class=\"sk-top-container\"><div class=\"sk-text-repr-fallback\"><pre>DecisionTreeClassifier(criterion=&#x27;entropy&#x27;, max_depth=6)</pre><b>In a Jupyter environment, please rerun this cell to show the HTML representation or trust the notebook. <br />On GitHub, the HTML representation is unable to render, please try loading this page with nbviewer.org.</b></div><div class=\"sk-container\" hidden><div class=\"sk-item\"><div class=\"sk-estimator sk-toggleable\"><input class=\"sk-toggleable__control sk-hidden--visually\" id=\"sk-estimator-id-1\" type=\"checkbox\" checked><label for=\"sk-estimator-id-1\" class=\"sk-toggleable__label sk-toggleable__label-arrow\">DecisionTreeClassifier</label><div class=\"sk-toggleable__content\"><pre>DecisionTreeClassifier(criterion=&#x27;entropy&#x27;, max_depth=6)</pre></div></div></div></div></div>"
            ]
          },
          "metadata": {},
          "execution_count": 28
        }
      ]
    },
    {
      "cell_type": "code",
      "source": [
        "train_pred=model.predict(X_train)"
      ],
      "metadata": {
        "colab": {
          "base_uri": "https://localhost:8080/"
        },
        "id": "TurbfrHywgph",
        "outputId": "ce450aad-fd21-493e-9eb4-88dbd13e02e7"
      },
      "execution_count": 29,
      "outputs": [
        {
          "output_type": "stream",
          "name": "stderr",
          "text": [
            "/usr/local/lib/python3.10/dist-packages/sklearn/base.py:432: UserWarning: X has feature names, but DecisionTreeClassifier was fitted without feature names\n",
            "  warnings.warn(\n"
          ]
        }
      ]
    },
    {
      "cell_type": "code",
      "source": [
        "confusion_matrix(Y_train, train_pred)\n",
        "#83 are miss classified when we hae given max_depth as 6"
      ],
      "metadata": {
        "colab": {
          "base_uri": "https://localhost:8080/"
        },
        "id": "La0iTRZa5MTL",
        "outputId": "c167b31a-3f74-4550-9325-f7a4bd54a71d"
      },
      "execution_count": 30,
      "outputs": [
        {
          "output_type": "execute_result",
          "data": {
            "text/plain": [
              "array([[ 16,  82],\n",
              "       [  1, 381]])"
            ]
          },
          "metadata": {},
          "execution_count": 30
        }
      ]
    },
    {
      "cell_type": "code",
      "source": [
        "print(classification_report(Y_train, train_pred))"
      ],
      "metadata": {
        "colab": {
          "base_uri": "https://localhost:8080/"
        },
        "id": "UWXSv2A65RRX",
        "outputId": "2be317be-f45d-4e57-9c7d-002866dd5ec5"
      },
      "execution_count": 31,
      "outputs": [
        {
          "output_type": "stream",
          "name": "stdout",
          "text": [
            "              precision    recall  f1-score   support\n",
            "\n",
            "         0.0       0.94      0.16      0.28        98\n",
            "         1.0       0.82      1.00      0.90       382\n",
            "\n",
            "    accuracy                           0.83       480\n",
            "   macro avg       0.88      0.58      0.59       480\n",
            "weighted avg       0.85      0.83      0.77       480\n",
            "\n"
          ]
        }
      ]
    },
    {
      "cell_type": "code",
      "source": [
        "#Our model accuracy is 83%"
      ],
      "metadata": {
        "id": "o9U_tSHk5q_4"
      },
      "execution_count": 32,
      "outputs": []
    },
    {
      "cell_type": "code",
      "source": [
        "test_pred=model.predict(X_test)  ##predicting the output for testing data"
      ],
      "metadata": {
        "colab": {
          "base_uri": "https://localhost:8080/"
        },
        "id": "2NJHYAok5wfk",
        "outputId": "0460498e-504b-4930-eb56-c1c8c7469365"
      },
      "execution_count": 33,
      "outputs": [
        {
          "output_type": "stream",
          "name": "stderr",
          "text": [
            "/usr/local/lib/python3.10/dist-packages/sklearn/base.py:432: UserWarning: X has feature names, but DecisionTreeClassifier was fitted without feature names\n",
            "  warnings.warn(\n"
          ]
        }
      ]
    },
    {
      "cell_type": "code",
      "source": [
        "confusion_matrix(Y_test, test_pred)\n",
        "#30 are missclassified"
      ],
      "metadata": {
        "colab": {
          "base_uri": "https://localhost:8080/"
        },
        "id": "bdtMnahN52OP",
        "outputId": "ef7de7cd-89c9-4594-ac17-025f30f451b5"
      },
      "execution_count": 34,
      "outputs": [
        {
          "output_type": "execute_result",
          "data": {
            "text/plain": [
              "array([[ 0, 26],\n",
              "       [ 6, 88]])"
            ]
          },
          "metadata": {},
          "execution_count": 34
        }
      ]
    },
    {
      "cell_type": "code",
      "source": [
        "print(classification_report(Y_test, test_pred))"
      ],
      "metadata": {
        "colab": {
          "base_uri": "https://localhost:8080/"
        },
        "id": "x49WSG1W55BY",
        "outputId": "511ec208-13af-4bc7-c20d-a4a5159d0549"
      },
      "execution_count": 35,
      "outputs": [
        {
          "output_type": "stream",
          "name": "stdout",
          "text": [
            "              precision    recall  f1-score   support\n",
            "\n",
            "         0.0       0.00      0.00      0.00        26\n",
            "         1.0       0.77      0.94      0.85        94\n",
            "\n",
            "    accuracy                           0.73       120\n",
            "   macro avg       0.39      0.47      0.42       120\n",
            "weighted avg       0.60      0.73      0.66       120\n",
            "\n"
          ]
        }
      ]
    },
    {
      "cell_type": "code",
      "source": [
        "#accuracy for testing data is 75%"
      ],
      "metadata": {
        "id": "TKe4kFP-6GRT"
      },
      "execution_count": 36,
      "outputs": []
    },
    {
      "cell_type": "code",
      "source": [
        "##VIZUALIZE THE TREE"
      ],
      "metadata": {
        "id": "EZnx8poJ6J-g"
      },
      "execution_count": 37,
      "outputs": []
    },
    {
      "cell_type": "code",
      "source": [
        "from sklearn.tree import plot_tree\n",
        "import matplotlib.pyplot as plt"
      ],
      "metadata": {
        "id": "CRK0Z6JF6KIH"
      },
      "execution_count": 38,
      "outputs": []
    },
    {
      "cell_type": "code",
      "source": [
        "features=X.columns.values"
      ],
      "metadata": {
        "id": "HMoLPlOW69iW"
      },
      "execution_count": 39,
      "outputs": []
    },
    {
      "cell_type": "code",
      "source": [
        "cnames=['Good','Risky']\n"
      ],
      "metadata": {
        "id": "DCnn-fDW7ALu"
      },
      "execution_count": 40,
      "outputs": []
    },
    {
      "cell_type": "code",
      "source": [
        "plt.figure(figsize=(15,15))\n",
        "plot_tree(model, class_names=cnames, feature_names=features, filled=True)\n",
        "\n",
        "plt.show()"
      ],
      "metadata": {
        "colab": {
          "base_uri": "https://localhost:8080/",
          "height": 1000
        },
        "id": "Vyp3524O7I33",
        "outputId": "b538a0f0-4f99-42eb-d834-c04ef9990adf"
      },
      "execution_count": 41,
      "outputs": [
        {
          "output_type": "display_data",
          "data": {
            "text/plain": [
              "<Figure size 1500x1500 with 1 Axes>"
            ],
            "image/png": "[encoded data removed]"
          },
          "metadata": {}
        }
      ]
    },
    {
      "cell_type": "code",
      "source": [],
      "metadata": {
        "id": "_oMxxh9T7So1"
      },
      "execution_count": 41,
      "outputs": []
    },
    {
      "cell_type": "markdown",
      "source": [
        "Decision Tree using Gini criterion (CRT)"
      ],
      "metadata": {
        "id": "esR3atEQ8AG8"
      }
    },
    {
      "cell_type": "code",
      "source": [
        "clf=DecisionTreeClassifier(max_depth=3, max_leaf_nodes=10, criterion='gini')"
      ],
      "metadata": {
        "id": "l63tLpvH8BOD"
      },
      "execution_count": 42,
      "outputs": []
    },
    {
      "cell_type": "code",
      "source": [
        "clf.fit(X_train, Y_train)"
      ],
      "metadata": {
        "colab": {
          "base_uri": "https://localhost:8080/",
          "height": 75
        },
        "id": "We_AcWfJ8CzW",
        "outputId": "a8a18259-2f38-4ec8-a61e-5177bf8697a4"
      },
      "execution_count": 43,
      "outputs": [
        {
          "output_type": "execute_result",
          "data": {
            "text/plain": [
              "DecisionTreeClassifier(max_depth=3, max_leaf_nodes=10)"
            ],
            "text/html": [
              "<style>#sk-container-id-2 {color: black;background-color: white;}#sk-container-id-2 pre{padding: 0;}#sk-container-id-2 div.sk-toggleable {background-color: white;}#sk-container-id-2 label.sk-toggleable__label {cursor: pointer;display: block;width: 100%;margin-bottom: 0;padding: 0.3em;box-sizing: border-box;text-align: center;}#sk-container-id-2 label.sk-toggleable__label-arrow:before {content: \"▸\";float: left;margin-right: 0.25em;color: #696969;}#sk-container-id-2 label.sk-toggleable__label-arrow:hover:before {color: black;}#sk-container-id-2 div.sk-estimator:hover label.sk-toggleable__label-arrow:before {color: black;}#sk-container-id-2 div.sk-toggleable__content {max-height: 0;max-width: 0;overflow: hidden;text-align: left;background-color: #f0f8ff;}#sk-container-id-2 div.sk-toggleable__content pre {margin: 0.2em;color: black;border-radius: 0.25em;background-color: #f0f8ff;}#sk-container-id-2 input.sk-toggleable__control:checked~div.sk-toggleable__content {max-height: 200px;max-width: 100%;overflow: auto;}#sk-container-id-2 input.sk-toggleable__control:checked~label.sk-toggleable__label-arrow:before {content: \"▾\";}#sk-container-id-2 div.sk-estimator input.sk-toggleable__control:checked~label.sk-toggleable__label {background-color: #d4ebff;}#sk-container-id-2 div.sk-label input.sk-toggleable__control:checked~label.sk-toggleable__label {background-color: #d4ebff;}#sk-container-id-2 input.sk-hidden--visually {border: 0;clip: rect(1px 1px 1px 1px);clip: rect(1px, 1px, 1px, 1px);height: 1px;margin: -1px;overflow: hidden;padding: 0;position: absolute;width: 1px;}#sk-container-id-2 div.sk-estimator {font-family: monospace;background-color: #f0f8ff;border: 1px dotted black;border-radius: 0.25em;box-sizing: border-box;margin-bottom: 0.5em;}#sk-container-id-2 div.sk-estimator:hover {background-color: #d4ebff;}#sk-container-id-2 div.sk-parallel-item::after {content: \"\";width: 100%;border-bottom: 1px solid gray;flex-grow: 1;}#sk-container-id-2 div.sk-label:hover label.sk-toggleable__label {background-color: #d4ebff;}#sk-container-id-2 div.sk-serial::before {content: \"\";position: absolute;border-left: 1px solid gray;box-sizing: border-box;top: 0;bottom: 0;left: 50%;z-index: 0;}#sk-container-id-2 div.sk-serial {display: flex;flex-direction: column;align-items: center;background-color: white;padding-right: 0.2em;padding-left: 0.2em;position: relative;}#sk-container-id-2 div.sk-item {position: relative;z-index: 1;}#sk-container-id-2 div.sk-parallel {display: flex;align-items: stretch;justify-content: center;background-color: white;position: relative;}#sk-container-id-2 div.sk-item::before, #sk-container-id-2 div.sk-parallel-item::before {content: \"\";position: absolute;border-left: 1px solid gray;box-sizing: border-box;top: 0;bottom: 0;left: 50%;z-index: -1;}#sk-container-id-2 div.sk-parallel-item {display: flex;flex-direction: column;z-index: 1;position: relative;background-color: white;}#sk-container-id-2 div.sk-parallel-item:first-child::after {align-self: flex-end;width: 50%;}#sk-container-id-2 div.sk-parallel-item:last-child::after {align-self: flex-start;width: 50%;}#sk-container-id-2 div.sk-parallel-item:only-child::after {width: 0;}#sk-container-id-2 div.sk-dashed-wrapped {border: 1px dashed gray;margin: 0 0.4em 0.5em 0.4em;box-sizing: border-box;padding-bottom: 0.4em;background-color: white;}#sk-container-id-2 div.sk-label label {font-family: monospace;font-weight: bold;display: inline-block;line-height: 1.2em;}#sk-container-id-2 div.sk-label-container {text-align: center;}#sk-container-id-2 div.sk-container {/* jupyter's `normalize.less` sets `[hidden] { display: none; }` but bootstrap.min.css set `[hidden] { display: none !important; }` so we also need the `!important` here to be able to override the default hidden behavior on the sphinx rendered scikit-learn.org. See: https://github.com/scikit-learn/scikit-learn/issues/21755 */display: inline-block !important;position: relative;}#sk-container-id-2 div.sk-text-repr-fallback {display: none;}</style><div id=\"sk-container-id-2\" class=\"sk-top-container\"><div class=\"sk-text-repr-fallback\"><pre>DecisionTreeClassifier(max_depth=3, max_leaf_nodes=10)</pre><b>In a Jupyter environment, please rerun this cell to show the HTML representation or trust the notebook. <br />On GitHub, the HTML representation is unable to render, please try loading this page with nbviewer.org.</b></div><div class=\"sk-container\" hidden><div class=\"sk-item\"><div class=\"sk-estimator sk-toggleable\"><input class=\"sk-toggleable__control sk-hidden--visually\" id=\"sk-estimator-id-2\" type=\"checkbox\" checked><label for=\"sk-estimator-id-2\" class=\"sk-toggleable__label sk-toggleable__label-arrow\">DecisionTreeClassifier</label><div class=\"sk-toggleable__content\"><pre>DecisionTreeClassifier(max_depth=3, max_leaf_nodes=10)</pre></div></div></div></div></div>"
            ]
          },
          "metadata": {},
          "execution_count": 43
        }
      ]
    },
    {
      "cell_type": "code",
      "source": [
        "train_pred=clf.predict(X_train)"
      ],
      "metadata": {
        "id": "DtgttEDW8OFK"
      },
      "execution_count": 44,
      "outputs": []
    },
    {
      "cell_type": "code",
      "source": [
        "confusion_matrix(Y_train, train_pred)"
      ],
      "metadata": {
        "colab": {
          "base_uri": "https://localhost:8080/"
        },
        "id": "cP_nx8De8Rp2",
        "outputId": "5e242028-3d75-4f18-8def-11db061cf9a2"
      },
      "execution_count": 45,
      "outputs": [
        {
          "output_type": "execute_result",
          "data": {
            "text/plain": [
              "array([[  7,  91],\n",
              "       [  2, 380]])"
            ]
          },
          "metadata": {},
          "execution_count": 45
        }
      ]
    },
    {
      "cell_type": "code",
      "source": [
        "print(classification_report(Y_train, train_pred))"
      ],
      "metadata": {
        "colab": {
          "base_uri": "https://localhost:8080/"
        },
        "id": "uRB84asQ8UUu",
        "outputId": "e68aae03-1b8e-42ce-9e9b-ff933bc400f2"
      },
      "execution_count": 46,
      "outputs": [
        {
          "output_type": "stream",
          "name": "stdout",
          "text": [
            "              precision    recall  f1-score   support\n",
            "\n",
            "         0.0       0.78      0.07      0.13        98\n",
            "         1.0       0.81      0.99      0.89       382\n",
            "\n",
            "    accuracy                           0.81       480\n",
            "   macro avg       0.79      0.53      0.51       480\n",
            "weighted avg       0.80      0.81      0.74       480\n",
            "\n"
          ]
        }
      ]
    },
    {
      "cell_type": "code",
      "source": [
        "#accuracy is 81%"
      ],
      "metadata": {
        "id": "Vv-Sd0K28gyg"
      },
      "execution_count": 47,
      "outputs": []
    },
    {
      "cell_type": "code",
      "source": [
        "\n",
        "accuracy_score(Y_train, train_pred)"
      ],
      "metadata": {
        "colab": {
          "base_uri": "https://localhost:8080/"
        },
        "id": "iXv-vnCr-mOm",
        "outputId": "05b8b4ba-deb7-4d5f-8c68-8830ef897698"
      },
      "execution_count": 48,
      "outputs": [
        {
          "output_type": "execute_result",
          "data": {
            "text/plain": [
              "0.80625"
            ]
          },
          "metadata": {},
          "execution_count": 48
        }
      ]
    },
    {
      "cell_type": "code",
      "source": [
        "pred=clf.predict(X_test)"
      ],
      "metadata": {
        "id": "FxOcECmy81uh"
      },
      "execution_count": 49,
      "outputs": []
    },
    {
      "cell_type": "code",
      "source": [
        "confusion_matrix(Y_test, pred)"
      ],
      "metadata": {
        "colab": {
          "base_uri": "https://localhost:8080/"
        },
        "id": "ETjJnbDm8kv6",
        "outputId": "c10b3d37-6ac8-4794-e3da-01e670146448"
      },
      "execution_count": 50,
      "outputs": [
        {
          "output_type": "execute_result",
          "data": {
            "text/plain": [
              "array([[ 0, 26],\n",
              "       [ 3, 91]])"
            ]
          },
          "metadata": {},
          "execution_count": 50
        }
      ]
    },
    {
      "cell_type": "code",
      "source": [
        "print(classification_report(Y_test, pred))"
      ],
      "metadata": {
        "colab": {
          "base_uri": "https://localhost:8080/"
        },
        "id": "F7Nwenmn9XcX",
        "outputId": "7460a294-8ec2-47ee-bf02-e4e0217c7db9"
      },
      "execution_count": 51,
      "outputs": [
        {
          "output_type": "stream",
          "name": "stdout",
          "text": [
            "              precision    recall  f1-score   support\n",
            "\n",
            "         0.0       0.00      0.00      0.00        26\n",
            "         1.0       0.78      0.97      0.86        94\n",
            "\n",
            "    accuracy                           0.76       120\n",
            "   macro avg       0.39      0.48      0.43       120\n",
            "weighted avg       0.61      0.76      0.68       120\n",
            "\n"
          ]
        }
      ]
    },
    {
      "cell_type": "code",
      "source": [
        "#for testing data it give 76% accuracy."
      ],
      "metadata": {
        "id": "0nbyMKeI9gNU"
      },
      "execution_count": 52,
      "outputs": []
    },
    {
      "cell_type": "code",
      "source": [],
      "metadata": {
        "id": "PW2ZXMAi9ld3"
      },
      "execution_count": 52,
      "outputs": []
    },
    {
      "cell_type": "markdown",
      "source": [
        "Grid search cv"
      ],
      "metadata": {
        "id": "1_sISjsB9qns"
      }
    },
    {
      "cell_type": "code",
      "source": [
        "from sklearn.model_selection import GridSearchCV,RandomizedSearchCV\n",
        "\n",
        "mod=DecisionTreeClassifier()\n",
        "\n",
        "param_grid = [{'max_depth':[3,4,5,6,7],'criterion':['gini','entropy'], 'max_leaf_nodes':[5,6,7,8] }]\n",
        "gsv=GridSearchCV(mod,param_grid, cv=10, verbose=300)\n"
      ],
      "metadata": {
        "id": "eq2a5dUE9lwt"
      },
      "execution_count": 53,
      "outputs": []
    },
    {
      "cell_type": "code",
      "source": [
        "gsv.fit(X_train, Y_train)"
      ],
      "metadata": {
        "colab": {
          "base_uri": "https://localhost:8080/",
          "height": 1000
        },
        "id": "eWND4BLc-QoR",
        "outputId": "a0dab1f2-bffc-4a97-8e15-8630a4ece25e"
      },
      "execution_count": 54,
      "outputs": [
        {
          "output_type": "stream",
          "name": "stdout",
          "text": [
            "Fitting 10 folds for each of 40 candidates, totalling 400 fits\n",
            "[CV 1/10; 1/40] START criterion=gini, max_depth=3, max_leaf_nodes=5.............\n",
            "[CV 1/10; 1/40] END criterion=gini, max_depth=3, max_leaf_nodes=5;, score=0.792 total time=   0.0s\n",
            "[CV 2/10; 1/40] START criterion=gini, max_depth=3, max_leaf_nodes=5.............\n",
            "[CV 2/10; 1/40] END criterion=gini, max_depth=3, max_leaf_nodes=5;, score=0.792 total time=   0.0s\n",
            "[CV 3/10; 1/40] START criterion=gini, max_depth=3, max_leaf_nodes=5.............\n",
            "[CV 3/10; 1/40] END criterion=gini, max_depth=3, max_leaf_nodes=5;, score=0.771 total time=   0.0s\n",
            "[CV 4/10; 1/40] START criterion=gini, max_depth=3, max_leaf_nodes=5.............\n",
            "[CV 4/10; 1/40] END criterion=gini, max_depth=3, max_leaf_nodes=5;, score=0.792 total time=   0.0s\n",
            "[CV 5/10; 1/40] START criterion=gini, max_depth=3, max_leaf_nodes=5.............\n",
            "[CV 5/10; 1/40] END criterion=gini, max_depth=3, max_leaf_nodes=5;, score=0.771 total time=   0.0s\n",
            "[CV 6/10; 1/40] START criterion=gini, max_depth=3, max_leaf_nodes=5.............\n",
            "[CV 6/10; 1/40] END criterion=gini, max_depth=3, max_leaf_nodes=5;, score=0.771 total time=   0.0s\n",
            "[CV 7/10; 1/40] START criterion=gini, max_depth=3, max_leaf_nodes=5.............\n",
            "[CV 7/10; 1/40] END criterion=gini, max_depth=3, max_leaf_nodes=5;, score=0.792 total time=   0.0s\n",
            "[CV 8/10; 1/40] START criterion=gini, max_depth=3, max_leaf_nodes=5.............\n",
            "[CV 8/10; 1/40] END criterion=gini, max_depth=3, max_leaf_nodes=5;, score=0.792 total time=   0.0s\n",
            "[CV 9/10; 1/40] START criterion=gini, max_depth=3, max_leaf_nodes=5.............\n",
            "[CV 9/10; 1/40] END criterion=gini, max_depth=3, max_leaf_nodes=5;, score=0.792 total time=   0.0s\n",
            "[CV 10/10; 1/40] START criterion=gini, max_depth=3, max_leaf_nodes=5............\n",
            "[CV 10/10; 1/40] END criterion=gini, max_depth=3, max_leaf_nodes=5;, score=0.792 total time=   0.0s\n",
            "[CV 1/10; 2/40] START criterion=gini, max_depth=3, max_leaf_nodes=6.............\n",
            "[CV 1/10; 2/40] END criterion=gini, max_depth=3, max_leaf_nodes=6;, score=0.792 total time=   0.0s\n",
            "[CV 2/10; 2/40] START criterion=gini, max_depth=3, max_leaf_nodes=6.............\n",
            "[CV 2/10; 2/40] END criterion=gini, max_depth=3, max_leaf_nodes=6;, score=0.812 total time=   0.0s\n",
            "[CV 3/10; 2/40] START criterion=gini, max_depth=3, max_leaf_nodes=6.............\n",
            "[CV 3/10; 2/40] END criterion=gini, max_depth=3, max_leaf_nodes=6;, score=0.771 total time=   0.0s\n",
            "[CV 4/10; 2/40] START criterion=gini, max_depth=3, max_leaf_nodes=6.............\n",
            "[CV 4/10; 2/40] END criterion=gini, max_depth=3, max_leaf_nodes=6;, score=0.792 total time=   0.0s\n",
            "[CV 5/10; 2/40] START criterion=gini, max_depth=3, max_leaf_nodes=6.............\n",
            "[CV 5/10; 2/40] END criterion=gini, max_depth=3, max_leaf_nodes=6;, score=0.771 total time=   0.0s\n",
            "[CV 6/10; 2/40] START criterion=gini, max_depth=3, max_leaf_nodes=6.............\n",
            "[CV 6/10; 2/40] END criterion=gini, max_depth=3, max_leaf_nodes=6;, score=0.792 total time=   0.0s\n",
            "[CV 7/10; 2/40] START criterion=gini, max_depth=3, max_leaf_nodes=6.............\n",
            "[CV 7/10; 2/40] END criterion=gini, max_depth=3, max_leaf_nodes=6;, score=0.792 total time=   0.0s\n",
            "[CV 8/10; 2/40] START criterion=gini, max_depth=3, max_leaf_nodes=6.............\n",
            "[CV 8/10; 2/40] END criterion=gini, max_depth=3, max_leaf_nodes=6;, score=0.771 total time=   0.0s\n",
            "[CV 9/10; 2/40] START criterion=gini, max_depth=3, max_leaf_nodes=6.............\n",
            "[CV 9/10; 2/40] END criterion=gini, max_depth=3, max_leaf_nodes=6;, score=0.792 total time=   0.0s\n",
            "[CV 10/10; 2/40] START criterion=gini, max_depth=3, max_leaf_nodes=6............\n",
            "[CV 10/10; 2/40] END criterion=gini, max_depth=3, max_leaf_nodes=6;, score=0.792 total time=   0.0s\n",
            "[CV 1/10; 3/40] START criterion=gini, max_depth=3, max_leaf_nodes=7.............\n",
            "[CV 1/10; 3/40] END criterion=gini, max_depth=3, max_leaf_nodes=7;, score=0.792 total time=   0.0s\n",
            "[CV 2/10; 3/40] START criterion=gini, max_depth=3, max_leaf_nodes=7.............\n",
            "[CV 2/10; 3/40] END criterion=gini, max_depth=3, max_leaf_nodes=7;, score=0.812 total time=   0.0s\n",
            "[CV 3/10; 3/40] START criterion=gini, max_depth=3, max_leaf_nodes=7.............\n",
            "[CV 3/10; 3/40] END criterion=gini, max_depth=3, max_leaf_nodes=7;, score=0.771 total time=   0.0s\n",
            "[CV 4/10; 3/40] START criterion=gini, max_depth=3, max_leaf_nodes=7.............\n",
            "[CV 4/10; 3/40] END criterion=gini, max_depth=3, max_leaf_nodes=7;, score=0.792 total time=   0.0s\n",
            "[CV 5/10; 3/40] START criterion=gini, max_depth=3, max_leaf_nodes=7.............\n",
            "[CV 5/10; 3/40] END criterion=gini, max_depth=3, max_leaf_nodes=7;, score=0.771 total time=   0.0s\n",
            "[CV 6/10; 3/40] START criterion=gini, max_depth=3, max_leaf_nodes=7.............\n",
            "[CV 6/10; 3/40] END criterion=gini, max_depth=3, max_leaf_nodes=7;, score=0.792 total time=   0.0s\n",
            "[CV 7/10; 3/40] START criterion=gini, max_depth=3, max_leaf_nodes=7.............\n",
            "[CV 7/10; 3/40] END criterion=gini, max_depth=3, max_leaf_nodes=7;, score=0.792 total time=   0.0s\n",
            "[CV 8/10; 3/40] START criterion=gini, max_depth=3, max_leaf_nodes=7.............\n",
            "[CV 8/10; 3/40] END criterion=gini, max_depth=3, max_leaf_nodes=7;, score=0.771 total time=   0.0s\n",
            "[CV 9/10; 3/40] START criterion=gini, max_depth=3, max_leaf_nodes=7.............\n",
            "[CV 9/10; 3/40] END criterion=gini, max_depth=3, max_leaf_nodes=7;, score=0.792 total time=   0.0s\n",
            "[CV 10/10; 3/40] START criterion=gini, max_depth=3, max_leaf_nodes=7............\n",
            "[CV 10/10; 3/40] END criterion=gini, max_depth=3, max_leaf_nodes=7;, score=0.792 total time=   0.0s\n",
            "[CV 1/10; 4/40] START criterion=gini, max_depth=3, max_leaf_nodes=8.............\n",
            "[CV 1/10; 4/40] END criterion=gini, max_depth=3, max_leaf_nodes=8;, score=0.792 total time=   0.0s\n",
            "[CV 2/10; 4/40] START criterion=gini, max_depth=3, max_leaf_nodes=8.............\n",
            "[CV 2/10; 4/40] END criterion=gini, max_depth=3, max_leaf_nodes=8;, score=0.812 total time=   0.0s\n",
            "[CV 3/10; 4/40] START criterion=gini, max_depth=3, max_leaf_nodes=8.............\n",
            "[CV 3/10; 4/40] END criterion=gini, max_depth=3, max_leaf_nodes=8;, score=0.771 total time=   0.0s\n",
            "[CV 4/10; 4/40] START criterion=gini, max_depth=3, max_leaf_nodes=8.............\n",
            "[CV 4/10; 4/40] END criterion=gini, max_depth=3, max_leaf_nodes=8;, score=0.792 total time=   0.0s\n",
            "[CV 5/10; 4/40] START criterion=gini, max_depth=3, max_leaf_nodes=8.............\n",
            "[CV 5/10; 4/40] END criterion=gini, max_depth=3, max_leaf_nodes=8;, score=0.771 total time=   0.0s\n",
            "[CV 6/10; 4/40] START criterion=gini, max_depth=3, max_leaf_nodes=8.............\n",
            "[CV 6/10; 4/40] END criterion=gini, max_depth=3, max_leaf_nodes=8;, score=0.792 total time=   0.0s\n",
            "[CV 7/10; 4/40] START criterion=gini, max_depth=3, max_leaf_nodes=8.............\n",
            "[CV 7/10; 4/40] END criterion=gini, max_depth=3, max_leaf_nodes=8;, score=0.792 total time=   0.0s\n",
            "[CV 8/10; 4/40] START criterion=gini, max_depth=3, max_leaf_nodes=8.............\n",
            "[CV 8/10; 4/40] END criterion=gini, max_depth=3, max_leaf_nodes=8;, score=0.771 total time=   0.0s\n",
            "[CV 9/10; 4/40] START criterion=gini, max_depth=3, max_leaf_nodes=8.............\n",
            "[CV 9/10; 4/40] END criterion=gini, max_depth=3, max_leaf_nodes=8;, score=0.792 total time=   0.0s\n",
            "[CV 10/10; 4/40] START criterion=gini, max_depth=3, max_leaf_nodes=8............\n",
            "[CV 10/10; 4/40] END criterion=gini, max_depth=3, max_leaf_nodes=8;, score=0.792 total time=   0.0s\n",
            "[CV 1/10; 5/40] START criterion=gini, max_depth=4, max_leaf_nodes=5.............\n",
            "[CV 1/10; 5/40] END criterion=gini, max_depth=4, max_leaf_nodes=5;, score=0.792 total time=   0.0s\n",
            "[CV 2/10; 5/40] START criterion=gini, max_depth=4, max_leaf_nodes=5.............\n",
            "[CV 2/10; 5/40] END criterion=gini, max_depth=4, max_leaf_nodes=5;, score=0.792 total time=   0.0s\n",
            "[CV 3/10; 5/40] START criterion=gini, max_depth=4, max_leaf_nodes=5.............\n",
            "[CV 3/10; 5/40] END criterion=gini, max_depth=4, max_leaf_nodes=5;, score=0.771 total time=   0.0s\n",
            "[CV 4/10; 5/40] START criterion=gini, max_depth=4, max_leaf_nodes=5.............\n",
            "[CV 4/10; 5/40] END criterion=gini, max_depth=4, max_leaf_nodes=5;, score=0.792 total time=   0.0s\n",
            "[CV 5/10; 5/40] START criterion=gini, max_depth=4, max_leaf_nodes=5.............\n",
            "[CV 5/10; 5/40] END criterion=gini, max_depth=4, max_leaf_nodes=5;, score=0.771 total time=   0.0s\n",
            "[CV 6/10; 5/40] START criterion=gini, max_depth=4, max_leaf_nodes=5.............\n",
            "[CV 6/10; 5/40] END criterion=gini, max_depth=4, max_leaf_nodes=5;, score=0.771 total time=   0.0s\n",
            "[CV 7/10; 5/40] START criterion=gini, max_depth=4, max_leaf_nodes=5.............\n",
            "[CV 7/10; 5/40] END criterion=gini, max_depth=4, max_leaf_nodes=5;, score=0.792 total time=   0.0s\n",
            "[CV 8/10; 5/40] START criterion=gini, max_depth=4, max_leaf_nodes=5.............\n",
            "[CV 8/10; 5/40] END criterion=gini, max_depth=4, max_leaf_nodes=5;, score=0.792 total time=   0.0s\n",
            "[CV 9/10; 5/40] START criterion=gini, max_depth=4, max_leaf_nodes=5.............\n",
            "[CV 9/10; 5/40] END criterion=gini, max_depth=4, max_leaf_nodes=5;, score=0.792 total time=   0.0s\n",
            "[CV 10/10; 5/40] START criterion=gini, max_depth=4, max_leaf_nodes=5............\n",
            "[CV 10/10; 5/40] END criterion=gini, max_depth=4, max_leaf_nodes=5;, score=0.792 total time=   0.0s\n",
            "[CV 1/10; 6/40] START criterion=gini, max_depth=4, max_leaf_nodes=6.............\n",
            "[CV 1/10; 6/40] END criterion=gini, max_depth=4, max_leaf_nodes=6;, score=0.792 total time=   0.0s\n",
            "[CV 2/10; 6/40] START criterion=gini, max_depth=4, max_leaf_nodes=6.............\n",
            "[CV 2/10; 6/40] END criterion=gini, max_depth=4, max_leaf_nodes=6;, score=0.792 total time=   0.0s\n",
            "[CV 3/10; 6/40] START criterion=gini, max_depth=4, max_leaf_nodes=6.............\n",
            "[CV 3/10; 6/40] END criterion=gini, max_depth=4, max_leaf_nodes=6;, score=0.771 total time=   0.0s\n",
            "[CV 4/10; 6/40] START criterion=gini, max_depth=4, max_leaf_nodes=6.............\n",
            "[CV 4/10; 6/40] END criterion=gini, max_depth=4, max_leaf_nodes=6;, score=0.792 total time=   0.0s\n",
            "[CV 5/10; 6/40] START criterion=gini, max_depth=4, max_leaf_nodes=6.............\n",
            "[CV 5/10; 6/40] END criterion=gini, max_depth=4, max_leaf_nodes=6;, score=0.771 total time=   0.0s\n",
            "[CV 6/10; 6/40] START criterion=gini, max_depth=4, max_leaf_nodes=6.............\n",
            "[CV 6/10; 6/40] END criterion=gini, max_depth=4, max_leaf_nodes=6;, score=0.750 total time=   0.0s\n",
            "[CV 7/10; 6/40] START criterion=gini, max_depth=4, max_leaf_nodes=6.............\n",
            "[CV 7/10; 6/40] END criterion=gini, max_depth=4, max_leaf_nodes=6;, score=0.792 total time=   0.0s\n",
            "[CV 8/10; 6/40] START criterion=gini, max_depth=4, max_leaf_nodes=6.............\n",
            "[CV 8/10; 6/40] END criterion=gini, max_depth=4, max_leaf_nodes=6;, score=0.771 total time=   0.0s\n",
            "[CV 9/10; 6/40] START criterion=gini, max_depth=4, max_leaf_nodes=6.............\n",
            "[CV 9/10; 6/40] END criterion=gini, max_depth=4, max_leaf_nodes=6;, score=0.792 total time=   0.0s\n",
            "[CV 10/10; 6/40] START criterion=gini, max_depth=4, max_leaf_nodes=6............\n",
            "[CV 10/10; 6/40] END criterion=gini, max_depth=4, max_leaf_nodes=6;, score=0.792 total time=   0.0s\n",
            "[CV 1/10; 7/40] START criterion=gini, max_depth=4, max_leaf_nodes=7.............\n",
            "[CV 1/10; 7/40] END criterion=gini, max_depth=4, max_leaf_nodes=7;, score=0.792 total time=   0.0s\n",
            "[CV 2/10; 7/40] START criterion=gini, max_depth=4, max_leaf_nodes=7.............\n",
            "[CV 2/10; 7/40] END criterion=gini, max_depth=4, max_leaf_nodes=7;, score=0.812 total time=   0.0s\n",
            "[CV 3/10; 7/40] START criterion=gini, max_depth=4, max_leaf_nodes=7.............\n",
            "[CV 3/10; 7/40] END criterion=gini, max_depth=4, max_leaf_nodes=7;, score=0.771 total time=   0.0s\n",
            "[CV 4/10; 7/40] START criterion=gini, max_depth=4, max_leaf_nodes=7.............\n",
            "[CV 4/10; 7/40] END criterion=gini, max_depth=4, max_leaf_nodes=7;, score=0.792 total time=   0.0s\n",
            "[CV 5/10; 7/40] START criterion=gini, max_depth=4, max_leaf_nodes=7.............\n",
            "[CV 5/10; 7/40] END criterion=gini, max_depth=4, max_leaf_nodes=7;, score=0.771 total time=   0.0s\n",
            "[CV 6/10; 7/40] START criterion=gini, max_depth=4, max_leaf_nodes=7.............\n",
            "[CV 6/10; 7/40] END criterion=gini, max_depth=4, max_leaf_nodes=7;, score=0.771 total time=   0.0s\n",
            "[CV 7/10; 7/40] START criterion=gini, max_depth=4, max_leaf_nodes=7.............\n",
            "[CV 7/10; 7/40] END criterion=gini, max_depth=4, max_leaf_nodes=7;, score=0.771 total time=   0.0s\n",
            "[CV 8/10; 7/40] START criterion=gini, max_depth=4, max_leaf_nodes=7.............\n",
            "[CV 8/10; 7/40] END criterion=gini, max_depth=4, max_leaf_nodes=7;, score=0.771 total time=   0.0s\n",
            "[CV 9/10; 7/40] START criterion=gini, max_depth=4, max_leaf_nodes=7.............\n",
            "[CV 9/10; 7/40] END criterion=gini, max_depth=4, max_leaf_nodes=7;, score=0.792 total time=   0.0s\n",
            "[CV 10/10; 7/40] START criterion=gini, max_depth=4, max_leaf_nodes=7............\n",
            "[CV 10/10; 7/40] END criterion=gini, max_depth=4, max_leaf_nodes=7;, score=0.792 total time=   0.0s\n",
            "[CV 1/10; 8/40] START criterion=gini, max_depth=4, max_leaf_nodes=8.............\n",
            "[CV 1/10; 8/40] END criterion=gini, max_depth=4, max_leaf_nodes=8;, score=0.792 total time=   0.0s\n",
            "[CV 2/10; 8/40] START criterion=gini, max_depth=4, max_leaf_nodes=8.............\n",
            "[CV 2/10; 8/40] END criterion=gini, max_depth=4, max_leaf_nodes=8;, score=0.812 total time=   0.0s\n",
            "[CV 3/10; 8/40] START criterion=gini, max_depth=4, max_leaf_nodes=8.............\n",
            "[CV 3/10; 8/40] END criterion=gini, max_depth=4, max_leaf_nodes=8;, score=0.771 total time=   0.0s\n",
            "[CV 4/10; 8/40] START criterion=gini, max_depth=4, max_leaf_nodes=8.............\n",
            "[CV 4/10; 8/40] END criterion=gini, max_depth=4, max_leaf_nodes=8;, score=0.792 total time=   0.0s\n",
            "[CV 5/10; 8/40] START criterion=gini, max_depth=4, max_leaf_nodes=8.............\n",
            "[CV 5/10; 8/40] END criterion=gini, max_depth=4, max_leaf_nodes=8;, score=0.771 total time=   0.0s\n",
            "[CV 6/10; 8/40] START criterion=gini, max_depth=4, max_leaf_nodes=8.............\n",
            "[CV 6/10; 8/40] END criterion=gini, max_depth=4, max_leaf_nodes=8;, score=0.771 total time=   0.0s\n",
            "[CV 7/10; 8/40] START criterion=gini, max_depth=4, max_leaf_nodes=8.............\n",
            "[CV 7/10; 8/40] END criterion=gini, max_depth=4, max_leaf_nodes=8;, score=0.771 total time=   0.0s\n",
            "[CV 8/10; 8/40] START criterion=gini, max_depth=4, max_leaf_nodes=8.............\n",
            "[CV 8/10; 8/40] END criterion=gini, max_depth=4, max_leaf_nodes=8;, score=0.771 total time=   0.0s\n",
            "[CV 9/10; 8/40] START criterion=gini, max_depth=4, max_leaf_nodes=8.............\n",
            "[CV 9/10; 8/40] END criterion=gini, max_depth=4, max_leaf_nodes=8;, score=0.792 total time=   0.0s\n",
            "[CV 10/10; 8/40] START criterion=gini, max_depth=4, max_leaf_nodes=8............\n",
            "[CV 10/10; 8/40] END criterion=gini, max_depth=4, max_leaf_nodes=8;, score=0.771 total time=   0.0s\n",
            "[CV 1/10; 9/40] START criterion=gini, max_depth=5, max_leaf_nodes=5.............\n",
            "[CV 1/10; 9/40] END criterion=gini, max_depth=5, max_leaf_nodes=5;, score=0.792 total time=   0.0s\n",
            "[CV 2/10; 9/40] START criterion=gini, max_depth=5, max_leaf_nodes=5.............\n",
            "[CV 2/10; 9/40] END criterion=gini, max_depth=5, max_leaf_nodes=5;, score=0.792 total time=   0.0s\n",
            "[CV 3/10; 9/40] START criterion=gini, max_depth=5, max_leaf_nodes=5.............\n",
            "[CV 3/10; 9/40] END criterion=gini, max_depth=5, max_leaf_nodes=5;, score=0.771 total time=   0.0s\n",
            "[CV 4/10; 9/40] START criterion=gini, max_depth=5, max_leaf_nodes=5.............\n",
            "[CV 4/10; 9/40] END criterion=gini, max_depth=5, max_leaf_nodes=5;, score=0.792 total time=   0.0s\n",
            "[CV 5/10; 9/40] START criterion=gini, max_depth=5, max_leaf_nodes=5.............\n",
            "[CV 5/10; 9/40] END criterion=gini, max_depth=5, max_leaf_nodes=5;, score=0.771 total time=   0.0s\n",
            "[CV 6/10; 9/40] START criterion=gini, max_depth=5, max_leaf_nodes=5.............\n",
            "[CV 6/10; 9/40] END criterion=gini, max_depth=5, max_leaf_nodes=5;, score=0.771 total time=   0.0s\n",
            "[CV 7/10; 9/40] START criterion=gini, max_depth=5, max_leaf_nodes=5.............\n",
            "[CV 7/10; 9/40] END criterion=gini, max_depth=5, max_leaf_nodes=5;, score=0.792 total time=   0.0s\n",
            "[CV 8/10; 9/40] START criterion=gini, max_depth=5, max_leaf_nodes=5.............\n",
            "[CV 8/10; 9/40] END criterion=gini, max_depth=5, max_leaf_nodes=5;, score=0.792 total time=   0.0s\n",
            "[CV 9/10; 9/40] START criterion=gini, max_depth=5, max_leaf_nodes=5.............\n",
            "[CV 9/10; 9/40] END criterion=gini, max_depth=5, max_leaf_nodes=5;, score=0.792 total time=   0.0s\n",
            "[CV 10/10; 9/40] START criterion=gini, max_depth=5, max_leaf_nodes=5............\n",
            "[CV 10/10; 9/40] END criterion=gini, max_depth=5, max_leaf_nodes=5;, score=0.792 total time=   0.0s\n",
            "[CV 1/10; 10/40] START criterion=gini, max_depth=5, max_leaf_nodes=6............\n",
            "[CV 1/10; 10/40] END criterion=gini, max_depth=5, max_leaf_nodes=6;, score=0.792 total time=   0.0s\n",
            "[CV 2/10; 10/40] START criterion=gini, max_depth=5, max_leaf_nodes=6............\n",
            "[CV 2/10; 10/40] END criterion=gini, max_depth=5, max_leaf_nodes=6;, score=0.792 total time=   0.0s\n",
            "[CV 3/10; 10/40] START criterion=gini, max_depth=5, max_leaf_nodes=6............\n",
            "[CV 3/10; 10/40] END criterion=gini, max_depth=5, max_leaf_nodes=6;, score=0.771 total time=   0.0s\n",
            "[CV 4/10; 10/40] START criterion=gini, max_depth=5, max_leaf_nodes=6............\n",
            "[CV 4/10; 10/40] END criterion=gini, max_depth=5, max_leaf_nodes=6;, score=0.792 total time=   0.0s\n",
            "[CV 5/10; 10/40] START criterion=gini, max_depth=5, max_leaf_nodes=6............\n",
            "[CV 5/10; 10/40] END criterion=gini, max_depth=5, max_leaf_nodes=6;, score=0.771 total time=   0.0s\n",
            "[CV 6/10; 10/40] START criterion=gini, max_depth=5, max_leaf_nodes=6............\n",
            "[CV 6/10; 10/40] END criterion=gini, max_depth=5, max_leaf_nodes=6;, score=0.750 total time=   0.0s\n",
            "[CV 7/10; 10/40] START criterion=gini, max_depth=5, max_leaf_nodes=6............\n",
            "[CV 7/10; 10/40] END criterion=gini, max_depth=5, max_leaf_nodes=6;, score=0.792 total time=   0.0s\n",
            "[CV 8/10; 10/40] START criterion=gini, max_depth=5, max_leaf_nodes=6............\n",
            "[CV 8/10; 10/40] END criterion=gini, max_depth=5, max_leaf_nodes=6;, score=0.771 total time=   0.0s\n",
            "[CV 9/10; 10/40] START criterion=gini, max_depth=5, max_leaf_nodes=6............\n",
            "[CV 9/10; 10/40] END criterion=gini, max_depth=5, max_leaf_nodes=6;, score=0.792 total time=   0.0s\n",
            "[CV 10/10; 10/40] START criterion=gini, max_depth=5, max_leaf_nodes=6...........\n",
            "[CV 10/10; 10/40] END criterion=gini, max_depth=5, max_leaf_nodes=6;, score=0.792 total time=   0.0s\n",
            "[CV 1/10; 11/40] START criterion=gini, max_depth=5, max_leaf_nodes=7............\n",
            "[CV 1/10; 11/40] END criterion=gini, max_depth=5, max_leaf_nodes=7;, score=0.792 total time=   0.0s\n",
            "[CV 2/10; 11/40] START criterion=gini, max_depth=5, max_leaf_nodes=7............\n",
            "[CV 2/10; 11/40] END criterion=gini, max_depth=5, max_leaf_nodes=7;, score=0.792 total time=   0.0s\n",
            "[CV 3/10; 11/40] START criterion=gini, max_depth=5, max_leaf_nodes=7............\n",
            "[CV 3/10; 11/40] END criterion=gini, max_depth=5, max_leaf_nodes=7;, score=0.771 total time=   0.0s\n",
            "[CV 4/10; 11/40] START criterion=gini, max_depth=5, max_leaf_nodes=7............\n",
            "[CV 4/10; 11/40] END criterion=gini, max_depth=5, max_leaf_nodes=7;, score=0.750 total time=   0.0s\n",
            "[CV 5/10; 11/40] START criterion=gini, max_depth=5, max_leaf_nodes=7............\n",
            "[CV 5/10; 11/40] END criterion=gini, max_depth=5, max_leaf_nodes=7;, score=0.771 total time=   0.0s\n",
            "[CV 6/10; 11/40] START criterion=gini, max_depth=5, max_leaf_nodes=7............\n",
            "[CV 6/10; 11/40] END criterion=gini, max_depth=5, max_leaf_nodes=7;, score=0.750 total time=   0.0s\n",
            "[CV 7/10; 11/40] START criterion=gini, max_depth=5, max_leaf_nodes=7............\n",
            "[CV 7/10; 11/40] END criterion=gini, max_depth=5, max_leaf_nodes=7;, score=0.771 total time=   0.0s\n",
            "[CV 8/10; 11/40] START criterion=gini, max_depth=5, max_leaf_nodes=7............\n",
            "[CV 8/10; 11/40] END criterion=gini, max_depth=5, max_leaf_nodes=7;, score=0.771 total time=   0.0s\n",
            "[CV 9/10; 11/40] START criterion=gini, max_depth=5, max_leaf_nodes=7............\n",
            "[CV 9/10; 11/40] END criterion=gini, max_depth=5, max_leaf_nodes=7;, score=0.792 total time=   0.0s\n",
            "[CV 10/10; 11/40] START criterion=gini, max_depth=5, max_leaf_nodes=7...........\n",
            "[CV 10/10; 11/40] END criterion=gini, max_depth=5, max_leaf_nodes=7;, score=0.792 total time=   0.0s\n",
            "[CV 1/10; 12/40] START criterion=gini, max_depth=5, max_leaf_nodes=8............\n",
            "[CV 1/10; 12/40] END criterion=gini, max_depth=5, max_leaf_nodes=8;, score=0.792 total time=   0.0s\n",
            "[CV 2/10; 12/40] START criterion=gini, max_depth=5, max_leaf_nodes=8............\n",
            "[CV 2/10; 12/40] END criterion=gini, max_depth=5, max_leaf_nodes=8;, score=0.812 total time=   0.0s\n",
            "[CV 3/10; 12/40] START criterion=gini, max_depth=5, max_leaf_nodes=8............\n",
            "[CV 3/10; 12/40] END criterion=gini, max_depth=5, max_leaf_nodes=8;, score=0.771 total time=   0.0s\n",
            "[CV 4/10; 12/40] START criterion=gini, max_depth=5, max_leaf_nodes=8............\n",
            "[CV 4/10; 12/40] END criterion=gini, max_depth=5, max_leaf_nodes=8;, score=0.750 total time=   0.0s\n",
            "[CV 5/10; 12/40] START criterion=gini, max_depth=5, max_leaf_nodes=8............\n",
            "[CV 5/10; 12/40] END criterion=gini, max_depth=5, max_leaf_nodes=8;, score=0.771 total time=   0.0s\n",
            "[CV 6/10; 12/40] START criterion=gini, max_depth=5, max_leaf_nodes=8............\n",
            "[CV 6/10; 12/40] END criterion=gini, max_depth=5, max_leaf_nodes=8;, score=0.771 total time=   0.0s\n",
            "[CV 7/10; 12/40] START criterion=gini, max_depth=5, max_leaf_nodes=8............\n",
            "[CV 7/10; 12/40] END criterion=gini, max_depth=5, max_leaf_nodes=8;, score=0.812 total time=   0.0s\n",
            "[CV 8/10; 12/40] START criterion=gini, max_depth=5, max_leaf_nodes=8............\n",
            "[CV 8/10; 12/40] END criterion=gini, max_depth=5, max_leaf_nodes=8;, score=0.771 total time=   0.0s\n",
            "[CV 9/10; 12/40] START criterion=gini, max_depth=5, max_leaf_nodes=8............\n",
            "[CV 9/10; 12/40] END criterion=gini, max_depth=5, max_leaf_nodes=8;, score=0.792 total time=   0.0s\n",
            "[CV 10/10; 12/40] START criterion=gini, max_depth=5, max_leaf_nodes=8...........\n",
            "[CV 10/10; 12/40] END criterion=gini, max_depth=5, max_leaf_nodes=8;, score=0.792 total time=   0.0s\n",
            "[CV 1/10; 13/40] START criterion=gini, max_depth=6, max_leaf_nodes=5............\n",
            "[CV 1/10; 13/40] END criterion=gini, max_depth=6, max_leaf_nodes=5;, score=0.792 total time=   0.0s\n",
            "[CV 2/10; 13/40] START criterion=gini, max_depth=6, max_leaf_nodes=5............\n",
            "[CV 2/10; 13/40] END criterion=gini, max_depth=6, max_leaf_nodes=5;, score=0.792 total time=   0.0s\n",
            "[CV 3/10; 13/40] START criterion=gini, max_depth=6, max_leaf_nodes=5............\n",
            "[CV 3/10; 13/40] END criterion=gini, max_depth=6, max_leaf_nodes=5;, score=0.771 total time=   0.0s\n",
            "[CV 4/10; 13/40] START criterion=gini, max_depth=6, max_leaf_nodes=5............\n",
            "[CV 4/10; 13/40] END criterion=gini, max_depth=6, max_leaf_nodes=5;, score=0.792 total time=   0.0s\n",
            "[CV 5/10; 13/40] START criterion=gini, max_depth=6, max_leaf_nodes=5............\n",
            "[CV 5/10; 13/40] END criterion=gini, max_depth=6, max_leaf_nodes=5;, score=0.771 total time=   0.0s\n",
            "[CV 6/10; 13/40] START criterion=gini, max_depth=6, max_leaf_nodes=5............\n",
            "[CV 6/10; 13/40] END criterion=gini, max_depth=6, max_leaf_nodes=5;, score=0.771 total time=   0.0s\n",
            "[CV 7/10; 13/40] START criterion=gini, max_depth=6, max_leaf_nodes=5............\n",
            "[CV 7/10; 13/40] END criterion=gini, max_depth=6, max_leaf_nodes=5;, score=0.792 total time=   0.0s\n",
            "[CV 8/10; 13/40] START criterion=gini, max_depth=6, max_leaf_nodes=5............\n",
            "[CV 8/10; 13/40] END criterion=gini, max_depth=6, max_leaf_nodes=5;, score=0.792 total time=   0.0s\n",
            "[CV 9/10; 13/40] START criterion=gini, max_depth=6, max_leaf_nodes=5............\n",
            "[CV 9/10; 13/40] END criterion=gini, max_depth=6, max_leaf_nodes=5;, score=0.792 total time=   0.0s\n",
            "[CV 10/10; 13/40] START criterion=gini, max_depth=6, max_leaf_nodes=5...........\n",
            "[CV 10/10; 13/40] END criterion=gini, max_depth=6, max_leaf_nodes=5;, score=0.792 total time=   0.0s\n",
            "[CV 1/10; 14/40] START criterion=gini, max_depth=6, max_leaf_nodes=6............\n",
            "[CV 1/10; 14/40] END criterion=gini, max_depth=6, max_leaf_nodes=6;, score=0.792 total time=   0.0s\n",
            "[CV 2/10; 14/40] START criterion=gini, max_depth=6, max_leaf_nodes=6............\n",
            "[CV 2/10; 14/40] END criterion=gini, max_depth=6, max_leaf_nodes=6;, score=0.792 total time=   0.0s\n",
            "[CV 3/10; 14/40] START criterion=gini, max_depth=6, max_leaf_nodes=6............\n",
            "[CV 3/10; 14/40] END criterion=gini, max_depth=6, max_leaf_nodes=6;, score=0.771 total time=   0.0s\n",
            "[CV 4/10; 14/40] START criterion=gini, max_depth=6, max_leaf_nodes=6............\n",
            "[CV 4/10; 14/40] END criterion=gini, max_depth=6, max_leaf_nodes=6;, score=0.792 total time=   0.0s\n",
            "[CV 5/10; 14/40] START criterion=gini, max_depth=6, max_leaf_nodes=6............\n",
            "[CV 5/10; 14/40] END criterion=gini, max_depth=6, max_leaf_nodes=6;, score=0.771 total time=   0.0s\n",
            "[CV 6/10; 14/40] START criterion=gini, max_depth=6, max_leaf_nodes=6............\n",
            "[CV 6/10; 14/40] END criterion=gini, max_depth=6, max_leaf_nodes=6;, score=0.750 total time=   0.0s\n",
            "[CV 7/10; 14/40] START criterion=gini, max_depth=6, max_leaf_nodes=6............\n",
            "[CV 7/10; 14/40] END criterion=gini, max_depth=6, max_leaf_nodes=6;, score=0.792 total time=   0.0s\n",
            "[CV 8/10; 14/40] START criterion=gini, max_depth=6, max_leaf_nodes=6............\n",
            "[CV 8/10; 14/40] END criterion=gini, max_depth=6, max_leaf_nodes=6;, score=0.771 total time=   0.0s\n",
            "[CV 9/10; 14/40] START criterion=gini, max_depth=6, max_leaf_nodes=6............\n",
            "[CV 9/10; 14/40] END criterion=gini, max_depth=6, max_leaf_nodes=6;, score=0.792 total time=   0.0s\n",
            "[CV 10/10; 14/40] START criterion=gini, max_depth=6, max_leaf_nodes=6...........\n",
            "[CV 10/10; 14/40] END criterion=gini, max_depth=6, max_leaf_nodes=6;, score=0.792 total time=   0.0s\n",
            "[CV 1/10; 15/40] START criterion=gini, max_depth=6, max_leaf_nodes=7............\n",
            "[CV 1/10; 15/40] END criterion=gini, max_depth=6, max_leaf_nodes=7;, score=0.792 total time=   0.0s\n",
            "[CV 2/10; 15/40] START criterion=gini, max_depth=6, max_leaf_nodes=7............\n",
            "[CV 2/10; 15/40] END criterion=gini, max_depth=6, max_leaf_nodes=7;, score=0.792 total time=   0.0s\n",
            "[CV 3/10; 15/40] START criterion=gini, max_depth=6, max_leaf_nodes=7............\n",
            "[CV 3/10; 15/40] END criterion=gini, max_depth=6, max_leaf_nodes=7;, score=0.771 total time=   0.0s\n",
            "[CV 4/10; 15/40] START criterion=gini, max_depth=6, max_leaf_nodes=7............\n",
            "[CV 4/10; 15/40] END criterion=gini, max_depth=6, max_leaf_nodes=7;, score=0.750 total time=   0.0s\n",
            "[CV 5/10; 15/40] START criterion=gini, max_depth=6, max_leaf_nodes=7............\n",
            "[CV 5/10; 15/40] END criterion=gini, max_depth=6, max_leaf_nodes=7;, score=0.771 total time=   0.0s\n",
            "[CV 6/10; 15/40] START criterion=gini, max_depth=6, max_leaf_nodes=7............\n",
            "[CV 6/10; 15/40] END criterion=gini, max_depth=6, max_leaf_nodes=7;, score=0.750 total time=   0.0s\n",
            "[CV 7/10; 15/40] START criterion=gini, max_depth=6, max_leaf_nodes=7............\n",
            "[CV 7/10; 15/40] END criterion=gini, max_depth=6, max_leaf_nodes=7;, score=0.771 total time=   0.0s\n",
            "[CV 8/10; 15/40] START criterion=gini, max_depth=6, max_leaf_nodes=7............\n",
            "[CV 8/10; 15/40] END criterion=gini, max_depth=6, max_leaf_nodes=7;, score=0.771 total time=   0.0s\n",
            "[CV 9/10; 15/40] START criterion=gini, max_depth=6, max_leaf_nodes=7............\n",
            "[CV 9/10; 15/40] END criterion=gini, max_depth=6, max_leaf_nodes=7;, score=0.792 total time=   0.0s\n",
            "[CV 10/10; 15/40] START criterion=gini, max_depth=6, max_leaf_nodes=7...........\n",
            "[CV 10/10; 15/40] END criterion=gini, max_depth=6, max_leaf_nodes=7;, score=0.792 total time=   0.0s\n",
            "[CV 1/10; 16/40] START criterion=gini, max_depth=6, max_leaf_nodes=8............\n",
            "[CV 1/10; 16/40] END criterion=gini, max_depth=6, max_leaf_nodes=8;, score=0.792 total time=   0.0s\n",
            "[CV 2/10; 16/40] START criterion=gini, max_depth=6, max_leaf_nodes=8............\n",
            "[CV 2/10; 16/40] END criterion=gini, max_depth=6, max_leaf_nodes=8;, score=0.792 total time=   0.0s\n",
            "[CV 3/10; 16/40] START criterion=gini, max_depth=6, max_leaf_nodes=8............\n",
            "[CV 3/10; 16/40] END criterion=gini, max_depth=6, max_leaf_nodes=8;, score=0.771 total time=   0.0s\n",
            "[CV 4/10; 16/40] START criterion=gini, max_depth=6, max_leaf_nodes=8............\n",
            "[CV 4/10; 16/40] END criterion=gini, max_depth=6, max_leaf_nodes=8;, score=0.792 total time=   0.0s\n",
            "[CV 5/10; 16/40] START criterion=gini, max_depth=6, max_leaf_nodes=8............\n",
            "[CV 5/10; 16/40] END criterion=gini, max_depth=6, max_leaf_nodes=8;, score=0.771 total time=   0.0s\n",
            "[CV 6/10; 16/40] START criterion=gini, max_depth=6, max_leaf_nodes=8............\n",
            "[CV 6/10; 16/40] END criterion=gini, max_depth=6, max_leaf_nodes=8;, score=0.771 total time=   0.0s\n",
            "[CV 7/10; 16/40] START criterion=gini, max_depth=6, max_leaf_nodes=8............\n",
            "[CV 7/10; 16/40] END criterion=gini, max_depth=6, max_leaf_nodes=8;, score=0.812 total time=   0.0s\n",
            "[CV 8/10; 16/40] START criterion=gini, max_depth=6, max_leaf_nodes=8............\n",
            "[CV 8/10; 16/40] END criterion=gini, max_depth=6, max_leaf_nodes=8;, score=0.771 total time=   0.0s\n",
            "[CV 9/10; 16/40] START criterion=gini, max_depth=6, max_leaf_nodes=8............\n",
            "[CV 9/10; 16/40] END criterion=gini, max_depth=6, max_leaf_nodes=8;, score=0.792 total time=   0.0s\n",
            "[CV 10/10; 16/40] START criterion=gini, max_depth=6, max_leaf_nodes=8...........\n",
            "[CV 10/10; 16/40] END criterion=gini, max_depth=6, max_leaf_nodes=8;, score=0.792 total time=   0.0s\n",
            "[CV 1/10; 17/40] START criterion=gini, max_depth=7, max_leaf_nodes=5............\n",
            "[CV 1/10; 17/40] END criterion=gini, max_depth=7, max_leaf_nodes=5;, score=0.792 total time=   0.0s\n",
            "[CV 2/10; 17/40] START criterion=gini, max_depth=7, max_leaf_nodes=5............\n",
            "[CV 2/10; 17/40] END criterion=gini, max_depth=7, max_leaf_nodes=5;, score=0.792 total time=   0.0s\n",
            "[CV 3/10; 17/40] START criterion=gini, max_depth=7, max_leaf_nodes=5............\n",
            "[CV 3/10; 17/40] END criterion=gini, max_depth=7, max_leaf_nodes=5;, score=0.771 total time=   0.0s\n",
            "[CV 4/10; 17/40] START criterion=gini, max_depth=7, max_leaf_nodes=5............\n",
            "[CV 4/10; 17/40] END criterion=gini, max_depth=7, max_leaf_nodes=5;, score=0.792 total time=   0.0s\n",
            "[CV 5/10; 17/40] START criterion=gini, max_depth=7, max_leaf_nodes=5............\n",
            "[CV 5/10; 17/40] END criterion=gini, max_depth=7, max_leaf_nodes=5;, score=0.771 total time=   0.0s\n",
            "[CV 6/10; 17/40] START criterion=gini, max_depth=7, max_leaf_nodes=5............\n",
            "[CV 6/10; 17/40] END criterion=gini, max_depth=7, max_leaf_nodes=5;, score=0.771 total time=   0.0s\n",
            "[CV 7/10; 17/40] START criterion=gini, max_depth=7, max_leaf_nodes=5............\n",
            "[CV 7/10; 17/40] END criterion=gini, max_depth=7, max_leaf_nodes=5;, score=0.792 total time=   0.0s\n",
            "[CV 8/10; 17/40] START criterion=gini, max_depth=7, max_leaf_nodes=5............\n",
            "[CV 8/10; 17/40] END criterion=gini, max_depth=7, max_leaf_nodes=5;, score=0.792 total time=   0.0s\n",
            "[CV 9/10; 17/40] START criterion=gini, max_depth=7, max_leaf_nodes=5............\n",
            "[CV 9/10; 17/40] END criterion=gini, max_depth=7, max_leaf_nodes=5;, score=0.792 total time=   0.0s\n",
            "[CV 10/10; 17/40] START criterion=gini, max_depth=7, max_leaf_nodes=5...........\n",
            "[CV 10/10; 17/40] END criterion=gini, max_depth=7, max_leaf_nodes=5;, score=0.792 total time=   0.0s\n",
            "[CV 1/10; 18/40] START criterion=gini, max_depth=7, max_leaf_nodes=6............\n",
            "[CV 1/10; 18/40] END criterion=gini, max_depth=7, max_leaf_nodes=6;, score=0.792 total time=   0.0s\n",
            "[CV 2/10; 18/40] START criterion=gini, max_depth=7, max_leaf_nodes=6............\n",
            "[CV 2/10; 18/40] END criterion=gini, max_depth=7, max_leaf_nodes=6;, score=0.792 total time=   0.0s\n",
            "[CV 3/10; 18/40] START criterion=gini, max_depth=7, max_leaf_nodes=6............\n",
            "[CV 3/10; 18/40] END criterion=gini, max_depth=7, max_leaf_nodes=6;, score=0.771 total time=   0.0s\n",
            "[CV 4/10; 18/40] START criterion=gini, max_depth=7, max_leaf_nodes=6............\n",
            "[CV 4/10; 18/40] END criterion=gini, max_depth=7, max_leaf_nodes=6;, score=0.792 total time=   0.0s\n",
            "[CV 5/10; 18/40] START criterion=gini, max_depth=7, max_leaf_nodes=6............\n",
            "[CV 5/10; 18/40] END criterion=gini, max_depth=7, max_leaf_nodes=6;, score=0.771 total time=   0.0s\n",
            "[CV 6/10; 18/40] START criterion=gini, max_depth=7, max_leaf_nodes=6............\n",
            "[CV 6/10; 18/40] END criterion=gini, max_depth=7, max_leaf_nodes=6;, score=0.750 total time=   0.0s\n",
            "[CV 7/10; 18/40] START criterion=gini, max_depth=7, max_leaf_nodes=6............\n",
            "[CV 7/10; 18/40] END criterion=gini, max_depth=7, max_leaf_nodes=6;, score=0.792 total time=   0.0s\n",
            "[CV 8/10; 18/40] START criterion=gini, max_depth=7, max_leaf_nodes=6............\n",
            "[CV 8/10; 18/40] END criterion=gini, max_depth=7, max_leaf_nodes=6;, score=0.771 total time=   0.0s\n",
            "[CV 9/10; 18/40] START criterion=gini, max_depth=7, max_leaf_nodes=6............\n",
            "[CV 9/10; 18/40] END criterion=gini, max_depth=7, max_leaf_nodes=6;, score=0.792 total time=   0.0s\n",
            "[CV 10/10; 18/40] START criterion=gini, max_depth=7, max_leaf_nodes=6...........\n",
            "[CV 10/10; 18/40] END criterion=gini, max_depth=7, max_leaf_nodes=6;, score=0.792 total time=   0.0s\n",
            "[CV 1/10; 19/40] START criterion=gini, max_depth=7, max_leaf_nodes=7............\n",
            "[CV 1/10; 19/40] END criterion=gini, max_depth=7, max_leaf_nodes=7;, score=0.792 total time=   0.0s\n",
            "[CV 2/10; 19/40] START criterion=gini, max_depth=7, max_leaf_nodes=7............\n",
            "[CV 2/10; 19/40] END criterion=gini, max_depth=7, max_leaf_nodes=7;, score=0.792 total time=   0.0s\n",
            "[CV 3/10; 19/40] START criterion=gini, max_depth=7, max_leaf_nodes=7............\n",
            "[CV 3/10; 19/40] END criterion=gini, max_depth=7, max_leaf_nodes=7;, score=0.771 total time=   0.0s\n",
            "[CV 4/10; 19/40] START criterion=gini, max_depth=7, max_leaf_nodes=7............\n",
            "[CV 4/10; 19/40] END criterion=gini, max_depth=7, max_leaf_nodes=7;, score=0.750 total time=   0.0s\n",
            "[CV 5/10; 19/40] START criterion=gini, max_depth=7, max_leaf_nodes=7............\n",
            "[CV 5/10; 19/40] END criterion=gini, max_depth=7, max_leaf_nodes=7;, score=0.771 total time=   0.0s\n",
            "[CV 6/10; 19/40] START criterion=gini, max_depth=7, max_leaf_nodes=7............\n",
            "[CV 6/10; 19/40] END criterion=gini, max_depth=7, max_leaf_nodes=7;, score=0.750 total time=   0.0s\n",
            "[CV 7/10; 19/40] START criterion=gini, max_depth=7, max_leaf_nodes=7............\n",
            "[CV 7/10; 19/40] END criterion=gini, max_depth=7, max_leaf_nodes=7;, score=0.771 total time=   0.0s\n",
            "[CV 8/10; 19/40] START criterion=gini, max_depth=7, max_leaf_nodes=7............\n",
            "[CV 8/10; 19/40] END criterion=gini, max_depth=7, max_leaf_nodes=7;, score=0.771 total time=   0.0s\n",
            "[CV 9/10; 19/40] START criterion=gini, max_depth=7, max_leaf_nodes=7............\n",
            "[CV 9/10; 19/40] END criterion=gini, max_depth=7, max_leaf_nodes=7;, score=0.792 total time=   0.0s\n",
            "[CV 10/10; 19/40] START criterion=gini, max_depth=7, max_leaf_nodes=7...........\n",
            "[CV 10/10; 19/40] END criterion=gini, max_depth=7, max_leaf_nodes=7;, score=0.792 total time=   0.0s\n",
            "[CV 1/10; 20/40] START criterion=gini, max_depth=7, max_leaf_nodes=8............\n",
            "[CV 1/10; 20/40] END criterion=gini, max_depth=7, max_leaf_nodes=8;, score=0.792 total time=   0.0s\n",
            "[CV 2/10; 20/40] START criterion=gini, max_depth=7, max_leaf_nodes=8............\n",
            "[CV 2/10; 20/40] END criterion=gini, max_depth=7, max_leaf_nodes=8;, score=0.792 total time=   0.0s\n",
            "[CV 3/10; 20/40] START criterion=gini, max_depth=7, max_leaf_nodes=8............\n",
            "[CV 3/10; 20/40] END criterion=gini, max_depth=7, max_leaf_nodes=8;, score=0.771 total time=   0.0s\n",
            "[CV 4/10; 20/40] START criterion=gini, max_depth=7, max_leaf_nodes=8............\n",
            "[CV 4/10; 20/40] END criterion=gini, max_depth=7, max_leaf_nodes=8;, score=0.792 total time=   0.0s\n",
            "[CV 5/10; 20/40] START criterion=gini, max_depth=7, max_leaf_nodes=8............\n",
            "[CV 5/10; 20/40] END criterion=gini, max_depth=7, max_leaf_nodes=8;, score=0.771 total time=   0.0s\n",
            "[CV 6/10; 20/40] START criterion=gini, max_depth=7, max_leaf_nodes=8............\n",
            "[CV 6/10; 20/40] END criterion=gini, max_depth=7, max_leaf_nodes=8;, score=0.771 total time=   0.0s\n",
            "[CV 7/10; 20/40] START criterion=gini, max_depth=7, max_leaf_nodes=8............\n",
            "[CV 7/10; 20/40] END criterion=gini, max_depth=7, max_leaf_nodes=8;, score=0.812 total time=   0.0s\n",
            "[CV 8/10; 20/40] START criterion=gini, max_depth=7, max_leaf_nodes=8............\n",
            "[CV 8/10; 20/40] END criterion=gini, max_depth=7, max_leaf_nodes=8;, score=0.771 total time=   0.0s\n",
            "[CV 9/10; 20/40] START criterion=gini, max_depth=7, max_leaf_nodes=8............\n",
            "[CV 9/10; 20/40] END criterion=gini, max_depth=7, max_leaf_nodes=8;, score=0.792 total time=   0.0s\n",
            "[CV 10/10; 20/40] START criterion=gini, max_depth=7, max_leaf_nodes=8...........\n",
            "[CV 10/10; 20/40] END criterion=gini, max_depth=7, max_leaf_nodes=8;, score=0.792 total time=   0.0s\n",
            "[CV 1/10; 21/40] START criterion=entropy, max_depth=3, max_leaf_nodes=5.........\n",
            "[CV 1/10; 21/40] END criterion=entropy, max_depth=3, max_leaf_nodes=5;, score=0.792 total time=   0.0s\n",
            "[CV 2/10; 21/40] START criterion=entropy, max_depth=3, max_leaf_nodes=5.........\n",
            "[CV 2/10; 21/40] END criterion=entropy, max_depth=3, max_leaf_nodes=5;, score=0.792 total time=   0.0s\n",
            "[CV 3/10; 21/40] START criterion=entropy, max_depth=3, max_leaf_nodes=5.........\n",
            "[CV 3/10; 21/40] END criterion=entropy, max_depth=3, max_leaf_nodes=5;, score=0.792 total time=   0.0s\n",
            "[CV 4/10; 21/40] START criterion=entropy, max_depth=3, max_leaf_nodes=5.........\n",
            "[CV 4/10; 21/40] END criterion=entropy, max_depth=3, max_leaf_nodes=5;, score=0.792 total time=   0.0s\n",
            "[CV 5/10; 21/40] START criterion=entropy, max_depth=3, max_leaf_nodes=5.........\n",
            "[CV 5/10; 21/40] END criterion=entropy, max_depth=3, max_leaf_nodes=5;, score=0.771 total time=   0.0s\n",
            "[CV 6/10; 21/40] START criterion=entropy, max_depth=3, max_leaf_nodes=5.........\n",
            "[CV 6/10; 21/40] END criterion=entropy, max_depth=3, max_leaf_nodes=5;, score=0.771 total time=   0.0s\n",
            "[CV 7/10; 21/40] START criterion=entropy, max_depth=3, max_leaf_nodes=5.........\n",
            "[CV 7/10; 21/40] END criterion=entropy, max_depth=3, max_leaf_nodes=5;, score=0.792 total time=   0.0s\n",
            "[CV 8/10; 21/40] START criterion=entropy, max_depth=3, max_leaf_nodes=5.........\n",
            "[CV 8/10; 21/40] END criterion=entropy, max_depth=3, max_leaf_nodes=5;, score=0.792 total time=   0.0s\n",
            "[CV 9/10; 21/40] START criterion=entropy, max_depth=3, max_leaf_nodes=5.........\n",
            "[CV 9/10; 21/40] END criterion=entropy, max_depth=3, max_leaf_nodes=5;, score=0.792 total time=   0.0s\n",
            "[CV 10/10; 21/40] START criterion=entropy, max_depth=3, max_leaf_nodes=5........\n",
            "[CV 10/10; 21/40] END criterion=entropy, max_depth=3, max_leaf_nodes=5;, score=0.792 total time=   0.0s\n",
            "[CV 1/10; 22/40] START criterion=entropy, max_depth=3, max_leaf_nodes=6.........\n",
            "[CV 1/10; 22/40] END criterion=entropy, max_depth=3, max_leaf_nodes=6;, score=0.792 total time=   0.0s\n",
            "[CV 2/10; 22/40] START criterion=entropy, max_depth=3, max_leaf_nodes=6.........\n",
            "[CV 2/10; 22/40] END criterion=entropy, max_depth=3, max_leaf_nodes=6;, score=0.792 total time=   0.0s\n",
            "[CV 3/10; 22/40] START criterion=entropy, max_depth=3, max_leaf_nodes=6.........\n",
            "[CV 3/10; 22/40] END criterion=entropy, max_depth=3, max_leaf_nodes=6;, score=0.792 total time=   0.0s\n",
            "[CV 4/10; 22/40] START criterion=entropy, max_depth=3, max_leaf_nodes=6.........\n",
            "[CV 4/10; 22/40] END criterion=entropy, max_depth=3, max_leaf_nodes=6;, score=0.792 total time=   0.0s\n",
            "[CV 5/10; 22/40] START criterion=entropy, max_depth=3, max_leaf_nodes=6.........\n",
            "[CV 5/10; 22/40] END criterion=entropy, max_depth=3, max_leaf_nodes=6;, score=0.771 total time=   0.0s\n",
            "[CV 6/10; 22/40] START criterion=entropy, max_depth=3, max_leaf_nodes=6.........\n",
            "[CV 6/10; 22/40] END criterion=entropy, max_depth=3, max_leaf_nodes=6;, score=0.771 total time=   0.0s\n",
            "[CV 7/10; 22/40] START criterion=entropy, max_depth=3, max_leaf_nodes=6.........\n",
            "[CV 7/10; 22/40] END criterion=entropy, max_depth=3, max_leaf_nodes=6;, score=0.792 total time=   0.0s\n",
            "[CV 8/10; 22/40] START criterion=entropy, max_depth=3, max_leaf_nodes=6.........\n",
            "[CV 8/10; 22/40] END criterion=entropy, max_depth=3, max_leaf_nodes=6;, score=0.771 total time=   0.0s\n",
            "[CV 9/10; 22/40] START criterion=entropy, max_depth=3, max_leaf_nodes=6.........\n",
            "[CV 9/10; 22/40] END criterion=entropy, max_depth=3, max_leaf_nodes=6;, score=0.792 total time=   0.0s\n",
            "[CV 10/10; 22/40] START criterion=entropy, max_depth=3, max_leaf_nodes=6........\n",
            "[CV 10/10; 22/40] END criterion=entropy, max_depth=3, max_leaf_nodes=6;, score=0.792 total time=   0.0s\n",
            "[CV 1/10; 23/40] START criterion=entropy, max_depth=3, max_leaf_nodes=7.........\n",
            "[CV 1/10; 23/40] END criterion=entropy, max_depth=3, max_leaf_nodes=7;, score=0.792 total time=   0.0s\n",
            "[CV 2/10; 23/40] START criterion=entropy, max_depth=3, max_leaf_nodes=7.........\n",
            "[CV 2/10; 23/40] END criterion=entropy, max_depth=3, max_leaf_nodes=7;, score=0.792 total time=   0.0s\n",
            "[CV 3/10; 23/40] START criterion=entropy, max_depth=3, max_leaf_nodes=7.........\n",
            "[CV 3/10; 23/40] END criterion=entropy, max_depth=3, max_leaf_nodes=7;, score=0.792 total time=   0.0s\n",
            "[CV 4/10; 23/40] START criterion=entropy, max_depth=3, max_leaf_nodes=7.........\n",
            "[CV 4/10; 23/40] END criterion=entropy, max_depth=3, max_leaf_nodes=7;, score=0.792 total time=   0.0s\n",
            "[CV 5/10; 23/40] START criterion=entropy, max_depth=3, max_leaf_nodes=7.........\n",
            "[CV 5/10; 23/40] END criterion=entropy, max_depth=3, max_leaf_nodes=7;, score=0.771 total time=   0.0s\n",
            "[CV 6/10; 23/40] START criterion=entropy, max_depth=3, max_leaf_nodes=7.........\n",
            "[CV 6/10; 23/40] END criterion=entropy, max_depth=3, max_leaf_nodes=7;, score=0.792 total time=   0.0s\n",
            "[CV 7/10; 23/40] START criterion=entropy, max_depth=3, max_leaf_nodes=7.........\n",
            "[CV 7/10; 23/40] END criterion=entropy, max_depth=3, max_leaf_nodes=7;, score=0.792 total time=   0.0s\n",
            "[CV 8/10; 23/40] START criterion=entropy, max_depth=3, max_leaf_nodes=7.........\n",
            "[CV 8/10; 23/40] END criterion=entropy, max_depth=3, max_leaf_nodes=7;, score=0.771 total time=   0.0s\n",
            "[CV 9/10; 23/40] START criterion=entropy, max_depth=3, max_leaf_nodes=7.........\n",
            "[CV 9/10; 23/40] END criterion=entropy, max_depth=3, max_leaf_nodes=7;, score=0.792 total time=   0.0s\n",
            "[CV 10/10; 23/40] START criterion=entropy, max_depth=3, max_leaf_nodes=7........\n",
            "[CV 10/10; 23/40] END criterion=entropy, max_depth=3, max_leaf_nodes=7;, score=0.792 total time=   0.0s\n",
            "[CV 1/10; 24/40] START criterion=entropy, max_depth=3, max_leaf_nodes=8.........\n",
            "[CV 1/10; 24/40] END criterion=entropy, max_depth=3, max_leaf_nodes=8;, score=0.792 total time=   0.0s\n",
            "[CV 2/10; 24/40] START criterion=entropy, max_depth=3, max_leaf_nodes=8.........\n",
            "[CV 2/10; 24/40] END criterion=entropy, max_depth=3, max_leaf_nodes=8;, score=0.792 total time=   0.0s\n",
            "[CV 3/10; 24/40] START criterion=entropy, max_depth=3, max_leaf_nodes=8.........\n",
            "[CV 3/10; 24/40] END criterion=entropy, max_depth=3, max_leaf_nodes=8;, score=0.792 total time=   0.0s\n",
            "[CV 4/10; 24/40] START criterion=entropy, max_depth=3, max_leaf_nodes=8.........\n",
            "[CV 4/10; 24/40] END criterion=entropy, max_depth=3, max_leaf_nodes=8;, score=0.792 total time=   0.0s\n",
            "[CV 5/10; 24/40] START criterion=entropy, max_depth=3, max_leaf_nodes=8.........\n",
            "[CV 5/10; 24/40] END criterion=entropy, max_depth=3, max_leaf_nodes=8;, score=0.771 total time=   0.0s\n",
            "[CV 6/10; 24/40] START criterion=entropy, max_depth=3, max_leaf_nodes=8.........\n",
            "[CV 6/10; 24/40] END criterion=entropy, max_depth=3, max_leaf_nodes=8;, score=0.792 total time=   0.0s\n",
            "[CV 7/10; 24/40] START criterion=entropy, max_depth=3, max_leaf_nodes=8.........\n",
            "[CV 7/10; 24/40] END criterion=entropy, max_depth=3, max_leaf_nodes=8;, score=0.792 total time=   0.0s\n",
            "[CV 8/10; 24/40] START criterion=entropy, max_depth=3, max_leaf_nodes=8.........\n",
            "[CV 8/10; 24/40] END criterion=entropy, max_depth=3, max_leaf_nodes=8;, score=0.771 total time=   0.0s\n",
            "[CV 9/10; 24/40] START criterion=entropy, max_depth=3, max_leaf_nodes=8.........\n",
            "[CV 9/10; 24/40] END criterion=entropy, max_depth=3, max_leaf_nodes=8;, score=0.792 total time=   0.0s\n",
            "[CV 10/10; 24/40] START criterion=entropy, max_depth=3, max_leaf_nodes=8........\n",
            "[CV 10/10; 24/40] END criterion=entropy, max_depth=3, max_leaf_nodes=8;, score=0.792 total time=   0.0s\n",
            "[CV 1/10; 25/40] START criterion=entropy, max_depth=4, max_leaf_nodes=5.........\n",
            "[CV 1/10; 25/40] END criterion=entropy, max_depth=4, max_leaf_nodes=5;, score=0.792 total time=   0.0s\n",
            "[CV 2/10; 25/40] START criterion=entropy, max_depth=4, max_leaf_nodes=5.........\n",
            "[CV 2/10; 25/40] END criterion=entropy, max_depth=4, max_leaf_nodes=5;, score=0.792 total time=   0.0s\n",
            "[CV 3/10; 25/40] START criterion=entropy, max_depth=4, max_leaf_nodes=5.........\n",
            "[CV 3/10; 25/40] END criterion=entropy, max_depth=4, max_leaf_nodes=5;, score=0.792 total time=   0.0s\n",
            "[CV 4/10; 25/40] START criterion=entropy, max_depth=4, max_leaf_nodes=5.........\n",
            "[CV 4/10; 25/40] END criterion=entropy, max_depth=4, max_leaf_nodes=5;, score=0.792 total time=   0.0s\n",
            "[CV 5/10; 25/40] START criterion=entropy, max_depth=4, max_leaf_nodes=5.........\n",
            "[CV 5/10; 25/40] END criterion=entropy, max_depth=4, max_leaf_nodes=5;, score=0.771 total time=   0.0s\n",
            "[CV 6/10; 25/40] START criterion=entropy, max_depth=4, max_leaf_nodes=5.........\n",
            "[CV 6/10; 25/40] END criterion=entropy, max_depth=4, max_leaf_nodes=5;, score=0.771 total time=   0.0s\n",
            "[CV 7/10; 25/40] START criterion=entropy, max_depth=4, max_leaf_nodes=5.........\n",
            "[CV 7/10; 25/40] END criterion=entropy, max_depth=4, max_leaf_nodes=5;, score=0.792 total time=   0.0s\n",
            "[CV 8/10; 25/40] START criterion=entropy, max_depth=4, max_leaf_nodes=5.........\n",
            "[CV 8/10; 25/40] END criterion=entropy, max_depth=4, max_leaf_nodes=5;, score=0.792 total time=   0.0s\n",
            "[CV 9/10; 25/40] START criterion=entropy, max_depth=4, max_leaf_nodes=5.........\n",
            "[CV 9/10; 25/40] END criterion=entropy, max_depth=4, max_leaf_nodes=5;, score=0.792 total time=   0.0s\n",
            "[CV 10/10; 25/40] START criterion=entropy, max_depth=4, max_leaf_nodes=5........\n",
            "[CV 10/10; 25/40] END criterion=entropy, max_depth=4, max_leaf_nodes=5;, score=0.792 total time=   0.0s\n",
            "[CV 1/10; 26/40] START criterion=entropy, max_depth=4, max_leaf_nodes=6.........\n",
            "[CV 1/10; 26/40] END criterion=entropy, max_depth=4, max_leaf_nodes=6;, score=0.792 total time=   0.0s\n",
            "[CV 2/10; 26/40] START criterion=entropy, max_depth=4, max_leaf_nodes=6.........\n",
            "[CV 2/10; 26/40] END criterion=entropy, max_depth=4, max_leaf_nodes=6;, score=0.792 total time=   0.0s\n",
            "[CV 3/10; 26/40] START criterion=entropy, max_depth=4, max_leaf_nodes=6.........\n",
            "[CV 3/10; 26/40] END criterion=entropy, max_depth=4, max_leaf_nodes=6;, score=0.771 total time=   0.0s\n",
            "[CV 4/10; 26/40] START criterion=entropy, max_depth=4, max_leaf_nodes=6.........\n",
            "[CV 4/10; 26/40] END criterion=entropy, max_depth=4, max_leaf_nodes=6;, score=0.792 total time=   0.0s\n",
            "[CV 5/10; 26/40] START criterion=entropy, max_depth=4, max_leaf_nodes=6.........\n",
            "[CV 5/10; 26/40] END criterion=entropy, max_depth=4, max_leaf_nodes=6;, score=0.771 total time=   0.0s\n",
            "[CV 6/10; 26/40] START criterion=entropy, max_depth=4, max_leaf_nodes=6.........\n",
            "[CV 6/10; 26/40] END criterion=entropy, max_depth=4, max_leaf_nodes=6;, score=0.750 total time=   0.0s\n",
            "[CV 7/10; 26/40] START criterion=entropy, max_depth=4, max_leaf_nodes=6.........\n",
            "[CV 7/10; 26/40] END criterion=entropy, max_depth=4, max_leaf_nodes=6;, score=0.792 total time=   0.0s\n",
            "[CV 8/10; 26/40] START criterion=entropy, max_depth=4, max_leaf_nodes=6.........\n",
            "[CV 8/10; 26/40] END criterion=entropy, max_depth=4, max_leaf_nodes=6;, score=0.792 total time=   0.0s\n",
            "[CV 9/10; 26/40] START criterion=entropy, max_depth=4, max_leaf_nodes=6.........\n",
            "[CV 9/10; 26/40] END criterion=entropy, max_depth=4, max_leaf_nodes=6;, score=0.792 total time=   0.0s\n",
            "[CV 10/10; 26/40] START criterion=entropy, max_depth=4, max_leaf_nodes=6........\n",
            "[CV 10/10; 26/40] END criterion=entropy, max_depth=4, max_leaf_nodes=6;, score=0.792 total time=   0.0s\n",
            "[CV 1/10; 27/40] START criterion=entropy, max_depth=4, max_leaf_nodes=7.........\n",
            "[CV 1/10; 27/40] END criterion=entropy, max_depth=4, max_leaf_nodes=7;, score=0.792 total time=   0.0s\n",
            "[CV 2/10; 27/40] START criterion=entropy, max_depth=4, max_leaf_nodes=7.........\n",
            "[CV 2/10; 27/40] END criterion=entropy, max_depth=4, max_leaf_nodes=7;, score=0.792 total time=   0.0s\n",
            "[CV 3/10; 27/40] START criterion=entropy, max_depth=4, max_leaf_nodes=7.........\n",
            "[CV 3/10; 27/40] END criterion=entropy, max_depth=4, max_leaf_nodes=7;, score=0.771 total time=   0.0s\n",
            "[CV 4/10; 27/40] START criterion=entropy, max_depth=4, max_leaf_nodes=7.........\n",
            "[CV 4/10; 27/40] END criterion=entropy, max_depth=4, max_leaf_nodes=7;, score=0.792 total time=   0.0s\n",
            "[CV 5/10; 27/40] START criterion=entropy, max_depth=4, max_leaf_nodes=7.........\n",
            "[CV 5/10; 27/40] END criterion=entropy, max_depth=4, max_leaf_nodes=7;, score=0.771 total time=   0.0s\n",
            "[CV 6/10; 27/40] START criterion=entropy, max_depth=4, max_leaf_nodes=7.........\n",
            "[CV 6/10; 27/40] END criterion=entropy, max_depth=4, max_leaf_nodes=7;, score=0.750 total time=   0.0s\n",
            "[CV 7/10; 27/40] START criterion=entropy, max_depth=4, max_leaf_nodes=7.........\n",
            "[CV 7/10; 27/40] END criterion=entropy, max_depth=4, max_leaf_nodes=7;, score=0.792 total time=   0.0s\n",
            "[CV 8/10; 27/40] START criterion=entropy, max_depth=4, max_leaf_nodes=7.........\n",
            "[CV 8/10; 27/40] END criterion=entropy, max_depth=4, max_leaf_nodes=7;, score=0.771 total time=   0.0s\n",
            "[CV 9/10; 27/40] START criterion=entropy, max_depth=4, max_leaf_nodes=7.........\n",
            "[CV 9/10; 27/40] END criterion=entropy, max_depth=4, max_leaf_nodes=7;, score=0.792 total time=   0.0s\n",
            "[CV 10/10; 27/40] START criterion=entropy, max_depth=4, max_leaf_nodes=7........\n",
            "[CV 10/10; 27/40] END criterion=entropy, max_depth=4, max_leaf_nodes=7;, score=0.792 total time=   0.0s\n",
            "[CV 1/10; 28/40] START criterion=entropy, max_depth=4, max_leaf_nodes=8.........\n",
            "[CV 1/10; 28/40] END criterion=entropy, max_depth=4, max_leaf_nodes=8;, score=0.792 total time=   0.0s\n",
            "[CV 2/10; 28/40] START criterion=entropy, max_depth=4, max_leaf_nodes=8.........\n",
            "[CV 2/10; 28/40] END criterion=entropy, max_depth=4, max_leaf_nodes=8;, score=0.792 total time=   0.0s\n",
            "[CV 3/10; 28/40] START criterion=entropy, max_depth=4, max_leaf_nodes=8.........\n",
            "[CV 3/10; 28/40] END criterion=entropy, max_depth=4, max_leaf_nodes=8;, score=0.771 total time=   0.0s\n",
            "[CV 4/10; 28/40] START criterion=entropy, max_depth=4, max_leaf_nodes=8.........\n",
            "[CV 4/10; 28/40] END criterion=entropy, max_depth=4, max_leaf_nodes=8;, score=0.792 total time=   0.0s\n",
            "[CV 5/10; 28/40] START criterion=entropy, max_depth=4, max_leaf_nodes=8.........\n",
            "[CV 5/10; 28/40] END criterion=entropy, max_depth=4, max_leaf_nodes=8;, score=0.771 total time=   0.0s\n",
            "[CV 6/10; 28/40] START criterion=entropy, max_depth=4, max_leaf_nodes=8.........\n",
            "[CV 6/10; 28/40] END criterion=entropy, max_depth=4, max_leaf_nodes=8;, score=0.771 total time=   0.0s\n",
            "[CV 7/10; 28/40] START criterion=entropy, max_depth=4, max_leaf_nodes=8.........\n",
            "[CV 7/10; 28/40] END criterion=entropy, max_depth=4, max_leaf_nodes=8;, score=0.792 total time=   0.0s\n",
            "[CV 8/10; 28/40] START criterion=entropy, max_depth=4, max_leaf_nodes=8.........\n",
            "[CV 8/10; 28/40] END criterion=entropy, max_depth=4, max_leaf_nodes=8;, score=0.771 total time=   0.0s\n",
            "[CV 9/10; 28/40] START criterion=entropy, max_depth=4, max_leaf_nodes=8.........\n",
            "[CV 9/10; 28/40] END criterion=entropy, max_depth=4, max_leaf_nodes=8;, score=0.792 total time=   0.0s\n",
            "[CV 10/10; 28/40] START criterion=entropy, max_depth=4, max_leaf_nodes=8........\n",
            "[CV 10/10; 28/40] END criterion=entropy, max_depth=4, max_leaf_nodes=8;, score=0.792 total time=   0.0s\n",
            "[CV 1/10; 29/40] START criterion=entropy, max_depth=5, max_leaf_nodes=5.........\n",
            "[CV 1/10; 29/40] END criterion=entropy, max_depth=5, max_leaf_nodes=5;, score=0.792 total time=   0.0s\n",
            "[CV 2/10; 29/40] START criterion=entropy, max_depth=5, max_leaf_nodes=5.........\n",
            "[CV 2/10; 29/40] END criterion=entropy, max_depth=5, max_leaf_nodes=5;, score=0.792 total time=   0.0s\n",
            "[CV 3/10; 29/40] START criterion=entropy, max_depth=5, max_leaf_nodes=5.........\n",
            "[CV 3/10; 29/40] END criterion=entropy, max_depth=5, max_leaf_nodes=5;, score=0.792 total time=   0.0s\n",
            "[CV 4/10; 29/40] START criterion=entropy, max_depth=5, max_leaf_nodes=5.........\n",
            "[CV 4/10; 29/40] END criterion=entropy, max_depth=5, max_leaf_nodes=5;, score=0.792 total time=   0.0s\n",
            "[CV 5/10; 29/40] START criterion=entropy, max_depth=5, max_leaf_nodes=5.........\n",
            "[CV 5/10; 29/40] END criterion=entropy, max_depth=5, max_leaf_nodes=5;, score=0.771 total time=   0.0s\n",
            "[CV 6/10; 29/40] START criterion=entropy, max_depth=5, max_leaf_nodes=5.........\n",
            "[CV 6/10; 29/40] END criterion=entropy, max_depth=5, max_leaf_nodes=5;, score=0.771 total time=   0.0s\n",
            "[CV 7/10; 29/40] START criterion=entropy, max_depth=5, max_leaf_nodes=5.........\n",
            "[CV 7/10; 29/40] END criterion=entropy, max_depth=5, max_leaf_nodes=5;, score=0.792 total time=   0.0s\n",
            "[CV 8/10; 29/40] START criterion=entropy, max_depth=5, max_leaf_nodes=5.........\n",
            "[CV 8/10; 29/40] END criterion=entropy, max_depth=5, max_leaf_nodes=5;, score=0.792 total time=   0.0s\n",
            "[CV 9/10; 29/40] START criterion=entropy, max_depth=5, max_leaf_nodes=5.........\n",
            "[CV 9/10; 29/40] END criterion=entropy, max_depth=5, max_leaf_nodes=5;, score=0.792 total time=   0.0s\n",
            "[CV 10/10; 29/40] START criterion=entropy, max_depth=5, max_leaf_nodes=5........\n",
            "[CV 10/10; 29/40] END criterion=entropy, max_depth=5, max_leaf_nodes=5;, score=0.792 total time=   0.0s\n",
            "[CV 1/10; 30/40] START criterion=entropy, max_depth=5, max_leaf_nodes=6.........\n",
            "[CV 1/10; 30/40] END criterion=entropy, max_depth=5, max_leaf_nodes=6;, score=0.792 total time=   0.0s\n",
            "[CV 2/10; 30/40] START criterion=entropy, max_depth=5, max_leaf_nodes=6.........\n",
            "[CV 2/10; 30/40] END criterion=entropy, max_depth=5, max_leaf_nodes=6;, score=0.792 total time=   0.0s\n",
            "[CV 3/10; 30/40] START criterion=entropy, max_depth=5, max_leaf_nodes=6.........\n",
            "[CV 3/10; 30/40] END criterion=entropy, max_depth=5, max_leaf_nodes=6;, score=0.771 total time=   0.0s\n",
            "[CV 4/10; 30/40] START criterion=entropy, max_depth=5, max_leaf_nodes=6.........\n",
            "[CV 4/10; 30/40] END criterion=entropy, max_depth=5, max_leaf_nodes=6;, score=0.792 total time=   0.0s\n",
            "[CV 5/10; 30/40] START criterion=entropy, max_depth=5, max_leaf_nodes=6.........\n",
            "[CV 5/10; 30/40] END criterion=entropy, max_depth=5, max_leaf_nodes=6;, score=0.771 total time=   0.0s\n",
            "[CV 6/10; 30/40] START criterion=entropy, max_depth=5, max_leaf_nodes=6.........\n",
            "[CV 6/10; 30/40] END criterion=entropy, max_depth=5, max_leaf_nodes=6;, score=0.771 total time=   0.0s\n",
            "[CV 7/10; 30/40] START criterion=entropy, max_depth=5, max_leaf_nodes=6.........\n",
            "[CV 7/10; 30/40] END criterion=entropy, max_depth=5, max_leaf_nodes=6;, score=0.792 total time=   0.0s\n",
            "[CV 8/10; 30/40] START criterion=entropy, max_depth=5, max_leaf_nodes=6.........\n",
            "[CV 8/10; 30/40] END criterion=entropy, max_depth=5, max_leaf_nodes=6;, score=0.771 total time=   0.0s\n",
            "[CV 9/10; 30/40] START criterion=entropy, max_depth=5, max_leaf_nodes=6.........\n",
            "[CV 9/10; 30/40] END criterion=entropy, max_depth=5, max_leaf_nodes=6;, score=0.792 total time=   0.0s\n",
            "[CV 10/10; 30/40] START criterion=entropy, max_depth=5, max_leaf_nodes=6........\n",
            "[CV 10/10; 30/40] END criterion=entropy, max_depth=5, max_leaf_nodes=6;, score=0.792 total time=   0.0s\n",
            "[CV 1/10; 31/40] START criterion=entropy, max_depth=5, max_leaf_nodes=7.........\n",
            "[CV 1/10; 31/40] END criterion=entropy, max_depth=5, max_leaf_nodes=7;, score=0.792 total time=   0.0s\n",
            "[CV 2/10; 31/40] START criterion=entropy, max_depth=5, max_leaf_nodes=7.........\n",
            "[CV 2/10; 31/40] END criterion=entropy, max_depth=5, max_leaf_nodes=7;, score=0.792 total time=   0.0s\n",
            "[CV 3/10; 31/40] START criterion=entropy, max_depth=5, max_leaf_nodes=7.........\n",
            "[CV 3/10; 31/40] END criterion=entropy, max_depth=5, max_leaf_nodes=7;, score=0.771 total time=   0.0s\n",
            "[CV 4/10; 31/40] START criterion=entropy, max_depth=5, max_leaf_nodes=7.........\n",
            "[CV 4/10; 31/40] END criterion=entropy, max_depth=5, max_leaf_nodes=7;, score=0.792 total time=   0.0s\n",
            "[CV 5/10; 31/40] START criterion=entropy, max_depth=5, max_leaf_nodes=7.........\n",
            "[CV 5/10; 31/40] END criterion=entropy, max_depth=5, max_leaf_nodes=7;, score=0.771 total time=   0.0s\n",
            "[CV 6/10; 31/40] START criterion=entropy, max_depth=5, max_leaf_nodes=7.........\n",
            "[CV 6/10; 31/40] END criterion=entropy, max_depth=5, max_leaf_nodes=7;, score=0.750 total time=   0.0s\n",
            "[CV 7/10; 31/40] START criterion=entropy, max_depth=5, max_leaf_nodes=7.........\n",
            "[CV 7/10; 31/40] END criterion=entropy, max_depth=5, max_leaf_nodes=7;, score=0.792 total time=   0.0s\n",
            "[CV 8/10; 31/40] START criterion=entropy, max_depth=5, max_leaf_nodes=7.........\n",
            "[CV 8/10; 31/40] END criterion=entropy, max_depth=5, max_leaf_nodes=7;, score=0.771 total time=   0.0s\n",
            "[CV 9/10; 31/40] START criterion=entropy, max_depth=5, max_leaf_nodes=7.........\n",
            "[CV 9/10; 31/40] END criterion=entropy, max_depth=5, max_leaf_nodes=7;, score=0.792 total time=   0.0s\n",
            "[CV 10/10; 31/40] START criterion=entropy, max_depth=5, max_leaf_nodes=7........\n",
            "[CV 10/10; 31/40] END criterion=entropy, max_depth=5, max_leaf_nodes=7;, score=0.792 total time=   0.0s\n",
            "[CV 1/10; 32/40] START criterion=entropy, max_depth=5, max_leaf_nodes=8.........\n",
            "[CV 1/10; 32/40] END criterion=entropy, max_depth=5, max_leaf_nodes=8;, score=0.792 total time=   0.0s\n",
            "[CV 2/10; 32/40] START criterion=entropy, max_depth=5, max_leaf_nodes=8.........\n",
            "[CV 2/10; 32/40] END criterion=entropy, max_depth=5, max_leaf_nodes=8;, score=0.792 total time=   0.0s\n",
            "[CV 3/10; 32/40] START criterion=entropy, max_depth=5, max_leaf_nodes=8.........\n",
            "[CV 3/10; 32/40] END criterion=entropy, max_depth=5, max_leaf_nodes=8;, score=0.771 total time=   0.0s\n",
            "[CV 4/10; 32/40] START criterion=entropy, max_depth=5, max_leaf_nodes=8.........\n",
            "[CV 4/10; 32/40] END criterion=entropy, max_depth=5, max_leaf_nodes=8;, score=0.792 total time=   0.0s\n",
            "[CV 5/10; 32/40] START criterion=entropy, max_depth=5, max_leaf_nodes=8.........\n",
            "[CV 5/10; 32/40] END criterion=entropy, max_depth=5, max_leaf_nodes=8;, score=0.771 total time=   0.0s\n",
            "[CV 6/10; 32/40] START criterion=entropy, max_depth=5, max_leaf_nodes=8.........\n",
            "[CV 6/10; 32/40] END criterion=entropy, max_depth=5, max_leaf_nodes=8;, score=0.750 total time=   0.0s\n",
            "[CV 7/10; 32/40] START criterion=entropy, max_depth=5, max_leaf_nodes=8.........\n",
            "[CV 7/10; 32/40] END criterion=entropy, max_depth=5, max_leaf_nodes=8;, score=0.771 total time=   0.0s\n",
            "[CV 8/10; 32/40] START criterion=entropy, max_depth=5, max_leaf_nodes=8.........\n",
            "[CV 8/10; 32/40] END criterion=entropy, max_depth=5, max_leaf_nodes=8;, score=0.750 total time=   0.0s\n",
            "[CV 9/10; 32/40] START criterion=entropy, max_depth=5, max_leaf_nodes=8.........\n",
            "[CV 9/10; 32/40] END criterion=entropy, max_depth=5, max_leaf_nodes=8;, score=0.792 total time=   0.0s\n",
            "[CV 10/10; 32/40] START criterion=entropy, max_depth=5, max_leaf_nodes=8........\n",
            "[CV 10/10; 32/40] END criterion=entropy, max_depth=5, max_leaf_nodes=8;, score=0.792 total time=   0.0s\n",
            "[CV 1/10; 33/40] START criterion=entropy, max_depth=6, max_leaf_nodes=5.........\n",
            "[CV 1/10; 33/40] END criterion=entropy, max_depth=6, max_leaf_nodes=5;, score=0.792 total time=   0.0s\n",
            "[CV 2/10; 33/40] START criterion=entropy, max_depth=6, max_leaf_nodes=5.........\n",
            "[CV 2/10; 33/40] END criterion=entropy, max_depth=6, max_leaf_nodes=5;, score=0.792 total time=   0.0s\n",
            "[CV 3/10; 33/40] START criterion=entropy, max_depth=6, max_leaf_nodes=5.........\n",
            "[CV 3/10; 33/40] END criterion=entropy, max_depth=6, max_leaf_nodes=5;, score=0.792 total time=   0.0s\n",
            "[CV 4/10; 33/40] START criterion=entropy, max_depth=6, max_leaf_nodes=5.........\n",
            "[CV 4/10; 33/40] END criterion=entropy, max_depth=6, max_leaf_nodes=5;, score=0.792 total time=   0.0s\n",
            "[CV 5/10; 33/40] START criterion=entropy, max_depth=6, max_leaf_nodes=5.........\n",
            "[CV 5/10; 33/40] END criterion=entropy, max_depth=6, max_leaf_nodes=5;, score=0.771 total time=   0.0s\n",
            "[CV 6/10; 33/40] START criterion=entropy, max_depth=6, max_leaf_nodes=5.........\n",
            "[CV 6/10; 33/40] END criterion=entropy, max_depth=6, max_leaf_nodes=5;, score=0.771 total time=   0.0s\n",
            "[CV 7/10; 33/40] START criterion=entropy, max_depth=6, max_leaf_nodes=5.........\n",
            "[CV 7/10; 33/40] END criterion=entropy, max_depth=6, max_leaf_nodes=5;, score=0.792 total time=   0.0s\n",
            "[CV 8/10; 33/40] START criterion=entropy, max_depth=6, max_leaf_nodes=5.........\n",
            "[CV 8/10; 33/40] END criterion=entropy, max_depth=6, max_leaf_nodes=5;, score=0.792 total time=   0.0s\n",
            "[CV 9/10; 33/40] START criterion=entropy, max_depth=6, max_leaf_nodes=5.........\n",
            "[CV 9/10; 33/40] END criterion=entropy, max_depth=6, max_leaf_nodes=5;, score=0.792 total time=   0.0s\n",
            "[CV 10/10; 33/40] START criterion=entropy, max_depth=6, max_leaf_nodes=5........\n",
            "[CV 10/10; 33/40] END criterion=entropy, max_depth=6, max_leaf_nodes=5;, score=0.792 total time=   0.0s\n",
            "[CV 1/10; 34/40] START criterion=entropy, max_depth=6, max_leaf_nodes=6.........\n",
            "[CV 1/10; 34/40] END criterion=entropy, max_depth=6, max_leaf_nodes=6;, score=0.792 total time=   0.0s\n",
            "[CV 2/10; 34/40] START criterion=entropy, max_depth=6, max_leaf_nodes=6.........\n",
            "[CV 2/10; 34/40] END criterion=entropy, max_depth=6, max_leaf_nodes=6;, score=0.792 total time=   0.0s\n",
            "[CV 3/10; 34/40] START criterion=entropy, max_depth=6, max_leaf_nodes=6.........\n",
            "[CV 3/10; 34/40] END criterion=entropy, max_depth=6, max_leaf_nodes=6;, score=0.771 total time=   0.0s\n",
            "[CV 4/10; 34/40] START criterion=entropy, max_depth=6, max_leaf_nodes=6.........\n",
            "[CV 4/10; 34/40] END criterion=entropy, max_depth=6, max_leaf_nodes=6;, score=0.792 total time=   0.0s\n",
            "[CV 5/10; 34/40] START criterion=entropy, max_depth=6, max_leaf_nodes=6.........\n",
            "[CV 5/10; 34/40] END criterion=entropy, max_depth=6, max_leaf_nodes=6;, score=0.771 total time=   0.0s\n",
            "[CV 6/10; 34/40] START criterion=entropy, max_depth=6, max_leaf_nodes=6.........\n",
            "[CV 6/10; 34/40] END criterion=entropy, max_depth=6, max_leaf_nodes=6;, score=0.771 total time=   0.0s\n",
            "[CV 7/10; 34/40] START criterion=entropy, max_depth=6, max_leaf_nodes=6.........\n",
            "[CV 7/10; 34/40] END criterion=entropy, max_depth=6, max_leaf_nodes=6;, score=0.792 total time=   0.0s\n",
            "[CV 8/10; 34/40] START criterion=entropy, max_depth=6, max_leaf_nodes=6.........\n",
            "[CV 8/10; 34/40] END criterion=entropy, max_depth=6, max_leaf_nodes=6;, score=0.771 total time=   0.0s\n",
            "[CV 9/10; 34/40] START criterion=entropy, max_depth=6, max_leaf_nodes=6.........\n",
            "[CV 9/10; 34/40] END criterion=entropy, max_depth=6, max_leaf_nodes=6;, score=0.792 total time=   0.0s\n",
            "[CV 10/10; 34/40] START criterion=entropy, max_depth=6, max_leaf_nodes=6........\n",
            "[CV 10/10; 34/40] END criterion=entropy, max_depth=6, max_leaf_nodes=6;, score=0.792 total time=   0.0s\n",
            "[CV 1/10; 35/40] START criterion=entropy, max_depth=6, max_leaf_nodes=7.........\n",
            "[CV 1/10; 35/40] END criterion=entropy, max_depth=6, max_leaf_nodes=7;, score=0.792 total time=   0.0s\n",
            "[CV 2/10; 35/40] START criterion=entropy, max_depth=6, max_leaf_nodes=7.........\n",
            "[CV 2/10; 35/40] END criterion=entropy, max_depth=6, max_leaf_nodes=7;, score=0.792 total time=   0.0s\n",
            "[CV 3/10; 35/40] START criterion=entropy, max_depth=6, max_leaf_nodes=7.........\n",
            "[CV 3/10; 35/40] END criterion=entropy, max_depth=6, max_leaf_nodes=7;, score=0.771 total time=   0.0s\n",
            "[CV 4/10; 35/40] START criterion=entropy, max_depth=6, max_leaf_nodes=7.........\n",
            "[CV 4/10; 35/40] END criterion=entropy, max_depth=6, max_leaf_nodes=7;, score=0.792 total time=   0.0s\n",
            "[CV 5/10; 35/40] START criterion=entropy, max_depth=6, max_leaf_nodes=7.........\n",
            "[CV 5/10; 35/40] END criterion=entropy, max_depth=6, max_leaf_nodes=7;, score=0.771 total time=   0.0s\n",
            "[CV 6/10; 35/40] START criterion=entropy, max_depth=6, max_leaf_nodes=7.........\n",
            "[CV 6/10; 35/40] END criterion=entropy, max_depth=6, max_leaf_nodes=7;, score=0.750 total time=   0.0s\n",
            "[CV 7/10; 35/40] START criterion=entropy, max_depth=6, max_leaf_nodes=7.........\n",
            "[CV 7/10; 35/40] END criterion=entropy, max_depth=6, max_leaf_nodes=7;, score=0.792 total time=   0.0s\n",
            "[CV 8/10; 35/40] START criterion=entropy, max_depth=6, max_leaf_nodes=7.........\n",
            "[CV 8/10; 35/40] END criterion=entropy, max_depth=6, max_leaf_nodes=7;, score=0.771 total time=   0.0s\n",
            "[CV 9/10; 35/40] START criterion=entropy, max_depth=6, max_leaf_nodes=7.........\n",
            "[CV 9/10; 35/40] END criterion=entropy, max_depth=6, max_leaf_nodes=7;, score=0.792 total time=   0.0s\n",
            "[CV 10/10; 35/40] START criterion=entropy, max_depth=6, max_leaf_nodes=7........\n",
            "[CV 10/10; 35/40] END criterion=entropy, max_depth=6, max_leaf_nodes=7;, score=0.792 total time=   0.0s\n",
            "[CV 1/10; 36/40] START criterion=entropy, max_depth=6, max_leaf_nodes=8.........\n",
            "[CV 1/10; 36/40] END criterion=entropy, max_depth=6, max_leaf_nodes=8;, score=0.792 total time=   0.0s\n",
            "[CV 2/10; 36/40] START criterion=entropy, max_depth=6, max_leaf_nodes=8.........\n",
            "[CV 2/10; 36/40] END criterion=entropy, max_depth=6, max_leaf_nodes=8;, score=0.792 total time=   0.0s\n",
            "[CV 3/10; 36/40] START criterion=entropy, max_depth=6, max_leaf_nodes=8.........\n",
            "[CV 3/10; 36/40] END criterion=entropy, max_depth=6, max_leaf_nodes=8;, score=0.771 total time=   0.0s\n",
            "[CV 4/10; 36/40] START criterion=entropy, max_depth=6, max_leaf_nodes=8.........\n",
            "[CV 4/10; 36/40] END criterion=entropy, max_depth=6, max_leaf_nodes=8;, score=0.792 total time=   0.0s\n",
            "[CV 5/10; 36/40] START criterion=entropy, max_depth=6, max_leaf_nodes=8.........\n",
            "[CV 5/10; 36/40] END criterion=entropy, max_depth=6, max_leaf_nodes=8;, score=0.771 total time=   0.0s\n",
            "[CV 6/10; 36/40] START criterion=entropy, max_depth=6, max_leaf_nodes=8.........\n",
            "[CV 6/10; 36/40] END criterion=entropy, max_depth=6, max_leaf_nodes=8;, score=0.750 total time=   0.0s\n",
            "[CV 7/10; 36/40] START criterion=entropy, max_depth=6, max_leaf_nodes=8.........\n",
            "[CV 7/10; 36/40] END criterion=entropy, max_depth=6, max_leaf_nodes=8;, score=0.771 total time=   0.0s\n",
            "[CV 8/10; 36/40] START criterion=entropy, max_depth=6, max_leaf_nodes=8.........\n",
            "[CV 8/10; 36/40] END criterion=entropy, max_depth=6, max_leaf_nodes=8;, score=0.750 total time=   0.0s\n",
            "[CV 9/10; 36/40] START criterion=entropy, max_depth=6, max_leaf_nodes=8.........\n",
            "[CV 9/10; 36/40] END criterion=entropy, max_depth=6, max_leaf_nodes=8;, score=0.792 total time=   0.0s\n",
            "[CV 10/10; 36/40] START criterion=entropy, max_depth=6, max_leaf_nodes=8........\n",
            "[CV 10/10; 36/40] END criterion=entropy, max_depth=6, max_leaf_nodes=8;, score=0.792 total time=   0.0s\n",
            "[CV 1/10; 37/40] START criterion=entropy, max_depth=7, max_leaf_nodes=5.........\n",
            "[CV 1/10; 37/40] END criterion=entropy, max_depth=7, max_leaf_nodes=5;, score=0.792 total time=   0.0s\n",
            "[CV 2/10; 37/40] START criterion=entropy, max_depth=7, max_leaf_nodes=5.........\n",
            "[CV 2/10; 37/40] END criterion=entropy, max_depth=7, max_leaf_nodes=5;, score=0.792 total time=   0.0s\n",
            "[CV 3/10; 37/40] START criterion=entropy, max_depth=7, max_leaf_nodes=5.........\n",
            "[CV 3/10; 37/40] END criterion=entropy, max_depth=7, max_leaf_nodes=5;, score=0.792 total time=   0.0s\n",
            "[CV 4/10; 37/40] START criterion=entropy, max_depth=7, max_leaf_nodes=5.........\n",
            "[CV 4/10; 37/40] END criterion=entropy, max_depth=7, max_leaf_nodes=5;, score=0.792 total time=   0.0s\n",
            "[CV 5/10; 37/40] START criterion=entropy, max_depth=7, max_leaf_nodes=5.........\n",
            "[CV 5/10; 37/40] END criterion=entropy, max_depth=7, max_leaf_nodes=5;, score=0.771 total time=   0.0s\n",
            "[CV 6/10; 37/40] START criterion=entropy, max_depth=7, max_leaf_nodes=5.........\n",
            "[CV 6/10; 37/40] END criterion=entropy, max_depth=7, max_leaf_nodes=5;, score=0.771 total time=   0.0s\n",
            "[CV 7/10; 37/40] START criterion=entropy, max_depth=7, max_leaf_nodes=5.........\n",
            "[CV 7/10; 37/40] END criterion=entropy, max_depth=7, max_leaf_nodes=5;, score=0.792 total time=   0.0s\n",
            "[CV 8/10; 37/40] START criterion=entropy, max_depth=7, max_leaf_nodes=5.........\n",
            "[CV 8/10; 37/40] END criterion=entropy, max_depth=7, max_leaf_nodes=5;, score=0.792 total time=   0.0s\n",
            "[CV 9/10; 37/40] START criterion=entropy, max_depth=7, max_leaf_nodes=5.........\n",
            "[CV 9/10; 37/40] END criterion=entropy, max_depth=7, max_leaf_nodes=5;, score=0.792 total time=   0.0s\n",
            "[CV 10/10; 37/40] START criterion=entropy, max_depth=7, max_leaf_nodes=5........\n",
            "[CV 10/10; 37/40] END criterion=entropy, max_depth=7, max_leaf_nodes=5;, score=0.792 total time=   0.0s\n",
            "[CV 1/10; 38/40] START criterion=entropy, max_depth=7, max_leaf_nodes=6.........\n",
            "[CV 1/10; 38/40] END criterion=entropy, max_depth=7, max_leaf_nodes=6;, score=0.792 total time=   0.0s\n",
            "[CV 2/10; 38/40] START criterion=entropy, max_depth=7, max_leaf_nodes=6.........\n",
            "[CV 2/10; 38/40] END criterion=entropy, max_depth=7, max_leaf_nodes=6;, score=0.792 total time=   0.0s\n",
            "[CV 3/10; 38/40] START criterion=entropy, max_depth=7, max_leaf_nodes=6.........\n",
            "[CV 3/10; 38/40] END criterion=entropy, max_depth=7, max_leaf_nodes=6;, score=0.771 total time=   0.0s\n",
            "[CV 4/10; 38/40] START criterion=entropy, max_depth=7, max_leaf_nodes=6.........\n",
            "[CV 4/10; 38/40] END criterion=entropy, max_depth=7, max_leaf_nodes=6;, score=0.792 total time=   0.0s\n",
            "[CV 5/10; 38/40] START criterion=entropy, max_depth=7, max_leaf_nodes=6.........\n",
            "[CV 5/10; 38/40] END criterion=entropy, max_depth=7, max_leaf_nodes=6;, score=0.771 total time=   0.0s\n",
            "[CV 6/10; 38/40] START criterion=entropy, max_depth=7, max_leaf_nodes=6.........\n",
            "[CV 6/10; 38/40] END criterion=entropy, max_depth=7, max_leaf_nodes=6;, score=0.771 total time=   0.0s\n",
            "[CV 7/10; 38/40] START criterion=entropy, max_depth=7, max_leaf_nodes=6.........\n",
            "[CV 7/10; 38/40] END criterion=entropy, max_depth=7, max_leaf_nodes=6;, score=0.792 total time=   0.0s\n",
            "[CV 8/10; 38/40] START criterion=entropy, max_depth=7, max_leaf_nodes=6.........\n",
            "[CV 8/10; 38/40] END criterion=entropy, max_depth=7, max_leaf_nodes=6;, score=0.771 total time=   0.0s\n",
            "[CV 9/10; 38/40] START criterion=entropy, max_depth=7, max_leaf_nodes=6.........\n",
            "[CV 9/10; 38/40] END criterion=entropy, max_depth=7, max_leaf_nodes=6;, score=0.792 total time=   0.0s\n",
            "[CV 10/10; 38/40] START criterion=entropy, max_depth=7, max_leaf_nodes=6........\n",
            "[CV 10/10; 38/40] END criterion=entropy, max_depth=7, max_leaf_nodes=6;, score=0.792 total time=   0.0s\n",
            "[CV 1/10; 39/40] START criterion=entropy, max_depth=7, max_leaf_nodes=7.........\n",
            "[CV 1/10; 39/40] END criterion=entropy, max_depth=7, max_leaf_nodes=7;, score=0.792 total time=   0.0s\n",
            "[CV 2/10; 39/40] START criterion=entropy, max_depth=7, max_leaf_nodes=7.........\n",
            "[CV 2/10; 39/40] END criterion=entropy, max_depth=7, max_leaf_nodes=7;, score=0.792 total time=   0.0s\n",
            "[CV 3/10; 39/40] START criterion=entropy, max_depth=7, max_leaf_nodes=7.........\n",
            "[CV 3/10; 39/40] END criterion=entropy, max_depth=7, max_leaf_nodes=7;, score=0.771 total time=   0.0s\n",
            "[CV 4/10; 39/40] START criterion=entropy, max_depth=7, max_leaf_nodes=7.........\n",
            "[CV 4/10; 39/40] END criterion=entropy, max_depth=7, max_leaf_nodes=7;, score=0.792 total time=   0.0s\n",
            "[CV 5/10; 39/40] START criterion=entropy, max_depth=7, max_leaf_nodes=7.........\n",
            "[CV 5/10; 39/40] END criterion=entropy, max_depth=7, max_leaf_nodes=7;, score=0.771 total time=   0.0s\n",
            "[CV 6/10; 39/40] START criterion=entropy, max_depth=7, max_leaf_nodes=7.........\n",
            "[CV 6/10; 39/40] END criterion=entropy, max_depth=7, max_leaf_nodes=7;, score=0.750 total time=   0.0s\n",
            "[CV 7/10; 39/40] START criterion=entropy, max_depth=7, max_leaf_nodes=7.........\n",
            "[CV 7/10; 39/40] END criterion=entropy, max_depth=7, max_leaf_nodes=7;, score=0.792 total time=   0.0s\n",
            "[CV 8/10; 39/40] START criterion=entropy, max_depth=7, max_leaf_nodes=7.........\n",
            "[CV 8/10; 39/40] END criterion=entropy, max_depth=7, max_leaf_nodes=7;, score=0.771 total time=   0.0s\n",
            "[CV 9/10; 39/40] START criterion=entropy, max_depth=7, max_leaf_nodes=7.........\n",
            "[CV 9/10; 39/40] END criterion=entropy, max_depth=7, max_leaf_nodes=7;, score=0.792 total time=   0.0s\n",
            "[CV 10/10; 39/40] START criterion=entropy, max_depth=7, max_leaf_nodes=7........\n",
            "[CV 10/10; 39/40] END criterion=entropy, max_depth=7, max_leaf_nodes=7;, score=0.792 total time=   0.0s\n",
            "[CV 1/10; 40/40] START criterion=entropy, max_depth=7, max_leaf_nodes=8.........\n",
            "[CV 1/10; 40/40] END criterion=entropy, max_depth=7, max_leaf_nodes=8;, score=0.792 total time=   0.0s\n",
            "[CV 2/10; 40/40] START criterion=entropy, max_depth=7, max_leaf_nodes=8.........\n",
            "[CV 2/10; 40/40] END criterion=entropy, max_depth=7, max_leaf_nodes=8;, score=0.792 total time=   0.0s\n",
            "[CV 3/10; 40/40] START criterion=entropy, max_depth=7, max_leaf_nodes=8.........\n",
            "[CV 3/10; 40/40] END criterion=entropy, max_depth=7, max_leaf_nodes=8;, score=0.771 total time=   0.0s\n",
            "[CV 4/10; 40/40] START criterion=entropy, max_depth=7, max_leaf_nodes=8.........\n",
            "[CV 4/10; 40/40] END criterion=entropy, max_depth=7, max_leaf_nodes=8;, score=0.792 total time=   0.0s\n",
            "[CV 5/10; 40/40] START criterion=entropy, max_depth=7, max_leaf_nodes=8.........\n",
            "[CV 5/10; 40/40] END criterion=entropy, max_depth=7, max_leaf_nodes=8;, score=0.771 total time=   0.0s\n",
            "[CV 6/10; 40/40] START criterion=entropy, max_depth=7, max_leaf_nodes=8.........\n",
            "[CV 6/10; 40/40] END criterion=entropy, max_depth=7, max_leaf_nodes=8;, score=0.750 total time=   0.0s\n",
            "[CV 7/10; 40/40] START criterion=entropy, max_depth=7, max_leaf_nodes=8.........\n",
            "[CV 7/10; 40/40] END criterion=entropy, max_depth=7, max_leaf_nodes=8;, score=0.771 total time=   0.0s\n",
            "[CV 8/10; 40/40] START criterion=entropy, max_depth=7, max_leaf_nodes=8.........\n",
            "[CV 8/10; 40/40] END criterion=entropy, max_depth=7, max_leaf_nodes=8;, score=0.750 total time=   0.0s\n",
            "[CV 9/10; 40/40] START criterion=entropy, max_depth=7, max_leaf_nodes=8.........\n",
            "[CV 9/10; 40/40] END criterion=entropy, max_depth=7, max_leaf_nodes=8;, score=0.792 total time=   0.0s\n",
            "[CV 10/10; 40/40] START criterion=entropy, max_depth=7, max_leaf_nodes=8........\n",
            "[CV 10/10; 40/40] END criterion=entropy, max_depth=7, max_leaf_nodes=8;, score=0.792 total time=   0.0s\n"
          ]
        },
        {
          "output_type": "execute_result",
          "data": {
            "text/plain": [
              "GridSearchCV(cv=10, estimator=DecisionTreeClassifier(),\n",
              "             param_grid=[{'criterion': ['gini', 'entropy'],\n",
              "                          'max_depth': [3, 4, 5, 6, 7],\n",
              "                          'max_leaf_nodes': [5, 6, 7, 8]}],\n",
              "             verbose=300)"
            ],
            "text/html": [
              "<style>#sk-container-id-3 {color: black;background-color: white;}#sk-container-id-3 pre{padding: 0;}#sk-container-id-3 div.sk-toggleable {background-color: white;}#sk-container-id-3 label.sk-toggleable__label {cursor: pointer;display: block;width: 100%;margin-bottom: 0;padding: 0.3em;box-sizing: border-box;text-align: center;}#sk-container-id-3 label.sk-toggleable__label-arrow:before {content: \"▸\";float: left;margin-right: 0.25em;color: #696969;}#sk-container-id-3 label.sk-toggleable__label-arrow:hover:before {color: black;}#sk-container-id-3 div.sk-estimator:hover label.sk-toggleable__label-arrow:before {color: black;}#sk-container-id-3 div.sk-toggleable__content {max-height: 0;max-width: 0;overflow: hidden;text-align: left;background-color: #f0f8ff;}#sk-container-id-3 div.sk-toggleable__content pre {margin: 0.2em;color: black;border-radius: 0.25em;background-color: #f0f8ff;}#sk-container-id-3 input.sk-toggleable__control:checked~div.sk-toggleable__content {max-height: 200px;max-width: 100%;overflow: auto;}#sk-container-id-3 input.sk-toggleable__control:checked~label.sk-toggleable__label-arrow:before {content: \"▾\";}#sk-container-id-3 div.sk-estimator input.sk-toggleable__control:checked~label.sk-toggleable__label {background-color: #d4ebff;}#sk-container-id-3 div.sk-label input.sk-toggleable__control:checked~label.sk-toggleable__label {background-color: #d4ebff;}#sk-container-id-3 input.sk-hidden--visually {border: 0;clip: rect(1px 1px 1px 1px);clip: rect(1px, 1px, 1px, 1px);height: 1px;margin: -1px;overflow: hidden;padding: 0;position: absolute;width: 1px;}#sk-container-id-3 div.sk-estimator {font-family: monospace;background-color: #f0f8ff;border: 1px dotted black;border-radius: 0.25em;box-sizing: border-box;margin-bottom: 0.5em;}#sk-container-id-3 div.sk-estimator:hover {background-color: #d4ebff;}#sk-container-id-3 div.sk-parallel-item::after {content: \"\";width: 100%;border-bottom: 1px solid gray;flex-grow: 1;}#sk-container-id-3 div.sk-label:hover label.sk-toggleable__label {background-color: #d4ebff;}#sk-container-id-3 div.sk-serial::before {content: \"\";position: absolute;border-left: 1px solid gray;box-sizing: border-box;top: 0;bottom: 0;left: 50%;z-index: 0;}#sk-container-id-3 div.sk-serial {display: flex;flex-direction: column;align-items: center;background-color: white;padding-right: 0.2em;padding-left: 0.2em;position: relative;}#sk-container-id-3 div.sk-item {position: relative;z-index: 1;}#sk-container-id-3 div.sk-parallel {display: flex;align-items: stretch;justify-content: center;background-color: white;position: relative;}#sk-container-id-3 div.sk-item::before, #sk-container-id-3 div.sk-parallel-item::before {content: \"\";position: absolute;border-left: 1px solid gray;box-sizing: border-box;top: 0;bottom: 0;left: 50%;z-index: -1;}#sk-container-id-3 div.sk-parallel-item {display: flex;flex-direction: column;z-index: 1;position: relative;background-color: white;}#sk-container-id-3 div.sk-parallel-item:first-child::after {align-self: flex-end;width: 50%;}#sk-container-id-3 div.sk-parallel-item:last-child::after {align-self: flex-start;width: 50%;}#sk-container-id-3 div.sk-parallel-item:only-child::after {width: 0;}#sk-container-id-3 div.sk-dashed-wrapped {border: 1px dashed gray;margin: 0 0.4em 0.5em 0.4em;box-sizing: border-box;padding-bottom: 0.4em;background-color: white;}#sk-container-id-3 div.sk-label label {font-family: monospace;font-weight: bold;display: inline-block;line-height: 1.2em;}#sk-container-id-3 div.sk-label-container {text-align: center;}#sk-container-id-3 div.sk-container {/* jupyter's `normalize.less` sets `[hidden] { display: none; }` but bootstrap.min.css set `[hidden] { display: none !important; }` so we also need the `!important` here to be able to override the default hidden behavior on the sphinx rendered scikit-learn.org. See: https://github.com/scikit-learn/scikit-learn/issues/21755 */display: inline-block !important;position: relative;}#sk-container-id-3 div.sk-text-repr-fallback {display: none;}</style><div id=\"sk-container-id-3\" class=\"sk-top-container\"><div class=\"sk-text-repr-fallback\"><pre>GridSearchCV(cv=10, estimator=DecisionTreeClassifier(),\n",
              "             param_grid=[{&#x27;criterion&#x27;: [&#x27;gini&#x27;, &#x27;entropy&#x27;],\n",
              "                          &#x27;max_depth&#x27;: [3, 4, 5, 6, 7],\n",
              "                          &#x27;max_leaf_nodes&#x27;: [5, 6, 7, 8]}],\n",
              "             verbose=300)</pre><b>In a Jupyter environment, please rerun this cell to show the HTML representation or trust the notebook. <br />On GitHub, the HTML representation is unable to render, please try loading this page with nbviewer.org.</b></div><div class=\"sk-container\" hidden><div class=\"sk-item sk-dashed-wrapped\"><div class=\"sk-label-container\"><div class=\"sk-label sk-toggleable\"><input class=\"sk-toggleable__control sk-hidden--visually\" id=\"sk-estimator-id-3\" type=\"checkbox\" ><label for=\"sk-estimator-id-3\" class=\"sk-toggleable__label sk-toggleable__label-arrow\">GridSearchCV</label><div class=\"sk-toggleable__content\"><pre>GridSearchCV(cv=10, estimator=DecisionTreeClassifier(),\n",
              "             param_grid=[{&#x27;criterion&#x27;: [&#x27;gini&#x27;, &#x27;entropy&#x27;],\n",
              "                          &#x27;max_depth&#x27;: [3, 4, 5, 6, 7],\n",
              "                          &#x27;max_leaf_nodes&#x27;: [5, 6, 7, 8]}],\n",
              "             verbose=300)</pre></div></div></div><div class=\"sk-parallel\"><div class=\"sk-parallel-item\"><div class=\"sk-item\"><div class=\"sk-label-container\"><div class=\"sk-label sk-toggleable\"><input class=\"sk-toggleable__control sk-hidden--visually\" id=\"sk-estimator-id-4\" type=\"checkbox\" ><label for=\"sk-estimator-id-4\" class=\"sk-toggleable__label sk-toggleable__label-arrow\">estimator: DecisionTreeClassifier</label><div class=\"sk-toggleable__content\"><pre>DecisionTreeClassifier()</pre></div></div></div><div class=\"sk-serial\"><div class=\"sk-item\"><div class=\"sk-estimator sk-toggleable\"><input class=\"sk-toggleable__control sk-hidden--visually\" id=\"sk-estimator-id-5\" type=\"checkbox\" ><label for=\"sk-estimator-id-5\" class=\"sk-toggleable__label sk-toggleable__label-arrow\">DecisionTreeClassifier</label><div class=\"sk-toggleable__content\"><pre>DecisionTreeClassifier()</pre></div></div></div></div></div></div></div></div></div></div>"
            ]
          },
          "metadata": {},
          "execution_count": 54
        }
      ]
    },
    {
      "cell_type": "code",
      "source": [
        "gsv.best_params_, gsv.best_score_"
      ],
      "metadata": {
        "colab": {
          "base_uri": "https://localhost:8080/"
        },
        "id": "oW-VwJXn-XGv",
        "outputId": "db5a8e95-d466-4c39-8d88-b426ee7c520a"
      },
      "execution_count": 55,
      "outputs": [
        {
          "output_type": "execute_result",
          "data": {
            "text/plain": [
              "({'criterion': 'gini', 'max_depth': 3, 'max_leaf_nodes': 6}, 0.7875)"
            ]
          },
          "metadata": {},
          "execution_count": 55
        }
      ]
    },
    {
      "cell_type": "code",
      "source": [],
      "metadata": {
        "id": "sAqlw05k-bhp"
      },
      "execution_count": 55,
      "outputs": []
    },
    {
      "cell_type": "code",
      "source": [
        "#Let us build our model with these parameters"
      ],
      "metadata": {
        "id": "6dW_3k2T-8jY"
      },
      "execution_count": 56,
      "outputs": []
    },
    {
      "cell_type": "code",
      "source": [
        "clf_new=DecisionTreeClassifier(max_depth=4, max_leaf_nodes=6, criterion='gini')"
      ],
      "metadata": {
        "id": "3XyHUmLo-8sz"
      },
      "execution_count": 57,
      "outputs": []
    },
    {
      "cell_type": "code",
      "source": [
        "clf_new.fit(X_train, Y_train)"
      ],
      "metadata": {
        "colab": {
          "base_uri": "https://localhost:8080/",
          "height": 75
        },
        "id": "l-VNYFtS_RzF",
        "outputId": "3f23f103-b1e3-447f-9277-e9b186c87021"
      },
      "execution_count": 58,
      "outputs": [
        {
          "output_type": "execute_result",
          "data": {
            "text/plain": [
              "DecisionTreeClassifier(max_depth=4, max_leaf_nodes=6)"
            ],
            "text/html": [
              "<style>#sk-container-id-4 {color: black;background-color: white;}#sk-container-id-4 pre{padding: 0;}#sk-container-id-4 div.sk-toggleable {background-color: white;}#sk-container-id-4 label.sk-toggleable__label {cursor: pointer;display: block;width: 100%;margin-bottom: 0;padding: 0.3em;box-sizing: border-box;text-align: center;}#sk-container-id-4 label.sk-toggleable__label-arrow:before {content: \"▸\";float: left;margin-right: 0.25em;color: #696969;}#sk-container-id-4 label.sk-toggleable__label-arrow:hover:before {color: black;}#sk-container-id-4 div.sk-estimator:hover label.sk-toggleable__label-arrow:before {color: black;}#sk-container-id-4 div.sk-toggleable__content {max-height: 0;max-width: 0;overflow: hidden;text-align: left;background-color: #f0f8ff;}#sk-container-id-4 div.sk-toggleable__content pre {margin: 0.2em;color: black;border-radius: 0.25em;background-color: #f0f8ff;}#sk-container-id-4 input.sk-toggleable__control:checked~div.sk-toggleable__content {max-height: 200px;max-width: 100%;overflow: auto;}#sk-container-id-4 input.sk-toggleable__control:checked~label.sk-toggleable__label-arrow:before {content: \"▾\";}#sk-container-id-4 div.sk-estimator input.sk-toggleable__control:checked~label.sk-toggleable__label {background-color: #d4ebff;}#sk-container-id-4 div.sk-label input.sk-toggleable__control:checked~label.sk-toggleable__label {background-color: #d4ebff;}#sk-container-id-4 input.sk-hidden--visually {border: 0;clip: rect(1px 1px 1px 1px);clip: rect(1px, 1px, 1px, 1px);height: 1px;margin: -1px;overflow: hidden;padding: 0;position: absolute;width: 1px;}#sk-container-id-4 div.sk-estimator {font-family: monospace;background-color: #f0f8ff;border: 1px dotted black;border-radius: 0.25em;box-sizing: border-box;margin-bottom: 0.5em;}#sk-container-id-4 div.sk-estimator:hover {background-color: #d4ebff;}#sk-container-id-4 div.sk-parallel-item::after {content: \"\";width: 100%;border-bottom: 1px solid gray;flex-grow: 1;}#sk-container-id-4 div.sk-label:hover label.sk-toggleable__label {background-color: #d4ebff;}#sk-container-id-4 div.sk-serial::before {content: \"\";position: absolute;border-left: 1px solid gray;box-sizing: border-box;top: 0;bottom: 0;left: 50%;z-index: 0;}#sk-container-id-4 div.sk-serial {display: flex;flex-direction: column;align-items: center;background-color: white;padding-right: 0.2em;padding-left: 0.2em;position: relative;}#sk-container-id-4 div.sk-item {position: relative;z-index: 1;}#sk-container-id-4 div.sk-parallel {display: flex;align-items: stretch;justify-content: center;background-color: white;position: relative;}#sk-container-id-4 div.sk-item::before, #sk-container-id-4 div.sk-parallel-item::before {content: \"\";position: absolute;border-left: 1px solid gray;box-sizing: border-box;top: 0;bottom: 0;left: 50%;z-index: -1;}#sk-container-id-4 div.sk-parallel-item {display: flex;flex-direction: column;z-index: 1;position: relative;background-color: white;}#sk-container-id-4 div.sk-parallel-item:first-child::after {align-self: flex-end;width: 50%;}#sk-container-id-4 div.sk-parallel-item:last-child::after {align-self: flex-start;width: 50%;}#sk-container-id-4 div.sk-parallel-item:only-child::after {width: 0;}#sk-container-id-4 div.sk-dashed-wrapped {border: 1px dashed gray;margin: 0 0.4em 0.5em 0.4em;box-sizing: border-box;padding-bottom: 0.4em;background-color: white;}#sk-container-id-4 div.sk-label label {font-family: monospace;font-weight: bold;display: inline-block;line-height: 1.2em;}#sk-container-id-4 div.sk-label-container {text-align: center;}#sk-container-id-4 div.sk-container {/* jupyter's `normalize.less` sets `[hidden] { display: none; }` but bootstrap.min.css set `[hidden] { display: none !important; }` so we also need the `!important` here to be able to override the default hidden behavior on the sphinx rendered scikit-learn.org. See: https://github.com/scikit-learn/scikit-learn/issues/21755 */display: inline-block !important;position: relative;}#sk-container-id-4 div.sk-text-repr-fallback {display: none;}</style><div id=\"sk-container-id-4\" class=\"sk-top-container\"><div class=\"sk-text-repr-fallback\"><pre>DecisionTreeClassifier(max_depth=4, max_leaf_nodes=6)</pre><b>In a Jupyter environment, please rerun this cell to show the HTML representation or trust the notebook. <br />On GitHub, the HTML representation is unable to render, please try loading this page with nbviewer.org.</b></div><div class=\"sk-container\" hidden><div class=\"sk-item\"><div class=\"sk-estimator sk-toggleable\"><input class=\"sk-toggleable__control sk-hidden--visually\" id=\"sk-estimator-id-6\" type=\"checkbox\" checked><label for=\"sk-estimator-id-6\" class=\"sk-toggleable__label sk-toggleable__label-arrow\">DecisionTreeClassifier</label><div class=\"sk-toggleable__content\"><pre>DecisionTreeClassifier(max_depth=4, max_leaf_nodes=6)</pre></div></div></div></div></div>"
            ]
          },
          "metadata": {},
          "execution_count": 58
        }
      ]
    },
    {
      "cell_type": "code",
      "source": [
        "train_pred1=clf.predict(X_train) #prediction for X training data can be taken as y^"
      ],
      "metadata": {
        "id": "Xo63fu4O_zGE"
      },
      "execution_count": 59,
      "outputs": []
    },
    {
      "cell_type": "code",
      "source": [
        "confusion_matrix(Y_train, train_pred1)"
      ],
      "metadata": {
        "colab": {
          "base_uri": "https://localhost:8080/"
        },
        "id": "lX8_l-L1_3iz",
        "outputId": "5c84ebd6-7edb-44df-c0f3-b5389910b30d"
      },
      "execution_count": 60,
      "outputs": [
        {
          "output_type": "execute_result",
          "data": {
            "text/plain": [
              "array([[  7,  91],\n",
              "       [  2, 380]])"
            ]
          },
          "metadata": {},
          "execution_count": 60
        }
      ]
    },
    {
      "cell_type": "code",
      "source": [
        "print(classification_report(Y_train, train_pred1))"
      ],
      "metadata": {
        "colab": {
          "base_uri": "https://localhost:8080/"
        },
        "id": "8L9hnYp3_5z8",
        "outputId": "34b3d03a-c0d2-48cd-c1a4-8779797745e0"
      },
      "execution_count": 61,
      "outputs": [
        {
          "output_type": "stream",
          "name": "stdout",
          "text": [
            "              precision    recall  f1-score   support\n",
            "\n",
            "         0.0       0.78      0.07      0.13        98\n",
            "         1.0       0.81      0.99      0.89       382\n",
            "\n",
            "    accuracy                           0.81       480\n",
            "   macro avg       0.79      0.53      0.51       480\n",
            "weighted avg       0.80      0.81      0.74       480\n",
            "\n"
          ]
        }
      ]
    },
    {
      "cell_type": "code",
      "source": [
        "#accuracy is 81%"
      ],
      "metadata": {
        "id": "ICk7AN7H__03"
      },
      "execution_count": 62,
      "outputs": []
    },
    {
      "cell_type": "code",
      "source": [
        "test_pred1=clf.predict(X_test)"
      ],
      "metadata": {
        "id": "EP8EbKDLAEQk"
      },
      "execution_count": 63,
      "outputs": []
    },
    {
      "cell_type": "code",
      "source": [
        "confusion_matrix(Y_test, test_pred1)"
      ],
      "metadata": {
        "colab": {
          "base_uri": "https://localhost:8080/"
        },
        "id": "LzlshnjLAEfY",
        "outputId": "e6d81b5c-0d73-485e-b306-fbe980897f44"
      },
      "execution_count": 64,
      "outputs": [
        {
          "output_type": "execute_result",
          "data": {
            "text/plain": [
              "array([[ 0, 26],\n",
              "       [ 3, 91]])"
            ]
          },
          "metadata": {},
          "execution_count": 64
        }
      ]
    },
    {
      "cell_type": "code",
      "source": [
        "print(classification_report(Y_test, test_pred1))"
      ],
      "metadata": {
        "colab": {
          "base_uri": "https://localhost:8080/"
        },
        "id": "ChBlSOJOAOgz",
        "outputId": "26b5a8a6-948b-4f46-8a26-cb8d16b24e8a"
      },
      "execution_count": 65,
      "outputs": [
        {
          "output_type": "stream",
          "name": "stdout",
          "text": [
            "              precision    recall  f1-score   support\n",
            "\n",
            "         0.0       0.00      0.00      0.00        26\n",
            "         1.0       0.78      0.97      0.86        94\n",
            "\n",
            "    accuracy                           0.76       120\n",
            "   macro avg       0.39      0.48      0.43       120\n",
            "weighted avg       0.61      0.76      0.68       120\n",
            "\n"
          ]
        }
      ]
    },
    {
      "cell_type": "code",
      "source": [
        "#accuracy is 76% for testing data"
      ],
      "metadata": {
        "id": "BSJ4lKXqAR2N"
      },
      "execution_count": 66,
      "outputs": []
    },
    {
      "cell_type": "code",
      "source": [
        "#Vizualization"
      ],
      "metadata": {
        "id": "ndMeoewyAb-u"
      },
      "execution_count": 67,
      "outputs": []
    },
    {
      "cell_type": "code",
      "source": [
        "plt.figure(figsize=(15,15))\n",
        "plot_tree(clf_new, class_names=cnames, feature_names=features, filled=True)\n",
        "\n",
        "plt.show()"
      ],
      "metadata": {
        "colab": {
          "base_uri": "https://localhost:8080/",
          "height": 1000
        },
        "id": "MP9d_LDuAcH0",
        "outputId": "d28277eb-d186-4d85-e562-023d7c18e897"
      },
      "execution_count": 68,
      "outputs": [
        {
          "output_type": "display_data",
          "data": {
            "text/plain": [
              "<Figure size 1500x1500 with 1 Axes>"
            ],
            "image/png": "[encoded data removed]"
          },
          "metadata": {}
        }
      ]
    },
    {
      "cell_type": "code",
      "source": [],
      "metadata": {
        "id": "rcFODU5QAsdd"
      },
      "execution_count": 68,
      "outputs": []
    },
    {
      "cell_type": "code",
      "source": [],
      "metadata": {
        "id": "3ZbRj-9DUhof"
      },
      "execution_count": null,
      "outputs": []
    },
    {
      "cell_type": "code",
      "source": [],
      "metadata": {
        "id": "CynUpJK4UhxS"
      },
      "execution_count": null,
      "outputs": []
    },
    {
      "cell_type": "markdown",
      "source": [
        "RANDOMFOREST"
      ],
      "metadata": {
        "id": "OvFT6DiqUh9T"
      }
    },
    {
      "cell_type": "code",
      "source": [
        "from sklearn.ensemble import RandomForestClassifier\n",
        "from sklearn.model_selection import KFold, cross_val_score"
      ],
      "metadata": {
        "id": "AALkj9yaUkps"
      },
      "execution_count": 69,
      "outputs": []
    },
    {
      "cell_type": "code",
      "source": [
        "#let us use gridsearchCv and confirm the values\n",
        "modd=RandomForestClassifier()\n",
        "param_grid=[{'n_estimators':[80,90,100,200], 'max_features':[2,3,4,5,6]}]\n",
        "gsv1=GridSearchCV(modd, param_grid, cv=10, verbose=100)"
      ],
      "metadata": {
        "id": "GA4MuPvSUkxx"
      },
      "execution_count": 70,
      "outputs": []
    },
    {
      "cell_type": "code",
      "source": [
        "gsv1.fit(X_train, Y_train)"
      ],
      "metadata": {
        "colab": {
          "base_uri": "https://localhost:8080/",
          "height": 1000
        },
        "id": "q98FWpySUk40",
        "outputId": "b3099991-00f4-4736-c5e3-baaf3ae1061b"
      },
      "execution_count": 71,
      "outputs": [
        {
          "output_type": "stream",
          "name": "stdout",
          "text": [
            "Fitting 10 folds for each of 20 candidates, totalling 200 fits\n",
            "[CV 1/10; 1/20] START max_features=2, n_estimators=80...........................\n",
            "[CV 1/10; 1/20] END max_features=2, n_estimators=80;, score=0.708 total time=   0.6s\n",
            "[CV 2/10; 1/20] START max_features=2, n_estimators=80...........................\n",
            "[CV 2/10; 1/20] END max_features=2, n_estimators=80;, score=0.771 total time=   0.6s\n",
            "[CV 3/10; 1/20] START max_features=2, n_estimators=80...........................\n",
            "[CV 3/10; 1/20] END max_features=2, n_estimators=80;, score=0.771 total time=   0.7s\n",
            "[CV 4/10; 1/20] START max_features=2, n_estimators=80...........................\n",
            "[CV 4/10; 1/20] END max_features=2, n_estimators=80;, score=0.729 total time=   0.7s\n",
            "[CV 5/10; 1/20] START max_features=2, n_estimators=80...........................\n",
            "[CV 5/10; 1/20] END max_features=2, n_estimators=80;, score=0.729 total time=   0.6s\n",
            "[CV 6/10; 1/20] START max_features=2, n_estimators=80...........................\n",
            "[CV 6/10; 1/20] END max_features=2, n_estimators=80;, score=0.708 total time=   0.3s\n",
            "[CV 7/10; 1/20] START max_features=2, n_estimators=80...........................\n",
            "[CV 7/10; 1/20] END max_features=2, n_estimators=80;, score=0.792 total time=   0.2s\n",
            "[CV 8/10; 1/20] START max_features=2, n_estimators=80...........................\n",
            "[CV 8/10; 1/20] END max_features=2, n_estimators=80;, score=0.708 total time=   0.2s\n",
            "[CV 9/10; 1/20] START max_features=2, n_estimators=80...........................\n",
            "[CV 9/10; 1/20] END max_features=2, n_estimators=80;, score=0.750 total time=   0.3s\n",
            "[CV 10/10; 1/20] START max_features=2, n_estimators=80..........................\n",
            "[CV 10/10; 1/20] END max_features=2, n_estimators=80;, score=0.771 total time=   0.3s\n",
            "[CV 1/10; 2/20] START max_features=2, n_estimators=90...........................\n",
            "[CV 1/10; 2/20] END max_features=2, n_estimators=90;, score=0.771 total time=   0.3s\n",
            "[CV 2/10; 2/20] START max_features=2, n_estimators=90...........................\n",
            "[CV 2/10; 2/20] END max_features=2, n_estimators=90;, score=0.729 total time=   0.3s\n",
            "[CV 3/10; 2/20] START max_features=2, n_estimators=90...........................\n",
            "[CV 3/10; 2/20] END max_features=2, n_estimators=90;, score=0.771 total time=   0.3s\n",
            "[CV 4/10; 2/20] START max_features=2, n_estimators=90...........................\n",
            "[CV 4/10; 2/20] END max_features=2, n_estimators=90;, score=0.750 total time=   0.3s\n",
            "[CV 5/10; 2/20] START max_features=2, n_estimators=90...........................\n",
            "[CV 5/10; 2/20] END max_features=2, n_estimators=90;, score=0.750 total time=   0.2s\n",
            "[CV 6/10; 2/20] START max_features=2, n_estimators=90...........................\n",
            "[CV 6/10; 2/20] END max_features=2, n_estimators=90;, score=0.708 total time=   0.2s\n",
            "[CV 7/10; 2/20] START max_features=2, n_estimators=90...........................\n",
            "[CV 7/10; 2/20] END max_features=2, n_estimators=90;, score=0.792 total time=   0.2s\n",
            "[CV 8/10; 2/20] START max_features=2, n_estimators=90...........................\n",
            "[CV 8/10; 2/20] END max_features=2, n_estimators=90;, score=0.708 total time=   0.2s\n",
            "[CV 9/10; 2/20] START max_features=2, n_estimators=90...........................\n",
            "[CV 9/10; 2/20] END max_features=2, n_estimators=90;, score=0.771 total time=   0.2s\n",
            "[CV 10/10; 2/20] START max_features=2, n_estimators=90..........................\n",
            "[CV 10/10; 2/20] END max_features=2, n_estimators=90;, score=0.771 total time=   0.2s\n",
            "[CV 1/10; 3/20] START max_features=2, n_estimators=100..........................\n",
            "[CV 1/10; 3/20] END max_features=2, n_estimators=100;, score=0.750 total time=   0.2s\n",
            "[CV 2/10; 3/20] START max_features=2, n_estimators=100..........................\n",
            "[CV 2/10; 3/20] END max_features=2, n_estimators=100;, score=0.729 total time=   0.2s\n",
            "[CV 3/10; 3/20] START max_features=2, n_estimators=100..........................\n",
            "[CV 3/10; 3/20] END max_features=2, n_estimators=100;, score=0.750 total time=   0.2s\n",
            "[CV 4/10; 3/20] START max_features=2, n_estimators=100..........................\n",
            "[CV 4/10; 3/20] END max_features=2, n_estimators=100;, score=0.750 total time=   0.2s\n",
            "[CV 5/10; 3/20] START max_features=2, n_estimators=100..........................\n",
            "[CV 5/10; 3/20] END max_features=2, n_estimators=100;, score=0.729 total time=   0.2s\n",
            "[CV 6/10; 3/20] START max_features=2, n_estimators=100..........................\n",
            "[CV 6/10; 3/20] END max_features=2, n_estimators=100;, score=0.729 total time=   0.2s\n",
            "[CV 7/10; 3/20] START max_features=2, n_estimators=100..........................\n",
            "[CV 7/10; 3/20] END max_features=2, n_estimators=100;, score=0.792 total time=   0.2s\n",
            "[CV 8/10; 3/20] START max_features=2, n_estimators=100..........................\n",
            "[CV 8/10; 3/20] END max_features=2, n_estimators=100;, score=0.708 total time=   0.2s\n",
            "[CV 9/10; 3/20] START max_features=2, n_estimators=100..........................\n",
            "[CV 9/10; 3/20] END max_features=2, n_estimators=100;, score=0.750 total time=   0.2s\n",
            "[CV 10/10; 3/20] START max_features=2, n_estimators=100.........................\n",
            "[CV 10/10; 3/20] END max_features=2, n_estimators=100;, score=0.771 total time=   0.2s\n",
            "[CV 1/10; 4/20] START max_features=2, n_estimators=200..........................\n",
            "[CV 1/10; 4/20] END max_features=2, n_estimators=200;, score=0.771 total time=   0.4s\n",
            "[CV 2/10; 4/20] START max_features=2, n_estimators=200..........................\n",
            "[CV 2/10; 4/20] END max_features=2, n_estimators=200;, score=0.792 total time=   0.4s\n",
            "[CV 3/10; 4/20] START max_features=2, n_estimators=200..........................\n",
            "[CV 3/10; 4/20] END max_features=2, n_estimators=200;, score=0.771 total time=   0.4s\n",
            "[CV 4/10; 4/20] START max_features=2, n_estimators=200..........................\n",
            "[CV 4/10; 4/20] END max_features=2, n_estimators=200;, score=0.750 total time=   0.4s\n",
            "[CV 5/10; 4/20] START max_features=2, n_estimators=200..........................\n",
            "[CV 5/10; 4/20] END max_features=2, n_estimators=200;, score=0.729 total time=   0.4s\n",
            "[CV 6/10; 4/20] START max_features=2, n_estimators=200..........................\n",
            "[CV 6/10; 4/20] END max_features=2, n_estimators=200;, score=0.750 total time=   0.4s\n",
            "[CV 7/10; 4/20] START max_features=2, n_estimators=200..........................\n",
            "[CV 7/10; 4/20] END max_features=2, n_estimators=200;, score=0.792 total time=   0.4s\n",
            "[CV 8/10; 4/20] START max_features=2, n_estimators=200..........................\n",
            "[CV 8/10; 4/20] END max_features=2, n_estimators=200;, score=0.708 total time=   0.4s\n",
            "[CV 9/10; 4/20] START max_features=2, n_estimators=200..........................\n",
            "[CV 9/10; 4/20] END max_features=2, n_estimators=200;, score=0.750 total time=   0.4s\n",
            "[CV 10/10; 4/20] START max_features=2, n_estimators=200.........................\n",
            "[CV 10/10; 4/20] END max_features=2, n_estimators=200;, score=0.771 total time=   0.4s\n",
            "[CV 1/10; 5/20] START max_features=3, n_estimators=80...........................\n",
            "[CV 1/10; 5/20] END max_features=3, n_estimators=80;, score=0.812 total time=   0.2s\n",
            "[CV 2/10; 5/20] START max_features=3, n_estimators=80...........................\n",
            "[CV 2/10; 5/20] END max_features=3, n_estimators=80;, score=0.750 total time=   0.2s\n",
            "[CV 3/10; 5/20] START max_features=3, n_estimators=80...........................\n",
            "[CV 3/10; 5/20] END max_features=3, n_estimators=80;, score=0.812 total time=   0.2s\n",
            "[CV 4/10; 5/20] START max_features=3, n_estimators=80...........................\n",
            "[CV 4/10; 5/20] END max_features=3, n_estimators=80;, score=0.750 total time=   0.2s\n",
            "[CV 5/10; 5/20] START max_features=3, n_estimators=80...........................\n",
            "[CV 5/10; 5/20] END max_features=3, n_estimators=80;, score=0.750 total time=   0.2s\n",
            "[CV 6/10; 5/20] START max_features=3, n_estimators=80...........................\n",
            "[CV 6/10; 5/20] END max_features=3, n_estimators=80;, score=0.729 total time=   0.3s\n",
            "[CV 7/10; 5/20] START max_features=3, n_estimators=80...........................\n",
            "[CV 7/10; 5/20] END max_features=3, n_estimators=80;, score=0.812 total time=   0.3s\n",
            "[CV 8/10; 5/20] START max_features=3, n_estimators=80...........................\n",
            "[CV 8/10; 5/20] END max_features=3, n_estimators=80;, score=0.708 total time=   0.2s\n",
            "[CV 9/10; 5/20] START max_features=3, n_estimators=80...........................\n",
            "[CV 9/10; 5/20] END max_features=3, n_estimators=80;, score=0.750 total time=   0.3s\n",
            "[CV 10/10; 5/20] START max_features=3, n_estimators=80..........................\n",
            "[CV 10/10; 5/20] END max_features=3, n_estimators=80;, score=0.771 total time=   0.3s\n",
            "[CV 1/10; 6/20] START max_features=3, n_estimators=90...........................\n",
            "[CV 1/10; 6/20] END max_features=3, n_estimators=90;, score=0.771 total time=   0.3s\n",
            "[CV 2/10; 6/20] START max_features=3, n_estimators=90...........................\n",
            "[CV 2/10; 6/20] END max_features=3, n_estimators=90;, score=0.750 total time=   0.3s\n",
            "[CV 3/10; 6/20] START max_features=3, n_estimators=90...........................\n",
            "[CV 3/10; 6/20] END max_features=3, n_estimators=90;, score=0.771 total time=   0.3s\n",
            "[CV 4/10; 6/20] START max_features=3, n_estimators=90...........................\n",
            "[CV 4/10; 6/20] END max_features=3, n_estimators=90;, score=0.750 total time=   0.3s\n",
            "[CV 5/10; 6/20] START max_features=3, n_estimators=90...........................\n",
            "[CV 5/10; 6/20] END max_features=3, n_estimators=90;, score=0.667 total time=   0.3s\n",
            "[CV 6/10; 6/20] START max_features=3, n_estimators=90...........................\n",
            "[CV 6/10; 6/20] END max_features=3, n_estimators=90;, score=0.750 total time=   0.2s\n",
            "[CV 7/10; 6/20] START max_features=3, n_estimators=90...........................\n",
            "[CV 7/10; 6/20] END max_features=3, n_estimators=90;, score=0.771 total time=   0.2s\n",
            "[CV 8/10; 6/20] START max_features=3, n_estimators=90...........................\n",
            "[CV 8/10; 6/20] END max_features=3, n_estimators=90;, score=0.708 total time=   0.2s\n",
            "[CV 9/10; 6/20] START max_features=3, n_estimators=90...........................\n",
            "[CV 9/10; 6/20] END max_features=3, n_estimators=90;, score=0.729 total time=   0.2s\n",
            "[CV 10/10; 6/20] START max_features=3, n_estimators=90..........................\n",
            "[CV 10/10; 6/20] END max_features=3, n_estimators=90;, score=0.771 total time=   0.2s\n",
            "[CV 1/10; 7/20] START max_features=3, n_estimators=100..........................\n",
            "[CV 1/10; 7/20] END max_features=3, n_estimators=100;, score=0.771 total time=   0.2s\n",
            "[CV 2/10; 7/20] START max_features=3, n_estimators=100..........................\n",
            "[CV 2/10; 7/20] END max_features=3, n_estimators=100;, score=0.688 total time=   0.2s\n",
            "[CV 3/10; 7/20] START max_features=3, n_estimators=100..........................\n",
            "[CV 3/10; 7/20] END max_features=3, n_estimators=100;, score=0.792 total time=   0.2s\n",
            "[CV 4/10; 7/20] START max_features=3, n_estimators=100..........................\n",
            "[CV 4/10; 7/20] END max_features=3, n_estimators=100;, score=0.729 total time=   0.2s\n",
            "[CV 5/10; 7/20] START max_features=3, n_estimators=100..........................\n",
            "[CV 5/10; 7/20] END max_features=3, n_estimators=100;, score=0.729 total time=   0.2s\n",
            "[CV 6/10; 7/20] START max_features=3, n_estimators=100..........................\n",
            "[CV 6/10; 7/20] END max_features=3, n_estimators=100;, score=0.750 total time=   0.2s\n",
            "[CV 7/10; 7/20] START max_features=3, n_estimators=100..........................\n",
            "[CV 7/10; 7/20] END max_features=3, n_estimators=100;, score=0.812 total time=   0.2s\n",
            "[CV 8/10; 7/20] START max_features=3, n_estimators=100..........................\n",
            "[CV 8/10; 7/20] END max_features=3, n_estimators=100;, score=0.708 total time=   0.2s\n",
            "[CV 9/10; 7/20] START max_features=3, n_estimators=100..........................\n",
            "[CV 9/10; 7/20] END max_features=3, n_estimators=100;, score=0.771 total time=   0.2s\n",
            "[CV 10/10; 7/20] START max_features=3, n_estimators=100.........................\n",
            "[CV 10/10; 7/20] END max_features=3, n_estimators=100;, score=0.771 total time=   0.2s\n",
            "[CV 1/10; 8/20] START max_features=3, n_estimators=200..........................\n",
            "[CV 1/10; 8/20] END max_features=3, n_estimators=200;, score=0.771 total time=   0.8s\n",
            "[CV 2/10; 8/20] START max_features=3, n_estimators=200..........................\n",
            "[CV 2/10; 8/20] END max_features=3, n_estimators=200;, score=0.792 total time=   0.6s\n",
            "[CV 3/10; 8/20] START max_features=3, n_estimators=200..........................\n",
            "[CV 3/10; 8/20] END max_features=3, n_estimators=200;, score=0.792 total time=   0.7s\n",
            "[CV 4/10; 8/20] START max_features=3, n_estimators=200..........................\n",
            "[CV 4/10; 8/20] END max_features=3, n_estimators=200;, score=0.750 total time=   0.7s\n",
            "[CV 5/10; 8/20] START max_features=3, n_estimators=200..........................\n",
            "[CV 5/10; 8/20] END max_features=3, n_estimators=200;, score=0.750 total time=   0.8s\n",
            "[CV 6/10; 8/20] START max_features=3, n_estimators=200..........................\n",
            "[CV 6/10; 8/20] END max_features=3, n_estimators=200;, score=0.750 total time=   0.8s\n",
            "[CV 7/10; 8/20] START max_features=3, n_estimators=200..........................\n",
            "[CV 7/10; 8/20] END max_features=3, n_estimators=200;, score=0.812 total time=   0.8s\n",
            "[CV 8/10; 8/20] START max_features=3, n_estimators=200..........................\n",
            "[CV 8/10; 8/20] END max_features=3, n_estimators=200;, score=0.708 total time=   0.4s\n",
            "[CV 9/10; 8/20] START max_features=3, n_estimators=200..........................\n",
            "[CV 9/10; 8/20] END max_features=3, n_estimators=200;, score=0.729 total time=   0.7s\n",
            "[CV 10/10; 8/20] START max_features=3, n_estimators=200.........................\n",
            "[CV 10/10; 8/20] END max_features=3, n_estimators=200;, score=0.750 total time=   0.7s\n",
            "[CV 1/10; 9/20] START max_features=4, n_estimators=80...........................\n",
            "[CV 1/10; 9/20] END max_features=4, n_estimators=80;, score=0.708 total time=   0.8s\n",
            "[CV 2/10; 9/20] START max_features=4, n_estimators=80...........................\n",
            "[CV 2/10; 9/20] END max_features=4, n_estimators=80;, score=0.729 total time=   1.0s\n",
            "[CV 3/10; 9/20] START max_features=4, n_estimators=80...........................\n",
            "[CV 3/10; 9/20] END max_features=4, n_estimators=80;, score=0.771 total time=   0.7s\n",
            "[CV 4/10; 9/20] START max_features=4, n_estimators=80...........................\n",
            "[CV 4/10; 9/20] END max_features=4, n_estimators=80;, score=0.750 total time=   0.7s\n",
            "[CV 5/10; 9/20] START max_features=4, n_estimators=80...........................\n",
            "[CV 5/10; 9/20] END max_features=4, n_estimators=80;, score=0.708 total time=   0.4s\n",
            "[CV 6/10; 9/20] START max_features=4, n_estimators=80...........................\n",
            "[CV 6/10; 9/20] END max_features=4, n_estimators=80;, score=0.708 total time=   0.3s\n",
            "[CV 7/10; 9/20] START max_features=4, n_estimators=80...........................\n",
            "[CV 7/10; 9/20] END max_features=4, n_estimators=80;, score=0.812 total time=   0.2s\n",
            "[CV 8/10; 9/20] START max_features=4, n_estimators=80...........................\n",
            "[CV 8/10; 9/20] END max_features=4, n_estimators=80;, score=0.729 total time=   0.2s\n",
            "[CV 9/10; 9/20] START max_features=4, n_estimators=80...........................\n",
            "[CV 9/10; 9/20] END max_features=4, n_estimators=80;, score=0.708 total time=   0.2s\n",
            "[CV 10/10; 9/20] START max_features=4, n_estimators=80..........................\n",
            "[CV 10/10; 9/20] END max_features=4, n_estimators=80;, score=0.771 total time=   0.2s\n",
            "[CV 1/10; 10/20] START max_features=4, n_estimators=90..........................\n",
            "[CV 1/10; 10/20] END max_features=4, n_estimators=90;, score=0.771 total time=   0.5s\n",
            "[CV 2/10; 10/20] START max_features=4, n_estimators=90..........................\n",
            "[CV 2/10; 10/20] END max_features=4, n_estimators=90;, score=0.771 total time=   0.5s\n",
            "[CV 3/10; 10/20] START max_features=4, n_estimators=90..........................\n",
            "[CV 3/10; 10/20] END max_features=4, n_estimators=90;, score=0.812 total time=   0.6s\n",
            "[CV 4/10; 10/20] START max_features=4, n_estimators=90..........................\n",
            "[CV 4/10; 10/20] END max_features=4, n_estimators=90;, score=0.750 total time=   0.5s\n",
            "[CV 5/10; 10/20] START max_features=4, n_estimators=90..........................\n",
            "[CV 5/10; 10/20] END max_features=4, n_estimators=90;, score=0.708 total time=   0.9s\n",
            "[CV 6/10; 10/20] START max_features=4, n_estimators=90..........................\n",
            "[CV 6/10; 10/20] END max_features=4, n_estimators=90;, score=0.729 total time=   0.7s\n",
            "[CV 7/10; 10/20] START max_features=4, n_estimators=90..........................\n",
            "[CV 7/10; 10/20] END max_features=4, n_estimators=90;, score=0.771 total time=   1.0s\n",
            "[CV 8/10; 10/20] START max_features=4, n_estimators=90..........................\n",
            "[CV 8/10; 10/20] END max_features=4, n_estimators=90;, score=0.729 total time=   0.6s\n",
            "[CV 9/10; 10/20] START max_features=4, n_estimators=90..........................\n",
            "[CV 9/10; 10/20] END max_features=4, n_estimators=90;, score=0.750 total time=   0.6s\n",
            "[CV 10/10; 10/20] START max_features=4, n_estimators=90.........................\n",
            "[CV 10/10; 10/20] END max_features=4, n_estimators=90;, score=0.771 total time=   0.6s\n",
            "[CV 1/10; 11/20] START max_features=4, n_estimators=100.........................\n",
            "[CV 1/10; 11/20] END max_features=4, n_estimators=100;, score=0.771 total time=   0.4s\n",
            "[CV 2/10; 11/20] START max_features=4, n_estimators=100.........................\n",
            "[CV 2/10; 11/20] END max_features=4, n_estimators=100;, score=0.792 total time=   0.6s\n",
            "[CV 3/10; 11/20] START max_features=4, n_estimators=100.........................\n",
            "[CV 3/10; 11/20] END max_features=4, n_estimators=100;, score=0.771 total time=   0.4s\n",
            "[CV 4/10; 11/20] START max_features=4, n_estimators=100.........................\n",
            "[CV 4/10; 11/20] END max_features=4, n_estimators=100;, score=0.729 total time=   0.5s\n",
            "[CV 5/10; 11/20] START max_features=4, n_estimators=100.........................\n",
            "[CV 5/10; 11/20] END max_features=4, n_estimators=100;, score=0.708 total time=   0.7s\n",
            "[CV 6/10; 11/20] START max_features=4, n_estimators=100.........................\n",
            "[CV 6/10; 11/20] END max_features=4, n_estimators=100;, score=0.729 total time=   0.5s\n",
            "[CV 7/10; 11/20] START max_features=4, n_estimators=100.........................\n",
            "[CV 7/10; 11/20] END max_features=4, n_estimators=100;, score=0.771 total time=   1.2s\n",
            "[CV 8/10; 11/20] START max_features=4, n_estimators=100.........................\n",
            "[CV 8/10; 11/20] END max_features=4, n_estimators=100;, score=0.729 total time=   1.0s\n",
            "[CV 9/10; 11/20] START max_features=4, n_estimators=100.........................\n",
            "[CV 9/10; 11/20] END max_features=4, n_estimators=100;, score=0.729 total time=   0.8s\n",
            "[CV 10/10; 11/20] START max_features=4, n_estimators=100........................\n",
            "[CV 10/10; 11/20] END max_features=4, n_estimators=100;, score=0.750 total time=   0.2s\n",
            "[CV 1/10; 12/20] START max_features=4, n_estimators=200.........................\n",
            "[CV 1/10; 12/20] END max_features=4, n_estimators=200;, score=0.771 total time=   0.6s\n",
            "[CV 2/10; 12/20] START max_features=4, n_estimators=200.........................\n",
            "[CV 2/10; 12/20] END max_features=4, n_estimators=200;, score=0.750 total time=   0.8s\n",
            "[CV 3/10; 12/20] START max_features=4, n_estimators=200.........................\n",
            "[CV 3/10; 12/20] END max_features=4, n_estimators=200;, score=0.771 total time=   0.6s\n",
            "[CV 4/10; 12/20] START max_features=4, n_estimators=200.........................\n",
            "[CV 4/10; 12/20] END max_features=4, n_estimators=200;, score=0.750 total time=   1.0s\n",
            "[CV 5/10; 12/20] START max_features=4, n_estimators=200.........................\n",
            "[CV 5/10; 12/20] END max_features=4, n_estimators=200;, score=0.729 total time=   1.3s\n",
            "[CV 6/10; 12/20] START max_features=4, n_estimators=200.........................\n",
            "[CV 6/10; 12/20] END max_features=4, n_estimators=200;, score=0.729 total time=   0.6s\n",
            "[CV 7/10; 12/20] START max_features=4, n_estimators=200.........................\n",
            "[CV 7/10; 12/20] END max_features=4, n_estimators=200;, score=0.812 total time=   0.7s\n",
            "[CV 8/10; 12/20] START max_features=4, n_estimators=200.........................\n",
            "[CV 8/10; 12/20] END max_features=4, n_estimators=200;, score=0.729 total time=   0.7s\n",
            "[CV 9/10; 12/20] START max_features=4, n_estimators=200.........................\n",
            "[CV 9/10; 12/20] END max_features=4, n_estimators=200;, score=0.729 total time=   0.5s\n",
            "[CV 10/10; 12/20] START max_features=4, n_estimators=200........................\n",
            "[CV 10/10; 12/20] END max_features=4, n_estimators=200;, score=0.750 total time=   0.4s\n",
            "[CV 1/10; 13/20] START max_features=5, n_estimators=80..........................\n",
            "[CV 1/10; 13/20] END max_features=5, n_estimators=80;, score=0.750 total time=   0.2s\n",
            "[CV 2/10; 13/20] START max_features=5, n_estimators=80..........................\n",
            "[CV 2/10; 13/20] END max_features=5, n_estimators=80;, score=0.792 total time=   0.2s\n",
            "[CV 3/10; 13/20] START max_features=5, n_estimators=80..........................\n",
            "[CV 3/10; 13/20] END max_features=5, n_estimators=80;, score=0.771 total time=   0.2s\n",
            "[CV 4/10; 13/20] START max_features=5, n_estimators=80..........................\n",
            "[CV 4/10; 13/20] END max_features=5, n_estimators=80;, score=0.708 total time=   0.6s\n",
            "[CV 5/10; 13/20] START max_features=5, n_estimators=80..........................\n",
            "[CV 5/10; 13/20] END max_features=5, n_estimators=80;, score=0.667 total time=   0.4s\n",
            "[CV 6/10; 13/20] START max_features=5, n_estimators=80..........................\n",
            "[CV 6/10; 13/20] END max_features=5, n_estimators=80;, score=0.729 total time=   0.3s\n",
            "[CV 7/10; 13/20] START max_features=5, n_estimators=80..........................\n",
            "[CV 7/10; 13/20] END max_features=5, n_estimators=80;, score=0.771 total time=   0.3s\n",
            "[CV 8/10; 13/20] START max_features=5, n_estimators=80..........................\n",
            "[CV 8/10; 13/20] END max_features=5, n_estimators=80;, score=0.750 total time=   0.3s\n",
            "[CV 9/10; 13/20] START max_features=5, n_estimators=80..........................\n",
            "[CV 9/10; 13/20] END max_features=5, n_estimators=80;, score=0.750 total time=   0.3s\n",
            "[CV 10/10; 13/20] START max_features=5, n_estimators=80.........................\n",
            "[CV 10/10; 13/20] END max_features=5, n_estimators=80;, score=0.792 total time=   0.3s\n",
            "[CV 1/10; 14/20] START max_features=5, n_estimators=90..........................\n",
            "[CV 1/10; 14/20] END max_features=5, n_estimators=90;, score=0.771 total time=   0.3s\n",
            "[CV 2/10; 14/20] START max_features=5, n_estimators=90..........................\n",
            "[CV 2/10; 14/20] END max_features=5, n_estimators=90;, score=0.750 total time=   0.3s\n",
            "[CV 3/10; 14/20] START max_features=5, n_estimators=90..........................\n",
            "[CV 3/10; 14/20] END max_features=5, n_estimators=90;, score=0.750 total time=   0.3s\n",
            "[CV 4/10; 14/20] START max_features=5, n_estimators=90..........................\n",
            "[CV 4/10; 14/20] END max_features=5, n_estimators=90;, score=0.750 total time=   0.2s\n",
            "[CV 5/10; 14/20] START max_features=5, n_estimators=90..........................\n",
            "[CV 5/10; 14/20] END max_features=5, n_estimators=90;, score=0.708 total time=   0.2s\n",
            "[CV 6/10; 14/20] START max_features=5, n_estimators=90..........................\n",
            "[CV 6/10; 14/20] END max_features=5, n_estimators=90;, score=0.729 total time=   0.2s\n",
            "[CV 7/10; 14/20] START max_features=5, n_estimators=90..........................\n",
            "[CV 7/10; 14/20] END max_features=5, n_estimators=90;, score=0.771 total time=   0.2s\n",
            "[CV 8/10; 14/20] START max_features=5, n_estimators=90..........................\n",
            "[CV 8/10; 14/20] END max_features=5, n_estimators=90;, score=0.750 total time=   0.2s\n",
            "[CV 9/10; 14/20] START max_features=5, n_estimators=90..........................\n",
            "[CV 9/10; 14/20] END max_features=5, n_estimators=90;, score=0.729 total time=   0.2s\n",
            "[CV 10/10; 14/20] START max_features=5, n_estimators=90.........................\n",
            "[CV 10/10; 14/20] END max_features=5, n_estimators=90;, score=0.750 total time=   0.2s\n",
            "[CV 1/10; 15/20] START max_features=5, n_estimators=100.........................\n",
            "[CV 1/10; 15/20] END max_features=5, n_estimators=100;, score=0.729 total time=   0.2s\n",
            "[CV 2/10; 15/20] START max_features=5, n_estimators=100.........................\n",
            "[CV 2/10; 15/20] END max_features=5, n_estimators=100;, score=0.812 total time=   0.2s\n",
            "[CV 3/10; 15/20] START max_features=5, n_estimators=100.........................\n",
            "[CV 3/10; 15/20] END max_features=5, n_estimators=100;, score=0.771 total time=   0.2s\n",
            "[CV 4/10; 15/20] START max_features=5, n_estimators=100.........................\n",
            "[CV 4/10; 15/20] END max_features=5, n_estimators=100;, score=0.750 total time=   0.2s\n",
            "[CV 5/10; 15/20] START max_features=5, n_estimators=100.........................\n",
            "[CV 5/10; 15/20] END max_features=5, n_estimators=100;, score=0.667 total time=   0.2s\n",
            "[CV 6/10; 15/20] START max_features=5, n_estimators=100.........................\n",
            "[CV 6/10; 15/20] END max_features=5, n_estimators=100;, score=0.708 total time=   0.2s\n",
            "[CV 7/10; 15/20] START max_features=5, n_estimators=100.........................\n",
            "[CV 7/10; 15/20] END max_features=5, n_estimators=100;, score=0.771 total time=   0.2s\n",
            "[CV 8/10; 15/20] START max_features=5, n_estimators=100.........................\n",
            "[CV 8/10; 15/20] END max_features=5, n_estimators=100;, score=0.750 total time=   0.2s\n",
            "[CV 9/10; 15/20] START max_features=5, n_estimators=100.........................\n",
            "[CV 9/10; 15/20] END max_features=5, n_estimators=100;, score=0.792 total time=   0.2s\n",
            "[CV 10/10; 15/20] START max_features=5, n_estimators=100........................\n",
            "[CV 10/10; 15/20] END max_features=5, n_estimators=100;, score=0.750 total time=   0.2s\n",
            "[CV 1/10; 16/20] START max_features=5, n_estimators=200.........................\n",
            "[CV 1/10; 16/20] END max_features=5, n_estimators=200;, score=0.750 total time=   0.4s\n",
            "[CV 2/10; 16/20] START max_features=5, n_estimators=200.........................\n",
            "[CV 2/10; 16/20] END max_features=5, n_estimators=200;, score=0.729 total time=   0.4s\n",
            "[CV 3/10; 16/20] START max_features=5, n_estimators=200.........................\n",
            "[CV 3/10; 16/20] END max_features=5, n_estimators=200;, score=0.771 total time=   0.4s\n",
            "[CV 4/10; 16/20] START max_features=5, n_estimators=200.........................\n",
            "[CV 4/10; 16/20] END max_features=5, n_estimators=200;, score=0.729 total time=   0.4s\n",
            "[CV 5/10; 16/20] START max_features=5, n_estimators=200.........................\n",
            "[CV 5/10; 16/20] END max_features=5, n_estimators=200;, score=0.708 total time=   0.4s\n",
            "[CV 6/10; 16/20] START max_features=5, n_estimators=200.........................\n",
            "[CV 6/10; 16/20] END max_features=5, n_estimators=200;, score=0.729 total time=   0.4s\n",
            "[CV 7/10; 16/20] START max_features=5, n_estimators=200.........................\n",
            "[CV 7/10; 16/20] END max_features=5, n_estimators=200;, score=0.812 total time=   0.4s\n",
            "[CV 8/10; 16/20] START max_features=5, n_estimators=200.........................\n",
            "[CV 8/10; 16/20] END max_features=5, n_estimators=200;, score=0.708 total time=   0.4s\n",
            "[CV 9/10; 16/20] START max_features=5, n_estimators=200.........................\n",
            "[CV 9/10; 16/20] END max_features=5, n_estimators=200;, score=0.792 total time=   0.4s\n",
            "[CV 10/10; 16/20] START max_features=5, n_estimators=200........................\n",
            "[CV 10/10; 16/20] END max_features=5, n_estimators=200;, score=0.771 total time=   0.4s\n",
            "[CV 1/10; 17/20] START max_features=6, n_estimators=80..........................\n",
            "[CV 1/10; 17/20] END max_features=6, n_estimators=80;, score=0.792 total time=   0.2s\n",
            "[CV 2/10; 17/20] START max_features=6, n_estimators=80..........................\n",
            "[CV 2/10; 17/20] END max_features=6, n_estimators=80;, score=0.729 total time=   0.2s\n",
            "[CV 3/10; 17/20] START max_features=6, n_estimators=80..........................\n",
            "[CV 3/10; 17/20] END max_features=6, n_estimators=80;, score=0.771 total time=   0.2s\n",
            "[CV 4/10; 17/20] START max_features=6, n_estimators=80..........................\n",
            "[CV 4/10; 17/20] END max_features=6, n_estimators=80;, score=0.729 total time=   0.2s\n",
            "[CV 5/10; 17/20] START max_features=6, n_estimators=80..........................\n",
            "[CV 5/10; 17/20] END max_features=6, n_estimators=80;, score=0.667 total time=   0.2s\n",
            "[CV 6/10; 17/20] START max_features=6, n_estimators=80..........................\n",
            "[CV 6/10; 17/20] END max_features=6, n_estimators=80;, score=0.729 total time=   0.2s\n",
            "[CV 7/10; 17/20] START max_features=6, n_estimators=80..........................\n",
            "[CV 7/10; 17/20] END max_features=6, n_estimators=80;, score=0.833 total time=   0.2s\n",
            "[CV 8/10; 17/20] START max_features=6, n_estimators=80..........................\n",
            "[CV 8/10; 17/20] END max_features=6, n_estimators=80;, score=0.708 total time=   0.2s\n",
            "[CV 9/10; 17/20] START max_features=6, n_estimators=80..........................\n",
            "[CV 9/10; 17/20] END max_features=6, n_estimators=80;, score=0.792 total time=   0.2s\n",
            "[CV 10/10; 17/20] START max_features=6, n_estimators=80.........................\n",
            "[CV 10/10; 17/20] END max_features=6, n_estimators=80;, score=0.771 total time=   0.2s\n",
            "[CV 1/10; 18/20] START max_features=6, n_estimators=90..........................\n",
            "[CV 1/10; 18/20] END max_features=6, n_estimators=90;, score=0.771 total time=   0.2s\n",
            "[CV 2/10; 18/20] START max_features=6, n_estimators=90..........................\n",
            "[CV 2/10; 18/20] END max_features=6, n_estimators=90;, score=0.771 total time=   0.3s\n",
            "[CV 3/10; 18/20] START max_features=6, n_estimators=90..........................\n",
            "[CV 3/10; 18/20] END max_features=6, n_estimators=90;, score=0.771 total time=   0.3s\n",
            "[CV 4/10; 18/20] START max_features=6, n_estimators=90..........................\n",
            "[CV 4/10; 18/20] END max_features=6, n_estimators=90;, score=0.729 total time=   0.3s\n",
            "[CV 5/10; 18/20] START max_features=6, n_estimators=90..........................\n",
            "[CV 5/10; 18/20] END max_features=6, n_estimators=90;, score=0.688 total time=   0.3s\n",
            "[CV 6/10; 18/20] START max_features=6, n_estimators=90..........................\n",
            "[CV 6/10; 18/20] END max_features=6, n_estimators=90;, score=0.729 total time=   0.3s\n",
            "[CV 7/10; 18/20] START max_features=6, n_estimators=90..........................\n",
            "[CV 7/10; 18/20] END max_features=6, n_estimators=90;, score=0.771 total time=   0.3s\n",
            "[CV 8/10; 18/20] START max_features=6, n_estimators=90..........................\n",
            "[CV 8/10; 18/20] END max_features=6, n_estimators=90;, score=0.750 total time=   0.3s\n",
            "[CV 9/10; 18/20] START max_features=6, n_estimators=90..........................\n",
            "[CV 9/10; 18/20] END max_features=6, n_estimators=90;, score=0.771 total time=   0.3s\n",
            "[CV 10/10; 18/20] START max_features=6, n_estimators=90.........................\n",
            "[CV 10/10; 18/20] END max_features=6, n_estimators=90;, score=0.729 total time=   0.3s\n",
            "[CV 1/10; 19/20] START max_features=6, n_estimators=100.........................\n",
            "[CV 1/10; 19/20] END max_features=6, n_estimators=100;, score=0.750 total time=   0.2s\n",
            "[CV 2/10; 19/20] START max_features=6, n_estimators=100.........................\n",
            "[CV 2/10; 19/20] END max_features=6, n_estimators=100;, score=0.729 total time=   0.2s\n",
            "[CV 3/10; 19/20] START max_features=6, n_estimators=100.........................\n",
            "[CV 3/10; 19/20] END max_features=6, n_estimators=100;, score=0.771 total time=   0.2s\n",
            "[CV 4/10; 19/20] START max_features=6, n_estimators=100.........................\n",
            "[CV 4/10; 19/20] END max_features=6, n_estimators=100;, score=0.750 total time=   0.2s\n",
            "[CV 5/10; 19/20] START max_features=6, n_estimators=100.........................\n",
            "[CV 5/10; 19/20] END max_features=6, n_estimators=100;, score=0.729 total time=   0.2s\n",
            "[CV 6/10; 19/20] START max_features=6, n_estimators=100.........................\n",
            "[CV 6/10; 19/20] END max_features=6, n_estimators=100;, score=0.708 total time=   0.2s\n",
            "[CV 7/10; 19/20] START max_features=6, n_estimators=100.........................\n",
            "[CV 7/10; 19/20] END max_features=6, n_estimators=100;, score=0.750 total time=   0.2s\n",
            "[CV 8/10; 19/20] START max_features=6, n_estimators=100.........................\n",
            "[CV 8/10; 19/20] END max_features=6, n_estimators=100;, score=0.729 total time=   0.2s\n",
            "[CV 9/10; 19/20] START max_features=6, n_estimators=100.........................\n",
            "[CV 9/10; 19/20] END max_features=6, n_estimators=100;, score=0.688 total time=   0.2s\n",
            "[CV 10/10; 19/20] START max_features=6, n_estimators=100........................\n",
            "[CV 10/10; 19/20] END max_features=6, n_estimators=100;, score=0.750 total time=   0.2s\n",
            "[CV 1/10; 20/20] START max_features=6, n_estimators=200.........................\n",
            "[CV 1/10; 20/20] END max_features=6, n_estimators=200;, score=0.771 total time=   0.4s\n",
            "[CV 2/10; 20/20] START max_features=6, n_estimators=200.........................\n",
            "[CV 2/10; 20/20] END max_features=6, n_estimators=200;, score=0.812 total time=   0.4s\n",
            "[CV 3/10; 20/20] START max_features=6, n_estimators=200.........................\n",
            "[CV 3/10; 20/20] END max_features=6, n_estimators=200;, score=0.792 total time=   0.4s\n",
            "[CV 4/10; 20/20] START max_features=6, n_estimators=200.........................\n",
            "[CV 4/10; 20/20] END max_features=6, n_estimators=200;, score=0.729 total time=   0.4s\n",
            "[CV 5/10; 20/20] START max_features=6, n_estimators=200.........................\n",
            "[CV 5/10; 20/20] END max_features=6, n_estimators=200;, score=0.729 total time=   0.4s\n",
            "[CV 6/10; 20/20] START max_features=6, n_estimators=200.........................\n",
            "[CV 6/10; 20/20] END max_features=6, n_estimators=200;, score=0.750 total time=   0.4s\n",
            "[CV 7/10; 20/20] START max_features=6, n_estimators=200.........................\n",
            "[CV 7/10; 20/20] END max_features=6, n_estimators=200;, score=0.771 total time=   0.4s\n",
            "[CV 8/10; 20/20] START max_features=6, n_estimators=200.........................\n",
            "[CV 8/10; 20/20] END max_features=6, n_estimators=200;, score=0.729 total time=   0.4s\n",
            "[CV 9/10; 20/20] START max_features=6, n_estimators=200.........................\n",
            "[CV 9/10; 20/20] END max_features=6, n_estimators=200;, score=0.750 total time=   0.4s\n",
            "[CV 10/10; 20/20] START max_features=6, n_estimators=200........................\n",
            "[CV 10/10; 20/20] END max_features=6, n_estimators=200;, score=0.750 total time=   0.4s\n"
          ]
        },
        {
          "output_type": "execute_result",
          "data": {
            "text/plain": [
              "GridSearchCV(cv=10, estimator=RandomForestClassifier(),\n",
              "             param_grid=[{'max_features': [2, 3, 4, 5, 6],\n",
              "                          'n_estimators': [80, 90, 100, 200]}],\n",
              "             verbose=100)"
            ],
            "text/html": [
              "<style>#sk-container-id-5 {color: black;background-color: white;}#sk-container-id-5 pre{padding: 0;}#sk-container-id-5 div.sk-toggleable {background-color: white;}#sk-container-id-5 label.sk-toggleable__label {cursor: pointer;display: block;width: 100%;margin-bottom: 0;padding: 0.3em;box-sizing: border-box;text-align: center;}#sk-container-id-5 label.sk-toggleable__label-arrow:before {content: \"▸\";float: left;margin-right: 0.25em;color: #696969;}#sk-container-id-5 label.sk-toggleable__label-arrow:hover:before {color: black;}#sk-container-id-5 div.sk-estimator:hover label.sk-toggleable__label-arrow:before {color: black;}#sk-container-id-5 div.sk-toggleable__content {max-height: 0;max-width: 0;overflow: hidden;text-align: left;background-color: #f0f8ff;}#sk-container-id-5 div.sk-toggleable__content pre {margin: 0.2em;color: black;border-radius: 0.25em;background-color: #f0f8ff;}#sk-container-id-5 input.sk-toggleable__control:checked~div.sk-toggleable__content {max-height: 200px;max-width: 100%;overflow: auto;}#sk-container-id-5 input.sk-toggleable__control:checked~label.sk-toggleable__label-arrow:before {content: \"▾\";}#sk-container-id-5 div.sk-estimator input.sk-toggleable__control:checked~label.sk-toggleable__label {background-color: #d4ebff;}#sk-container-id-5 div.sk-label input.sk-toggleable__control:checked~label.sk-toggleable__label {background-color: #d4ebff;}#sk-container-id-5 input.sk-hidden--visually {border: 0;clip: rect(1px 1px 1px 1px);clip: rect(1px, 1px, 1px, 1px);height: 1px;margin: -1px;overflow: hidden;padding: 0;position: absolute;width: 1px;}#sk-container-id-5 div.sk-estimator {font-family: monospace;background-color: #f0f8ff;border: 1px dotted black;border-radius: 0.25em;box-sizing: border-box;margin-bottom: 0.5em;}#sk-container-id-5 div.sk-estimator:hover {background-color: #d4ebff;}#sk-container-id-5 div.sk-parallel-item::after {content: \"\";width: 100%;border-bottom: 1px solid gray;flex-grow: 1;}#sk-container-id-5 div.sk-label:hover label.sk-toggleable__label {background-color: #d4ebff;}#sk-container-id-5 div.sk-serial::before {content: \"\";position: absolute;border-left: 1px solid gray;box-sizing: border-box;top: 0;bottom: 0;left: 50%;z-index: 0;}#sk-container-id-5 div.sk-serial {display: flex;flex-direction: column;align-items: center;background-color: white;padding-right: 0.2em;padding-left: 0.2em;position: relative;}#sk-container-id-5 div.sk-item {position: relative;z-index: 1;}#sk-container-id-5 div.sk-parallel {display: flex;align-items: stretch;justify-content: center;background-color: white;position: relative;}#sk-container-id-5 div.sk-item::before, #sk-container-id-5 div.sk-parallel-item::before {content: \"\";position: absolute;border-left: 1px solid gray;box-sizing: border-box;top: 0;bottom: 0;left: 50%;z-index: -1;}#sk-container-id-5 div.sk-parallel-item {display: flex;flex-direction: column;z-index: 1;position: relative;background-color: white;}#sk-container-id-5 div.sk-parallel-item:first-child::after {align-self: flex-end;width: 50%;}#sk-container-id-5 div.sk-parallel-item:last-child::after {align-self: flex-start;width: 50%;}#sk-container-id-5 div.sk-parallel-item:only-child::after {width: 0;}#sk-container-id-5 div.sk-dashed-wrapped {border: 1px dashed gray;margin: 0 0.4em 0.5em 0.4em;box-sizing: border-box;padding-bottom: 0.4em;background-color: white;}#sk-container-id-5 div.sk-label label {font-family: monospace;font-weight: bold;display: inline-block;line-height: 1.2em;}#sk-container-id-5 div.sk-label-container {text-align: center;}#sk-container-id-5 div.sk-container {/* jupyter's `normalize.less` sets `[hidden] { display: none; }` but bootstrap.min.css set `[hidden] { display: none !important; }` so we also need the `!important` here to be able to override the default hidden behavior on the sphinx rendered scikit-learn.org. See: https://github.com/scikit-learn/scikit-learn/issues/21755 */display: inline-block !important;position: relative;}#sk-container-id-5 div.sk-text-repr-fallback {display: none;}</style><div id=\"sk-container-id-5\" class=\"sk-top-container\"><div class=\"sk-text-repr-fallback\"><pre>GridSearchCV(cv=10, estimator=RandomForestClassifier(),\n",
              "             param_grid=[{&#x27;max_features&#x27;: [2, 3, 4, 5, 6],\n",
              "                          &#x27;n_estimators&#x27;: [80, 90, 100, 200]}],\n",
              "             verbose=100)</pre><b>In a Jupyter environment, please rerun this cell to show the HTML representation or trust the notebook. <br />On GitHub, the HTML representation is unable to render, please try loading this page with nbviewer.org.</b></div><div class=\"sk-container\" hidden><div class=\"sk-item sk-dashed-wrapped\"><div class=\"sk-label-container\"><div class=\"sk-label sk-toggleable\"><input class=\"sk-toggleable__control sk-hidden--visually\" id=\"sk-estimator-id-7\" type=\"checkbox\" ><label for=\"sk-estimator-id-7\" class=\"sk-toggleable__label sk-toggleable__label-arrow\">GridSearchCV</label><div class=\"sk-toggleable__content\"><pre>GridSearchCV(cv=10, estimator=RandomForestClassifier(),\n",
              "             param_grid=[{&#x27;max_features&#x27;: [2, 3, 4, 5, 6],\n",
              "                          &#x27;n_estimators&#x27;: [80, 90, 100, 200]}],\n",
              "             verbose=100)</pre></div></div></div><div class=\"sk-parallel\"><div class=\"sk-parallel-item\"><div class=\"sk-item\"><div class=\"sk-label-container\"><div class=\"sk-label sk-toggleable\"><input class=\"sk-toggleable__control sk-hidden--visually\" id=\"sk-estimator-id-8\" type=\"checkbox\" ><label for=\"sk-estimator-id-8\" class=\"sk-toggleable__label sk-toggleable__label-arrow\">estimator: RandomForestClassifier</label><div class=\"sk-toggleable__content\"><pre>RandomForestClassifier()</pre></div></div></div><div class=\"sk-serial\"><div class=\"sk-item\"><div class=\"sk-estimator sk-toggleable\"><input class=\"sk-toggleable__control sk-hidden--visually\" id=\"sk-estimator-id-9\" type=\"checkbox\" ><label for=\"sk-estimator-id-9\" class=\"sk-toggleable__label sk-toggleable__label-arrow\">RandomForestClassifier</label><div class=\"sk-toggleable__content\"><pre>RandomForestClassifier()</pre></div></div></div></div></div></div></div></div></div></div>"
            ]
          },
          "metadata": {},
          "execution_count": 71
        }
      ]
    },
    {
      "cell_type": "code",
      "source": [
        "gsv1.best_params_, gsv1.best_score_"
      ],
      "metadata": {
        "colab": {
          "base_uri": "https://localhost:8080/"
        },
        "id": "-F04ydlfUlC-",
        "outputId": "c8b36e8d-6469-4db1-d7d4-acb07270adaa"
      },
      "execution_count": 72,
      "outputs": [
        {
          "output_type": "execute_result",
          "data": {
            "text/plain": [
              "({'max_features': 3, 'n_estimators': 80}, 0.7645833333333333)"
            ]
          },
          "metadata": {},
          "execution_count": 72
        }
      ]
    },
    {
      "cell_type": "code",
      "source": [
        "#let us build RandomForest model with these parameters"
      ],
      "metadata": {
        "id": "W9fufsoyZJf3"
      },
      "execution_count": null,
      "outputs": []
    },
    {
      "cell_type": "code",
      "source": [
        "model_rf=RandomForestClassifier(n_estimators=80, max_features=3)\n",
        "model_rf.fit(X_train, Y_train)\n"
      ],
      "metadata": {
        "colab": {
          "base_uri": "https://localhost:8080/",
          "height": 75
        },
        "id": "XszSjbtbZkdD",
        "outputId": "06f82e41-ce30-4b9f-e798-31e21cc5eced"
      },
      "execution_count": 75,
      "outputs": [
        {
          "output_type": "execute_result",
          "data": {
            "text/plain": [
              "RandomForestClassifier(max_features=3, n_estimators=80)"
            ],
            "text/html": [
              "<style>#sk-container-id-6 {color: black;background-color: white;}#sk-container-id-6 pre{padding: 0;}#sk-container-id-6 div.sk-toggleable {background-color: white;}#sk-container-id-6 label.sk-toggleable__label {cursor: pointer;display: block;width: 100%;margin-bottom: 0;padding: 0.3em;box-sizing: border-box;text-align: center;}#sk-container-id-6 label.sk-toggleable__label-arrow:before {content: \"▸\";float: left;margin-right: 0.25em;color: #696969;}#sk-container-id-6 label.sk-toggleable__label-arrow:hover:before {color: black;}#sk-container-id-6 div.sk-estimator:hover label.sk-toggleable__label-arrow:before {color: black;}#sk-container-id-6 div.sk-toggleable__content {max-height: 0;max-width: 0;overflow: hidden;text-align: left;background-color: #f0f8ff;}#sk-container-id-6 div.sk-toggleable__content pre {margin: 0.2em;color: black;border-radius: 0.25em;background-color: #f0f8ff;}#sk-container-id-6 input.sk-toggleable__control:checked~div.sk-toggleable__content {max-height: 200px;max-width: 100%;overflow: auto;}#sk-container-id-6 input.sk-toggleable__control:checked~label.sk-toggleable__label-arrow:before {content: \"▾\";}#sk-container-id-6 div.sk-estimator input.sk-toggleable__control:checked~label.sk-toggleable__label {background-color: #d4ebff;}#sk-container-id-6 div.sk-label input.sk-toggleable__control:checked~label.sk-toggleable__label {background-color: #d4ebff;}#sk-container-id-6 input.sk-hidden--visually {border: 0;clip: rect(1px 1px 1px 1px);clip: rect(1px, 1px, 1px, 1px);height: 1px;margin: -1px;overflow: hidden;padding: 0;position: absolute;width: 1px;}#sk-container-id-6 div.sk-estimator {font-family: monospace;background-color: #f0f8ff;border: 1px dotted black;border-radius: 0.25em;box-sizing: border-box;margin-bottom: 0.5em;}#sk-container-id-6 div.sk-estimator:hover {background-color: #d4ebff;}#sk-container-id-6 div.sk-parallel-item::after {content: \"\";width: 100%;border-bottom: 1px solid gray;flex-grow: 1;}#sk-container-id-6 div.sk-label:hover label.sk-toggleable__label {background-color: #d4ebff;}#sk-container-id-6 div.sk-serial::before {content: \"\";position: absolute;border-left: 1px solid gray;box-sizing: border-box;top: 0;bottom: 0;left: 50%;z-index: 0;}#sk-container-id-6 div.sk-serial {display: flex;flex-direction: column;align-items: center;background-color: white;padding-right: 0.2em;padding-left: 0.2em;position: relative;}#sk-container-id-6 div.sk-item {position: relative;z-index: 1;}#sk-container-id-6 div.sk-parallel {display: flex;align-items: stretch;justify-content: center;background-color: white;position: relative;}#sk-container-id-6 div.sk-item::before, #sk-container-id-6 div.sk-parallel-item::before {content: \"\";position: absolute;border-left: 1px solid gray;box-sizing: border-box;top: 0;bottom: 0;left: 50%;z-index: -1;}#sk-container-id-6 div.sk-parallel-item {display: flex;flex-direction: column;z-index: 1;position: relative;background-color: white;}#sk-container-id-6 div.sk-parallel-item:first-child::after {align-self: flex-end;width: 50%;}#sk-container-id-6 div.sk-parallel-item:last-child::after {align-self: flex-start;width: 50%;}#sk-container-id-6 div.sk-parallel-item:only-child::after {width: 0;}#sk-container-id-6 div.sk-dashed-wrapped {border: 1px dashed gray;margin: 0 0.4em 0.5em 0.4em;box-sizing: border-box;padding-bottom: 0.4em;background-color: white;}#sk-container-id-6 div.sk-label label {font-family: monospace;font-weight: bold;display: inline-block;line-height: 1.2em;}#sk-container-id-6 div.sk-label-container {text-align: center;}#sk-container-id-6 div.sk-container {/* jupyter's `normalize.less` sets `[hidden] { display: none; }` but bootstrap.min.css set `[hidden] { display: none !important; }` so we also need the `!important` here to be able to override the default hidden behavior on the sphinx rendered scikit-learn.org. See: https://github.com/scikit-learn/scikit-learn/issues/21755 */display: inline-block !important;position: relative;}#sk-container-id-6 div.sk-text-repr-fallback {display: none;}</style><div id=\"sk-container-id-6\" class=\"sk-top-container\"><div class=\"sk-text-repr-fallback\"><pre>RandomForestClassifier(max_features=3, n_estimators=80)</pre><b>In a Jupyter environment, please rerun this cell to show the HTML representation or trust the notebook. <br />On GitHub, the HTML representation is unable to render, please try loading this page with nbviewer.org.</b></div><div class=\"sk-container\" hidden><div class=\"sk-item\"><div class=\"sk-estimator sk-toggleable\"><input class=\"sk-toggleable__control sk-hidden--visually\" id=\"sk-estimator-id-10\" type=\"checkbox\" checked><label for=\"sk-estimator-id-10\" class=\"sk-toggleable__label sk-toggleable__label-arrow\">RandomForestClassifier</label><div class=\"sk-toggleable__content\"><pre>RandomForestClassifier(max_features=3, n_estimators=80)</pre></div></div></div></div></div>"
            ]
          },
          "metadata": {},
          "execution_count": 75
        }
      ]
    },
    {
      "cell_type": "code",
      "source": [
        "kfold=KFold(n_splits=10, random_state=7, shuffle=True)"
      ],
      "metadata": {
        "id": "WVSt4IkdaUSW"
      },
      "execution_count": 83,
      "outputs": []
    },
    {
      "cell_type": "code",
      "source": [
        "results=cross_val_score(model_rf, X, Y, cv=kfold)\n",
        "print(results.mean())"
      ],
      "metadata": {
        "colab": {
          "base_uri": "https://localhost:8080/"
        },
        "id": "oeqNRRU5abCL",
        "outputId": "c5ab5a2c-67d3-48e7-ae07-12aacc55926a"
      },
      "execution_count": 84,
      "outputs": [
        {
          "output_type": "stream",
          "name": "stdout",
          "text": [
            "0.735\n"
          ]
        }
      ]
    },
    {
      "cell_type": "code",
      "source": [
        "tr_pred=model_rf.predict(X_train)"
      ],
      "metadata": {
        "id": "kFWsSPZQZ4l7"
      },
      "execution_count": 77,
      "outputs": []
    },
    {
      "cell_type": "code",
      "source": [
        "confusion_matrix(Y_train, tr_pred)\n",
        "#only 1 miss classification"
      ],
      "metadata": {
        "colab": {
          "base_uri": "https://localhost:8080/"
        },
        "id": "BLwgdUDrfp4_",
        "outputId": "f5c6aed4-643a-47f7-c2c6-754c8c3b1d8f"
      },
      "execution_count": 89,
      "outputs": [
        {
          "output_type": "execute_result",
          "data": {
            "text/plain": [
              "array([[ 97,   1],\n",
              "       [  0, 382]])"
            ]
          },
          "metadata": {},
          "execution_count": 89
        }
      ]
    },
    {
      "cell_type": "code",
      "source": [
        "print(classification_report(Y_train, tr_pred))\n",
        "#accuracy is very high"
      ],
      "metadata": {
        "colab": {
          "base_uri": "https://localhost:8080/"
        },
        "id": "FgkWDyTrgTfR",
        "outputId": "f334acdf-0fdf-4999-beab-3fe762f33855"
      },
      "execution_count": 90,
      "outputs": [
        {
          "output_type": "stream",
          "name": "stdout",
          "text": [
            "              precision    recall  f1-score   support\n",
            "\n",
            "         0.0       1.00      0.99      0.99        98\n",
            "         1.0       1.00      1.00      1.00       382\n",
            "\n",
            "    accuracy                           1.00       480\n",
            "   macro avg       1.00      0.99      1.00       480\n",
            "weighted avg       1.00      1.00      1.00       480\n",
            "\n"
          ]
        }
      ]
    },
    {
      "cell_type": "code",
      "source": [
        "accuracy_score(Y_train, tr_pred)   ###we have 99.79% accuracy for our training data"
      ],
      "metadata": {
        "colab": {
          "base_uri": "https://localhost:8080/"
        },
        "id": "FHY1zJiqgqZX",
        "outputId": "1db6cba3-e564-4d7d-9407-d1b12e92ec73"
      },
      "execution_count": 91,
      "outputs": [
        {
          "output_type": "execute_result",
          "data": {
            "text/plain": [
              "0.9979166666666667"
            ]
          },
          "metadata": {},
          "execution_count": 91
        }
      ]
    },
    {
      "cell_type": "code",
      "source": [
        "te_pred=model_rf.predict(X_test)\n",
        "confusion_matrix(Y_test, te_pred)\n",
        "#we have 29 miss classification"
      ],
      "metadata": {
        "colab": {
          "base_uri": "https://localhost:8080/"
        },
        "id": "jteJJdEmeHAi",
        "outputId": "acff31fc-d32d-4b08-d2c9-b502c308e23a"
      },
      "execution_count": 93,
      "outputs": [
        {
          "output_type": "execute_result",
          "data": {
            "text/plain": [
              "array([[ 1, 25],\n",
              "       [ 4, 90]])"
            ]
          },
          "metadata": {},
          "execution_count": 93
        }
      ]
    },
    {
      "cell_type": "code",
      "source": [
        "print(classification_report(Y_test, te_pred))"
      ],
      "metadata": {
        "colab": {
          "base_uri": "https://localhost:8080/"
        },
        "id": "ynso6Kcyg_pT",
        "outputId": "17900738-cddd-4c28-d695-30514937af7b"
      },
      "execution_count": 94,
      "outputs": [
        {
          "output_type": "stream",
          "name": "stdout",
          "text": [
            "              precision    recall  f1-score   support\n",
            "\n",
            "         0.0       0.20      0.04      0.06        26\n",
            "         1.0       0.78      0.96      0.86        94\n",
            "\n",
            "    accuracy                           0.76       120\n",
            "   macro avg       0.49      0.50      0.46       120\n",
            "weighted avg       0.66      0.76      0.69       120\n",
            "\n"
          ]
        }
      ]
    },
    {
      "cell_type": "code",
      "source": [
        "accuracy_score(Y_test, te_pred)"
      ],
      "metadata": {
        "colab": {
          "base_uri": "https://localhost:8080/"
        },
        "id": "YrVQNPyfhIEJ",
        "outputId": "a3e75a90-e71c-4bbd-8f44-f3a640303e7a"
      },
      "execution_count": 95,
      "outputs": [
        {
          "output_type": "execute_result",
          "data": {
            "text/plain": [
              "0.7583333333333333"
            ]
          },
          "metadata": {},
          "execution_count": 95
        }
      ]
    },
    {
      "cell_type": "code",
      "source": [
        "#accuracy for testing data is 75%"
      ],
      "metadata": {
        "id": "IV8jWg7yhQv9"
      },
      "execution_count": null,
      "outputs": []
    }
  ]
}